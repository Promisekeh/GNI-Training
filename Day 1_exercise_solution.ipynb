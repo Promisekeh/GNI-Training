{
 "cells": [
  {
   "cell_type": "markdown",
   "metadata": {},
   "source": [
    "# Python Training Basics for Data Visualization- Week 1 Excercise"
   ]
  },
  {
   "cell_type": "markdown",
   "metadata": {},
   "source": [
    "Please attempt all questions"
   ]
  },
  {
   "cell_type": "code",
   "execution_count": 1,
   "metadata": {},
   "outputs": [
    {
     "data": {
      "text/html": [
       "<iframe width=\"560\" height=\"315\" \n",
       "        src=\"https://www.youtube-nocookie.com/embed/R570j9oBBZg?si=bDi7YTD60XGC1xvX\" \n",
       "        </iframe>\n"
      ],
      "text/plain": [
       "<IPython.core.display.HTML object>"
      ]
     },
     "metadata": {},
     "output_type": "display_data"
    }
   ],
   "source": [
    "%%HTML\n",
    "<iframe width=\"560\" height=\"315\" \n",
    "        src=\"https://www.youtube-nocookie.com/embed/R570j9oBBZg?si=bDi7YTD60XGC1xvX\" \n",
    "        </iframe>"
   ]
  },
  {
   "cell_type": "markdown",
   "metadata": {},
   "source": [
    "## Question 1\n",
    "Create a variable called \"name\" and assign it the value of your name as a string.  \n",
    "Then print \"Hello my name is {name}\".\n",
    "\n",
    "***Hint: Use formatted string***"
   ]
  },
  {
   "cell_type": "code",
   "execution_count": 2,
   "metadata": {},
   "outputs": [
    {
     "name": "stdout",
     "output_type": "stream",
     "text": [
      "Hello my name is  ore\n"
     ]
    }
   ],
   "source": [
    "# write code here\n",
    "name = 'ore'\n",
    "\n",
    "print('Hello my name is ', name)"
   ]
  },
  {
   "cell_type": "code",
   "execution_count": 3,
   "metadata": {},
   "outputs": [
    {
     "name": "stdout",
     "output_type": "stream",
     "text": [
      "Hello my name is ore\n"
     ]
    }
   ],
   "source": [
    "print('Hello my name is ' + name)"
   ]
  },
  {
   "cell_type": "code",
   "execution_count": 5,
   "metadata": {},
   "outputs": [
    {
     "name": "stdout",
     "output_type": "stream",
     "text": [
      "Hello my name is ore\n"
     ]
    }
   ],
   "source": [
    "print(f'Hello my name is {name}')"
   ]
  },
  {
   "cell_type": "code",
   "execution_count": 6,
   "metadata": {},
   "outputs": [
    {
     "name": "stdout",
     "output_type": "stream",
     "text": [
      "Hello my name is ore\n"
     ]
    }
   ],
   "source": [
    "print('Hello my name is ore')"
   ]
  },
  {
   "cell_type": "markdown",
   "metadata": {},
   "source": [
    "## Question 2\n",
    "Write a program to find how many times substring “Emma” appears in txt."
   ]
  },
  {
   "cell_type": "code",
   "execution_count": 8,
   "metadata": {},
   "outputs": [],
   "source": [
    "txt = \"\"\"\n",
    "Emma sat at her desk, staring at the blank page in front of her. \n",
    "She had been tasked with writing a paper on Emma by Jane Austen, \n",
    "but her mind was drawing a blank. She decided to take a break and make herself a cup of tea. \n",
    "As she sipped her tea, she couldn't help but think about the main character of the book, Emma Woodhouse. \n",
    "Emma Woodhouse was a strong-willed and independent woman, much like herself. Emma smiled to herself, \n",
    "feeling a newfound appreciation for the book. \n",
    "She returned to her desk and began typing away, determined to do justice to the character of Emma. \n",
    "As she wrote, she couldn't help but notice the similarities between herself and Emma Woodhouse. \n",
    "Both were strong-willed and independent, but also had a tendency to be a little too confident in their own abilities. \n",
    "Emma couldn't help but chuckle at the irony of it all. She continued to write, feeling more and more connected to the character of Emma as she did so. \n",
    "Emma was truly an inspiration to her, and she was grateful to have the opportunity to write about her. \n",
    "Emma Woodhouse, Emma thought, was truly one of literature's greatest heroines.\n",
    "\"\"\""
   ]
  },
  {
   "cell_type": "code",
   "execution_count": 12,
   "metadata": {},
   "outputs": [
    {
     "data": {
      "text/plain": [
       "12"
      ]
     },
     "execution_count": 12,
     "metadata": {},
     "output_type": "execute_result"
    }
   ],
   "source": [
    "#write code here\n",
    "txt.count('Emma')"
   ]
  },
  {
   "cell_type": "code",
   "execution_count": 10,
   "metadata": {},
   "outputs": [
    {
     "data": {
      "text/plain": [
       "9"
      ]
     },
     "execution_count": 10,
     "metadata": {},
     "output_type": "execute_result"
    }
   ],
   "source": [
    "txt.count('at')"
   ]
  },
  {
   "cell_type": "markdown",
   "metadata": {},
   "source": [
    "## Question 3\n",
    "Create a new list without duplicates  \n",
    "\n",
    "Print out the length of the list before and after removing duplicates"
   ]
  },
  {
   "cell_type": "code",
   "execution_count": 13,
   "metadata": {},
   "outputs": [],
   "source": [
    "dup_col = ['green', 'blue', 'white', 'red', 'green', 'purple', 'blue', 'yellow' ]"
   ]
  },
  {
   "cell_type": "code",
   "execution_count": 14,
   "metadata": {},
   "outputs": [
    {
     "name": "stdout",
     "output_type": "stream",
     "text": [
      "8\n",
      "6\n"
     ]
    },
    {
     "data": {
      "text/plain": [
       "['purple', 'yellow', 'white', 'green', 'red', 'blue']"
      ]
     },
     "execution_count": 14,
     "metadata": {},
     "output_type": "execute_result"
    }
   ],
   "source": [
    "#write code here\n",
    "\n",
    "print(len(dup_col))\n",
    "\n",
    "non_dup = list(set(dup_col))\n",
    "print(len(non_dup))\n",
    "non_dup"
   ]
  },
  {
   "cell_type": "code",
   "execution_count": null,
   "metadata": {},
   "outputs": [],
   "source": []
  },
  {
   "cell_type": "markdown",
   "metadata": {},
   "source": [
    "## Question 4\n",
    "Create a dictionary using the  keys and value  lists\n",
    "\n",
    "***hint**: use zip function*"
   ]
  },
  {
   "cell_type": "code",
   "execution_count": 16,
   "metadata": {},
   "outputs": [],
   "source": [
    "keys= ['key1', 'key2', 'key3', 'key4', 'key5']\n",
    "values = ['value1', 'value2', 'value3', 'value4', 'value5']"
   ]
  },
  {
   "cell_type": "code",
   "execution_count": 19,
   "metadata": {},
   "outputs": [
    {
     "data": {
      "text/plain": [
       "{'key1': 'value1',\n",
       " 'key2': 'value2',\n",
       " 'key3': 'value3',\n",
       " 'key4': 'value4',\n",
       " 'key5': 'value5'}"
      ]
     },
     "execution_count": 19,
     "metadata": {},
     "output_type": "execute_result"
    }
   ],
   "source": [
    "# write code here\n",
    "\n",
    "my_dict = dict(zip(keys, values))\n",
    "my_dict"
   ]
  },
  {
   "cell_type": "markdown",
   "metadata": {},
   "source": [
    "## Question 5\n",
    "Write a program that Outputs :  \n",
    "The  GNI Python course starts from : 21/01/2022 and ends  11/02/2023, using the variables course_st_date and course_end_date "
   ]
  },
  {
   "cell_type": "code",
   "execution_count": 20,
   "metadata": {},
   "outputs": [],
   "source": [
    "course_st_date = '21, 01, 2023'\n",
    "course_end_date = '11, 2, 2023'\n",
    "\n",
    "#write code here\n",
    "#hint: use replace method"
   ]
  },
  {
   "cell_type": "code",
   "execution_count": 21,
   "metadata": {},
   "outputs": [
    {
     "data": {
      "text/plain": [
       "'21/01/2023'"
      ]
     },
     "execution_count": 21,
     "metadata": {},
     "output_type": "execute_result"
    }
   ],
   "source": [
    "course_st_date.replace(', ', '/')"
   ]
  },
  {
   "cell_type": "code",
   "execution_count": 22,
   "metadata": {},
   "outputs": [
    {
     "name": "stdout",
     "output_type": "stream",
     "text": [
      "The GNI Python Course starts from 21/01/2023, to 11/2/2023\n"
     ]
    }
   ],
   "source": [
    "course_st_date = course_st_date.replace(', ', '/')\n",
    "course_end_date = course_end_date.replace(', ', '/')\n",
    "print(f'The GNI Python Course starts from {course_st_date} to {course_end_date}')"
   ]
  },
  {
   "cell_type": "code",
   "execution_count": 24,
   "metadata": {},
   "outputs": [
    {
     "name": "stdout",
     "output_type": "stream",
     "text": [
      "The GNI Python Course starts from 21/01/2023 to 11/2/2023\n"
     ]
    }
   ],
   "source": [
    "print('The GNI Python Course starts from '  + course_st_date+ ' to ' + course_end_date)"
   ]
  },
  {
   "cell_type": "markdown",
   "metadata": {},
   "source": [
    "## Question 6\n",
    "* Count all letters and digits in **code**  \n",
    "* Check if a string/character is an alphabet   \n",
    "* Check if a string/character is a digit   \n",
    "* Calculate the sum and average of the digits present in a string  \n",
    "\n",
    "*Hints: isalpha() and isdigit()*\n",
    "\n"
   ]
  },
  {
   "cell_type": "code",
   "execution_count": 39,
   "metadata": {},
   "outputs": [],
   "source": [
    "code = 'LKJ1234DG56GX9TV'\n",
    "alpha = []\n",
    "digits = []\n",
    "for t in code:\n",
    "    if t.isalpha():\n",
    "        alpha.append(t)\n",
    "    elif t.isnumeric():\n",
    "        digits.append(int(t))"
   ]
  },
  {
   "cell_type": "code",
   "execution_count": 40,
   "metadata": {},
   "outputs": [
    {
     "data": {
      "text/plain": [
       "['L', 'K', 'J', 'D', 'G', 'G', 'X', 'T', 'V']"
      ]
     },
     "execution_count": 40,
     "metadata": {},
     "output_type": "execute_result"
    }
   ],
   "source": [
    "alpha"
   ]
  },
  {
   "cell_type": "code",
   "execution_count": 41,
   "metadata": {},
   "outputs": [
    {
     "data": {
      "text/plain": [
       "[1, 2, 3, 4, 5, 6, 9]"
      ]
     },
     "execution_count": 41,
     "metadata": {},
     "output_type": "execute_result"
    }
   ],
   "source": [
    "digits"
   ]
  },
  {
   "cell_type": "code",
   "execution_count": 38,
   "metadata": {},
   "outputs": [
    {
     "name": "stdout",
     "output_type": "stream",
     "text": [
      "30\n"
     ]
    }
   ],
   "source": [
    "print(sum(digits))"
   ]
  },
  {
   "cell_type": "code",
   "execution_count": 42,
   "metadata": {},
   "outputs": [
    {
     "name": "stdout",
     "output_type": "stream",
     "text": [
      "4.285714285714286\n"
     ]
    }
   ],
   "source": [
    "print(sum(digits)/ len(digits))"
   ]
  },
  {
   "cell_type": "markdown",
   "metadata": {},
   "source": [
    "## Question 7\n",
    "* Print out the length of the list\n",
    "* Sort List using the last letter in each item"
   ]
  },
  {
   "cell_type": "code",
   "execution_count": 43,
   "metadata": {},
   "outputs": [],
   "source": [
    "animals = ['Tiger', 'Bear', 'Elephant', 'Giraffe', 'Zebra', 'Gorilla', \n",
    "            'Monkey', 'Hippopotamus', 'Crocodile', 'Shark', 'Dolphin', 'Deer', 'Elk' ]"
   ]
  },
  {
   "cell_type": "code",
   "execution_count": 45,
   "metadata": {},
   "outputs": [
    {
     "name": "stdout",
     "output_type": "stream",
     "text": [
      "13\n"
     ]
    }
   ],
   "source": [
    "#write code here\n",
    "print(len(animals))"
   ]
  },
  {
   "cell_type": "code",
   "execution_count": 46,
   "metadata": {},
   "outputs": [
    {
     "data": {
      "text/plain": [
       "['Zebra',\n",
       " 'Tiger',\n",
       " 'Shark',\n",
       " 'Monkey',\n",
       " 'Hippopotamus',\n",
       " 'Gorilla',\n",
       " 'Giraffe',\n",
       " 'Elk',\n",
       " 'Elephant',\n",
       " 'Dolphin',\n",
       " 'Deer',\n",
       " 'Crocodile',\n",
       " 'Bear']"
      ]
     },
     "execution_count": 46,
     "metadata": {},
     "output_type": "execute_result"
    }
   ],
   "source": [
    "animals.sort(reverse=True)\n",
    "animals"
   ]
  },
  {
   "cell_type": "code",
   "execution_count": 47,
   "metadata": {},
   "outputs": [],
   "source": [
    "def lastword (x):\n",
    "    return x[-1]"
   ]
  },
  {
   "cell_type": "code",
   "execution_count": 48,
   "metadata": {},
   "outputs": [
    {
     "data": {
      "text/plain": [
       "['Zebra',\n",
       " 'Gorilla',\n",
       " 'Giraffe',\n",
       " 'Crocodile',\n",
       " 'Shark',\n",
       " 'Elk',\n",
       " 'Dolphin',\n",
       " 'Tiger',\n",
       " 'Deer',\n",
       " 'Bear',\n",
       " 'Hippopotamus',\n",
       " 'Elephant',\n",
       " 'Monkey']"
      ]
     },
     "execution_count": 48,
     "metadata": {},
     "output_type": "execute_result"
    }
   ],
   "source": [
    "animals.sort(key=lastword)\n",
    "animals"
   ]
  },
  {
   "cell_type": "code",
   "execution_count": 49,
   "metadata": {},
   "outputs": [
    {
     "data": {
      "text/plain": [
       "['Zebra',\n",
       " 'Gorilla',\n",
       " 'Giraffe',\n",
       " 'Crocodile',\n",
       " 'Shark',\n",
       " 'Elk',\n",
       " 'Dolphin',\n",
       " 'Tiger',\n",
       " 'Deer',\n",
       " 'Bear',\n",
       " 'Hippopotamus',\n",
       " 'Elephant',\n",
       " 'Monkey']"
      ]
     },
     "execution_count": 49,
     "metadata": {},
     "output_type": "execute_result"
    }
   ],
   "source": [
    "animals.sort(key=lambda x: x[-1])\n",
    "animals"
   ]
  },
  {
   "cell_type": "markdown",
   "metadata": {},
   "source": [
    "## Question 8\n",
    "\n",
    "https://www.w3schools.com/python/python_for_loops.asp  \n",
    "Create two empty lists called even_num and odd_num  \n",
    "Loop through range of numbers from 1-50 and collect all even number to even_num and odd numbers to odd_num\n"
   ]
  },
  {
   "cell_type": "code",
   "execution_count": 55,
   "metadata": {},
   "outputs": [
    {
     "data": {
      "text/plain": [
       "0"
      ]
     },
     "execution_count": 55,
     "metadata": {},
     "output_type": "execute_result"
    }
   ],
   "source": [
    "6%2"
   ]
  },
  {
   "cell_type": "code",
   "execution_count": 57,
   "metadata": {},
   "outputs": [],
   "source": [
    "#write code here\n",
    "even_num = []\n",
    "odd_num = []\n",
    "\n",
    "for r in range(50):\n",
    "    if r%2 ==0:\n",
    "        even_num.append(r)\n",
    "    else:\n",
    "        odd_num.append(r)"
   ]
  },
  {
   "cell_type": "code",
   "execution_count": 58,
   "metadata": {},
   "outputs": [
    {
     "data": {
      "text/plain": [
       "[0,\n",
       " 2,\n",
       " 4,\n",
       " 6,\n",
       " 8,\n",
       " 10,\n",
       " 12,\n",
       " 14,\n",
       " 16,\n",
       " 18,\n",
       " 20,\n",
       " 22,\n",
       " 24,\n",
       " 26,\n",
       " 28,\n",
       " 30,\n",
       " 32,\n",
       " 34,\n",
       " 36,\n",
       " 38,\n",
       " 40,\n",
       " 42,\n",
       " 44,\n",
       " 46,\n",
       " 48]"
      ]
     },
     "execution_count": 58,
     "metadata": {},
     "output_type": "execute_result"
    }
   ],
   "source": [
    "even_num"
   ]
  },
  {
   "cell_type": "code",
   "execution_count": 59,
   "metadata": {},
   "outputs": [
    {
     "data": {
      "text/plain": [
       "[1,\n",
       " 3,\n",
       " 5,\n",
       " 7,\n",
       " 9,\n",
       " 11,\n",
       " 13,\n",
       " 15,\n",
       " 17,\n",
       " 19,\n",
       " 21,\n",
       " 23,\n",
       " 25,\n",
       " 27,\n",
       " 29,\n",
       " 31,\n",
       " 33,\n",
       " 35,\n",
       " 37,\n",
       " 39,\n",
       " 41,\n",
       " 43,\n",
       " 45,\n",
       " 47,\n",
       " 49]"
      ]
     },
     "execution_count": 59,
     "metadata": {},
     "output_type": "execute_result"
    }
   ],
   "source": [
    "odd_num"
   ]
  },
  {
   "cell_type": "markdown",
   "metadata": {},
   "source": [
    "## Question 9\n",
    "Create a function that takes in radius of a circle as arguement and returns the area of the circle"
   ]
  },
  {
   "cell_type": "code",
   "execution_count": 60,
   "metadata": {},
   "outputs": [],
   "source": [
    "#Write code here\n",
    "\n",
    "def area_of_circle(radius):\n",
    "    pi = 22/7\n",
    "    return pi * radius**2"
   ]
  },
  {
   "cell_type": "code",
   "execution_count": 61,
   "metadata": {},
   "outputs": [
    {
     "data": {
      "text/plain": [
       "154.0"
      ]
     },
     "execution_count": 61,
     "metadata": {},
     "output_type": "execute_result"
    }
   ],
   "source": [
    "area_of_circle(7)"
   ]
  },
  {
   "cell_type": "code",
   "execution_count": 62,
   "metadata": {},
   "outputs": [],
   "source": [
    "import math\n",
    "\n",
    "def area_of_circle2(r):\n",
    "    area = math.pi * r* r\n",
    "    return area"
   ]
  },
  {
   "cell_type": "code",
   "execution_count": 63,
   "metadata": {},
   "outputs": [
    {
     "data": {
      "text/plain": [
       "153.93804002589985"
      ]
     },
     "execution_count": 63,
     "metadata": {},
     "output_type": "execute_result"
    }
   ],
   "source": [
    "area_of_circle2(7)"
   ]
  },
  {
   "cell_type": "markdown",
   "metadata": {},
   "source": [
    "## Question 10\n",
    "Create a function called 'square' that takes in a number as arguement and returns the square of the number."
   ]
  },
  {
   "cell_type": "code",
   "execution_count": 68,
   "metadata": {},
   "outputs": [],
   "source": [
    "#write code here\n",
    "def square(num):\n",
    "    sq = num**2\n",
    "    num + 2\n",
    "    return sq"
   ]
  },
  {
   "cell_type": "code",
   "execution_count": 66,
   "metadata": {},
   "outputs": [
    {
     "data": {
      "text/plain": [
       "81"
      ]
     },
     "execution_count": 66,
     "metadata": {},
     "output_type": "execute_result"
    }
   ],
   "source": [
    "square(9)"
   ]
  },
  {
   "cell_type": "code",
   "execution_count": null,
   "metadata": {},
   "outputs": [],
   "source": []
  }
 ],
 "metadata": {
  "kernelspec": {
   "display_name": "Python 3 (ipykernel)",
   "language": "python",
   "name": "python3"
  },
  "language_info": {
   "codemirror_mode": {
    "name": "ipython",
    "version": 3
   },
   "file_extension": ".py",
   "mimetype": "text/x-python",
   "name": "python",
   "nbconvert_exporter": "python",
   "pygments_lexer": "ipython3",
   "version": "3.12.2"
  },
  "vscode": {
   "interpreter": {
    "hash": "f791c376c7e6fab72abd90932b90374cf4dda93cb226ee26e3ef6c3ff377eadc"
   }
  }
 },
 "nbformat": 4,
 "nbformat_minor": 2
}
