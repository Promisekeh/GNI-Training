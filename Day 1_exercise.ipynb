{
 "cells": [
  {
   "attachments": {},
   "cell_type": "markdown",
   "metadata": {},
   "source": [
    "# Python Training Basics for Data Visualization- Week 1 Excercise"
   ]
  },
  {
   "attachments": {},
   "cell_type": "markdown",
   "metadata": {},
   "source": [
    "Please attempt all questions"
   ]
  },
  {
   "attachments": {},
   "cell_type": "markdown",
   "metadata": {},
   "source": [
    "## Question 1\n",
    "Create a variable called \"name\" and assign it the value of your name as a string.  \n",
    "Then print \"Hello my name is {name}\".\n",
    "\n",
    "***Hint: Use formatted string***"
   ]
  },
  {
   "cell_type": "code",
   "execution_count": 4,
   "metadata": {},
   "outputs": [],
   "source": [
    "#write code here"
   ]
  },
  {
   "attachments": {},
   "cell_type": "markdown",
   "metadata": {},
   "source": [
    "## Question 2\n",
    "Write a program to find how many times substring “Emma” appears in txt."
   ]
  },
  {
   "cell_type": "code",
   "execution_count": null,
   "metadata": {},
   "outputs": [],
   "source": [
    "txt = \"\"\"\n",
    "Emma sat at her desk, staring at the blank page in front of her. \n",
    "She had been tasked with writing a paper on Emma by Jane Austen, \n",
    "but her mind was drawing a blank. She decided to take a break and make herself a cup of tea. \n",
    "As she sipped her tea, she couldn't help but think about the main character of the book, Emma Woodhouse. \n",
    "Emma Woodhouse was a strong-willed and independent woman, much like herself. Emma smiled to herself, \n",
    "feeling a newfound appreciation for the book. \n",
    "She returned to her desk and began typing away, determined to do justice to the character of Emma. \n",
    "As she wrote, she couldn't help but notice the similarities between herself and Emma Woodhouse. \n",
    "Both were strong-willed and independent, but also had a tendency to be a little too confident in their own abilities. \n",
    "Emma couldn't help but chuckle at the irony of it all. She continued to write, feeling more and more connected to the character of Emma as she did so. \n",
    "Emma was truly an inspiration to her, and she was grateful to have the opportunity to write about her. \n",
    "Emma Woodhouse, Emma thought, was truly one of literature's greatest heroines.\n",
    "\"\"\""
   ]
  },
  {
   "cell_type": "code",
   "execution_count": 1,
   "metadata": {},
   "outputs": [],
   "source": [
    "#write code here"
   ]
  },
  {
   "attachments": {},
   "cell_type": "markdown",
   "metadata": {},
   "source": [
    "## Question 3\n",
    "Create a new list without duplicates  \n",
    "\n",
    "Print out the length of the list before and after removing duplicates"
   ]
  },
  {
   "cell_type": "code",
   "execution_count": null,
   "metadata": {},
   "outputs": [],
   "source": [
    "dup_col = ['green', 'blue', 'white', 'red', 'green', 'purple', 'blue', 'yellow' ]"
   ]
  },
  {
   "cell_type": "code",
   "execution_count": null,
   "metadata": {},
   "outputs": [],
   "source": [
    "#write code here"
   ]
  },
  {
   "attachments": {},
   "cell_type": "markdown",
   "metadata": {},
   "source": [
    "## Question 4\n",
    "Create a dictionary using the  keys and value  lists\n",
    "\n",
    "***hint**: use zip function*"
   ]
  },
  {
   "cell_type": "code",
   "execution_count": null,
   "metadata": {},
   "outputs": [],
   "source": [
    "keys= ['key1', 'key2', 'key3', 'key4', 'key5']\n",
    "values = ['value1', 'value2', 'value3', 'value4', 'value5']"
   ]
  },
  {
   "cell_type": "code",
   "execution_count": 2,
   "metadata": {},
   "outputs": [],
   "source": [
    "# write code here"
   ]
  },
  {
   "attachments": {},
   "cell_type": "markdown",
   "metadata": {},
   "source": [
    "## Question 5\n",
    "Write a program that Outputs :  \n",
    "The  GNI Python course starts from : 21/01/2022 and ends  11/02/2023, using the variables course_st_date and course_end_date "
   ]
  },
  {
   "cell_type": "code",
   "execution_count": null,
   "metadata": {},
   "outputs": [],
   "source": [
    "course_st_date = '21, 01, 2023'\n",
    "course_end_date = '11, 2, 2023'\n",
    "\n",
    "#write code here\n",
    "#hint: use replace method"
   ]
  },
  {
   "attachments": {},
   "cell_type": "markdown",
   "metadata": {},
   "source": [
    "## Question 6\n",
    "Count all letters and digits in **code**  \n",
    "Check if a string/character is an alphabet   \n",
    "Check if a string/character is a digit   \n",
    "Calculate the sum and average of the digits present in a string  \n",
    "\n",
    "*Hints: isalpha() and isdigit()*\n",
    "\n"
   ]
  },
  {
   "cell_type": "code",
   "execution_count": null,
   "metadata": {},
   "outputs": [],
   "source": [
    "code = 'LKJ1234DG56GX9TV'"
   ]
  },
  {
   "attachments": {},
   "cell_type": "markdown",
   "metadata": {},
   "source": [
    "## Question 7\n",
    "* Print out the length of the list\n",
    "* Sort List using the last letter in each item"
   ]
  },
  {
   "cell_type": "code",
   "execution_count": 5,
   "metadata": {},
   "outputs": [],
   "source": [
    "animals = ['Tiger', 'Bear', 'Elephant', 'Giraffe', 'Zebra', 'Gorilla', \n",
    "            'Monkey', 'Hippopotamus', 'Crocodile', 'Shark', 'Dolphin', 'Deer', 'Elk' ]"
   ]
  },
  {
   "cell_type": "code",
   "execution_count": 6,
   "metadata": {},
   "outputs": [],
   "source": [
    "#write code here"
   ]
  },
  {
   "attachments": {},
   "cell_type": "markdown",
   "metadata": {},
   "source": [
    "## Question 8\n",
    "\n",
    "https://www.w3schools.com/python/python_for_loops.asp  \n",
    "Create two empty lists called even_num and odd_num  \n",
    "Loop through range of numbers from 1-50 and collect all even number to even_num and odd numbers to odd_num\n"
   ]
  },
  {
   "cell_type": "code",
   "execution_count": null,
   "metadata": {},
   "outputs": [],
   "source": [
    "#write code here"
   ]
  },
  {
   "attachments": {},
   "cell_type": "markdown",
   "metadata": {},
   "source": [
    "## Question 9\n",
    "Create a function that takes in radius of a circle as arguement and returns the area of the circle"
   ]
  },
  {
   "cell_type": "code",
   "execution_count": null,
   "metadata": {},
   "outputs": [],
   "source": [
    "#Write code here"
   ]
  },
  {
   "attachments": {},
   "cell_type": "markdown",
   "metadata": {},
   "source": [
    "## Question 10\n",
    "Create a function called 'square' that takes in a number as arguement and returns the square of the number."
   ]
  },
  {
   "cell_type": "code",
   "execution_count": 3,
   "metadata": {},
   "outputs": [],
   "source": [
    "#write code here"
   ]
  },
  {
   "cell_type": "code",
   "execution_count": null,
   "metadata": {},
   "outputs": [],
   "source": []
  }
 ],
 "metadata": {
  "kernelspec": {
   "display_name": "python_env",
   "language": "python",
   "name": "python3"
  },
  "language_info": {
   "codemirror_mode": {
    "name": "ipython",
    "version": 3
   },
   "file_extension": ".py",
   "mimetype": "text/x-python",
   "name": "python",
   "nbconvert_exporter": "python",
   "pygments_lexer": "ipython3",
   "version": "3.9.13"
  },
  "orig_nbformat": 4,
  "vscode": {
   "interpreter": {
    "hash": "f791c376c7e6fab72abd90932b90374cf4dda93cb226ee26e3ef6c3ff377eadc"
   }
  }
 },
 "nbformat": 4,
 "nbformat_minor": 2
}
