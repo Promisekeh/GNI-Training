{
 "cells": [
  {
   "cell_type": "markdown",
   "id": "e16c6ebb",
   "metadata": {},
   "source": [
    "# Week 2: \n",
    "- Arithmetic Operations\n",
    "- Numpy\n",
    "- Data, Wrangling/Cleaning, Python Libraries."
   ]
  },
  {
   "cell_type": "markdown",
   "id": "33d2d1cd",
   "metadata": {},
   "source": [
    "## Arithmetic Operations\n",
    "* addition\n",
    "* subratction\n",
    "* division\n",
    "* Multiplication"
   ]
  },
  {
   "cell_type": "code",
   "execution_count": 1,
   "id": "6b6a8506",
   "metadata": {},
   "outputs": [
    {
     "data": {
      "text/html": [
       "<iframe width=\"560\" height=\"315\" \n",
       "        src=\"https://www.youtube-nocookie.com/embed/_yspSvJoPII?si=L-ZQ438gYFNLS_S6\" \n",
       "        </iframe>\n"
      ],
      "text/plain": [
       "<IPython.core.display.HTML object>"
      ]
     },
     "metadata": {},
     "output_type": "display_data"
    }
   ],
   "source": [
    "%%HTML\n",
    "<iframe width=\"560\" height=\"315\" \n",
    "        src=\"https://www.youtube-nocookie.com/embed/_yspSvJoPII?si=L-ZQ438gYFNLS_S6\" \n",
    "        </iframe>"
   ]
  },
  {
   "cell_type": "code",
   "execution_count": 1,
   "id": "f7c129aa",
   "metadata": {},
   "outputs": [
    {
     "data": {
      "text/plain": [
       "8"
      ]
     },
     "execution_count": 1,
     "metadata": {},
     "output_type": "execute_result"
    }
   ],
   "source": [
    "3 + 5"
   ]
  },
  {
   "cell_type": "code",
   "execution_count": 2,
   "id": "f3041348",
   "metadata": {},
   "outputs": [
    {
     "data": {
      "text/plain": [
       "28"
      ]
     },
     "execution_count": 2,
     "metadata": {},
     "output_type": "execute_result"
    }
   ],
   "source": [
    "4 * 7"
   ]
  },
  {
   "cell_type": "code",
   "execution_count": 3,
   "id": "f11b6f8a",
   "metadata": {},
   "outputs": [
    {
     "data": {
      "text/plain": [
       "3.0"
      ]
     },
     "execution_count": 3,
     "metadata": {},
     "output_type": "execute_result"
    }
   ],
   "source": [
    "9/3\n"
   ]
  },
  {
   "cell_type": "code",
   "execution_count": 4,
   "id": "1db606bf",
   "metadata": {},
   "outputs": [
    {
     "data": {
      "text/plain": [
       "2"
      ]
     },
     "execution_count": 4,
     "metadata": {},
     "output_type": "execute_result"
    }
   ],
   "source": [
    "7-5"
   ]
  },
  {
   "cell_type": "code",
   "execution_count": 5,
   "id": "871228f8",
   "metadata": {},
   "outputs": [
    {
     "data": {
      "text/plain": [
       "1"
      ]
     },
     "execution_count": 5,
     "metadata": {},
     "output_type": "execute_result"
    }
   ],
   "source": [
    "#whole number\n",
    "7//5"
   ]
  },
  {
   "cell_type": "code",
   "execution_count": 6,
   "id": "68f856ae",
   "metadata": {},
   "outputs": [
    {
     "data": {
      "text/plain": [
       "1.4"
      ]
     },
     "execution_count": 6,
     "metadata": {},
     "output_type": "execute_result"
    }
   ],
   "source": [
    "#fraction\n",
    "7/5"
   ]
  },
  {
   "cell_type": "code",
   "execution_count": 7,
   "id": "4a463a28",
   "metadata": {},
   "outputs": [
    {
     "data": {
      "text/plain": [
       "2"
      ]
     },
     "execution_count": 7,
     "metadata": {},
     "output_type": "execute_result"
    }
   ],
   "source": [
    "# Remainder\n",
    "7%5"
   ]
  },
  {
   "cell_type": "code",
   "execution_count": 8,
   "id": "3a073fd6",
   "metadata": {},
   "outputs": [
    {
     "data": {
      "text/plain": [
       "4"
      ]
     },
     "execution_count": 8,
     "metadata": {},
     "output_type": "execute_result"
    }
   ],
   "source": [
    "min([4, 8, 7, 8])"
   ]
  },
  {
   "cell_type": "code",
   "execution_count": 9,
   "id": "c08c8d79",
   "metadata": {},
   "outputs": [
    {
     "data": {
      "text/plain": [
       "12"
      ]
     },
     "execution_count": 9,
     "metadata": {},
     "output_type": "execute_result"
    }
   ],
   "source": [
    "max([4, 8, 7, 12])"
   ]
  },
  {
   "cell_type": "code",
   "execution_count": 10,
   "id": "540ad458",
   "metadata": {},
   "outputs": [
    {
     "data": {
      "text/plain": [
       "9"
      ]
     },
     "execution_count": 10,
     "metadata": {},
     "output_type": "execute_result"
    }
   ],
   "source": [
    "3**2"
   ]
  },
  {
   "cell_type": "code",
   "execution_count": 11,
   "id": "1ce59e59",
   "metadata": {},
   "outputs": [
    {
     "data": {
      "text/plain": [
       "50"
      ]
     },
     "execution_count": 11,
     "metadata": {},
     "output_type": "execute_result"
    }
   ],
   "source": [
    "abs(-50)"
   ]
  },
  {
   "cell_type": "code",
   "execution_count": 12,
   "id": "68403c17",
   "metadata": {},
   "outputs": [
    {
     "data": {
      "text/plain": [
       "66"
      ]
     },
     "execution_count": 12,
     "metadata": {},
     "output_type": "execute_result"
    }
   ],
   "source": [
    "round(65.7)"
   ]
  },
  {
   "cell_type": "code",
   "execution_count": 13,
   "id": "8392f150",
   "metadata": {},
   "outputs": [
    {
     "data": {
      "text/plain": [
       "66"
      ]
     },
     "execution_count": 13,
     "metadata": {},
     "output_type": "execute_result"
    }
   ],
   "source": [
    "import math\n",
    "math.ceil(65.5)"
   ]
  },
  {
   "cell_type": "code",
   "execution_count": 14,
   "id": "e8606714",
   "metadata": {},
   "outputs": [
    {
     "data": {
      "text/plain": [
       "65"
      ]
     },
     "execution_count": 14,
     "metadata": {},
     "output_type": "execute_result"
    }
   ],
   "source": [
    "math.floor(65.7)"
   ]
  },
  {
   "cell_type": "code",
   "execution_count": 15,
   "id": "77c3025e",
   "metadata": {},
   "outputs": [
    {
     "data": {
      "text/plain": [
       "7.0"
      ]
     },
     "execution_count": 15,
     "metadata": {},
     "output_type": "execute_result"
    }
   ],
   "source": [
    "math.sqrt(49)"
   ]
  },
  {
   "cell_type": "markdown",
   "id": "97b03aac",
   "metadata": {},
   "source": [
    "# Python Iterators and Operators"
   ]
  },
  {
   "cell_type": "markdown",
   "id": "b73ec6e2",
   "metadata": {},
   "source": [
    "- equals ==  \n",
    "- not equal !=  \n",
    "- greater than >  \n",
    "- less than <  \n",
    "- greater than or equals >=    \n",
    "- less tha or equal to <=\n",
    "\n",
    "These conditions can be used in several ways, most commonly in \"if statements\" and loops.\n",
    "\n",
    "if, elif, else\n",
    "\n",
    "multiple conditions ( and, or)\n",
    "\n",
    "nested if"
   ]
  },
  {
   "cell_type": "code",
   "execution_count": 2,
   "id": "7baad3ef",
   "metadata": {},
   "outputs": [
    {
     "data": {
      "text/html": [
       "<iframe width=\"560\" height=\"315\" \n",
       "        src=\"https://www.youtube-nocookie.com/embed/FK4vOm037zQ?si=2UIioILFXM1BZovQ\" \n",
       "        </iframe>\n"
      ],
      "text/plain": [
       "<IPython.core.display.HTML object>"
      ]
     },
     "metadata": {},
     "output_type": "display_data"
    }
   ],
   "source": [
    "%%HTML\n",
    "<iframe width=\"560\" height=\"315\" \n",
    "        src=\"https://www.youtube-nocookie.com/embed/FK4vOm037zQ?si=2UIioILFXM1BZovQ\" \n",
    "        </iframe>"
   ]
  },
  {
   "cell_type": "markdown",
   "id": "c4048bd3",
   "metadata": {},
   "source": [
    "if **condition**:\n",
    "     do something"
   ]
  },
  {
   "cell_type": "code",
   "execution_count": 19,
   "id": "6f6adc81",
   "metadata": {},
   "outputs": [],
   "source": [
    "x= 400\n",
    "y= 50"
   ]
  },
  {
   "cell_type": "code",
   "execution_count": 20,
   "id": "f3170e4a",
   "metadata": {},
   "outputs": [],
   "source": [
    "if x > 300:\n",
    "    print(x)"
   ]
  },
  {
   "cell_type": "code",
   "execution_count": 21,
   "id": "db2f06cf",
   "metadata": {},
   "outputs": [],
   "source": [
    "if x < 400:\n",
    "    print(x)"
   ]
  },
  {
   "cell_type": "code",
   "execution_count": 22,
   "id": "c902bce3",
   "metadata": {},
   "outputs": [
    {
     "name": "stdout",
     "output_type": "stream",
     "text": [
      "400\n"
     ]
    }
   ],
   "source": [
    "if x <= 400:\n",
    "    print(x)"
   ]
  },
  {
   "cell_type": "code",
   "execution_count": 23,
   "id": "fc477770",
   "metadata": {},
   "outputs": [
    {
     "name": "stdout",
     "output_type": "stream",
     "text": [
      "50\n"
     ]
    }
   ],
   "source": [
    "if y != x:\n",
    "    print(y)"
   ]
  },
  {
   "cell_type": "code",
   "execution_count": 24,
   "id": "1867e830",
   "metadata": {},
   "outputs": [
    {
     "name": "stdout",
     "output_type": "stream",
     "text": [
      "450\n"
     ]
    }
   ],
   "source": [
    "if y > 100:\n",
    "    z= y * x\n",
    "    print(z)\n",
    "elif y < 100:\n",
    "    z = y + x\n",
    "    print(z)\n",
    "else:\n",
    "    print('No condition met')"
   ]
  },
  {
   "cell_type": "code",
   "execution_count": 25,
   "id": "4881ee1b",
   "metadata": {},
   "outputs": [
    {
     "name": "stdout",
     "output_type": "stream",
     "text": [
      "20000\n"
     ]
    }
   ],
   "source": [
    "if y > 10 or x < 200:\n",
    "    print(x * y)"
   ]
  },
  {
   "cell_type": "code",
   "execution_count": 26,
   "id": "9bde659d",
   "metadata": {},
   "outputs": [
    {
     "name": "stdout",
     "output_type": "stream",
     "text": [
      "20000\n"
     ]
    }
   ],
   "source": [
    "if y > 10 & x < 200:\n",
    "    print(x * y)"
   ]
  },
  {
   "cell_type": "markdown",
   "id": "8c69d14a",
   "metadata": {},
   "source": [
    "## While Loop"
   ]
  },
  {
   "cell_type": "code",
   "execution_count": 3,
   "id": "af9947ca",
   "metadata": {},
   "outputs": [
    {
     "data": {
      "text/html": [
       "<iframe width=\"560\" height=\"315\" \n",
       "        src=\"https://www.youtube-nocookie.com/embed/ZdRPvKTlJNQ?si=Jv1lgy7uXmiFkYdZ\" \n",
       "        </iframe>\n"
      ],
      "text/plain": [
       "<IPython.core.display.HTML object>"
      ]
     },
     "metadata": {},
     "output_type": "display_data"
    }
   ],
   "source": [
    "%%HTML\n",
    "<iframe width=\"560\" height=\"315\" \n",
    "        src=\"https://www.youtube-nocookie.com/embed/ZdRPvKTlJNQ?si=Jv1lgy7uXmiFkYdZ\" \n",
    "        </iframe>"
   ]
  },
  {
   "cell_type": "code",
   "execution_count": 27,
   "id": "2a4e1453",
   "metadata": {},
   "outputs": [
    {
     "name": "stdout",
     "output_type": "stream",
     "text": [
      "[100]\n",
      "[100, 90]\n",
      "[100, 90, 80]\n",
      "[100, 90, 80, 70]\n",
      "[100, 90, 80, 70, 60]\n",
      "[100, 90, 80, 70, 60, 50]\n"
     ]
    }
   ],
   "source": [
    "i =100 \n",
    "\n",
    "num = []\n",
    "\n",
    "while i > 10:\n",
    "    num.append(i)\n",
    "    print(num)\n",
    "    if i == 50:\n",
    "        break\n",
    "    i -=10"
   ]
  },
  {
   "cell_type": "code",
   "execution_count": 28,
   "id": "5e7bed2f",
   "metadata": {},
   "outputs": [
    {
     "name": "stdout",
     "output_type": "stream",
     "text": [
      "0\n",
      "1\n",
      "2\n",
      "3\n",
      "4\n",
      "5\n",
      "6\n",
      "7\n",
      "8\n",
      "9\n"
     ]
    }
   ],
   "source": [
    "for i in range(10):\n",
    "    print(i)"
   ]
  },
  {
   "cell_type": "markdown",
   "id": "98928c14",
   "metadata": {},
   "source": [
    "## List Comprehension"
   ]
  },
  {
   "cell_type": "code",
   "execution_count": 4,
   "id": "4b2e6b36",
   "metadata": {},
   "outputs": [
    {
     "data": {
      "text/html": [
       "<iframe width=\"560\" height=\"315\" \n",
       "        src=\"https://www.youtube-nocookie.com/embed/bLmhN4ydw5U?si=3A9fXmea5cgwACdy\" \n",
       "        </iframe>\n"
      ],
      "text/plain": [
       "<IPython.core.display.HTML object>"
      ]
     },
     "metadata": {},
     "output_type": "display_data"
    }
   ],
   "source": [
    "%%HTML\n",
    "<iframe width=\"560\" height=\"315\" \n",
    "        src=\"https://www.youtube-nocookie.com/embed/bLmhN4ydw5U?si=3A9fXmea5cgwACdy\" \n",
    "        </iframe>"
   ]
  },
  {
   "cell_type": "code",
   "execution_count": 29,
   "id": "de60d989",
   "metadata": {},
   "outputs": [],
   "source": [
    "code = 'LKJ1234DG56GX9TV'\n"
   ]
  },
  {
   "cell_type": "code",
   "execution_count": 30,
   "id": "eaf1d597",
   "metadata": {},
   "outputs": [],
   "source": [
    "num = []\n",
    "for c in code:\n",
    "    if c.isnumeric():\n",
    "        num.append(int(c))\n",
    "        "
   ]
  },
  {
   "cell_type": "code",
   "execution_count": 31,
   "id": "3261f4e9",
   "metadata": {},
   "outputs": [
    {
     "data": {
      "text/plain": [
       "[1, 2, 3, 4, 5, 6, 9]"
      ]
     },
     "execution_count": 31,
     "metadata": {},
     "output_type": "execute_result"
    }
   ],
   "source": [
    "num"
   ]
  },
  {
   "cell_type": "code",
   "execution_count": 32,
   "id": "dc5e2ae1",
   "metadata": {},
   "outputs": [],
   "source": [
    "# list comprehensions\n",
    "num2 = [int(c) for c in code if c.isnumeric()]"
   ]
  },
  {
   "cell_type": "code",
   "execution_count": 33,
   "id": "cd2014f0",
   "metadata": {},
   "outputs": [
    {
     "data": {
      "text/plain": [
       "[1, 2, 3, 4, 5, 6, 9]"
      ]
     },
     "execution_count": 33,
     "metadata": {},
     "output_type": "execute_result"
    }
   ],
   "source": [
    "num2"
   ]
  },
  {
   "cell_type": "code",
   "execution_count": 34,
   "id": "c5f3f6cc",
   "metadata": {},
   "outputs": [],
   "source": [
    "animals = ['Tiger', 'Bear', 'Elephant', 'Giraffe', 'Zebra', 'Gorilla']"
   ]
  },
  {
   "cell_type": "code",
   "execution_count": 35,
   "id": "8b6ef82e",
   "metadata": {},
   "outputs": [
    {
     "data": {
      "text/plain": [
       "['Elephant', 'Giraffe', 'Gorilla']"
      ]
     },
     "execution_count": 35,
     "metadata": {},
     "output_type": "execute_result"
    }
   ],
   "source": [
    "animals_caps = [z for z in animals if len(z) > 5]\n",
    "animals_caps"
   ]
  },
  {
   "cell_type": "code",
   "execution_count": 38,
   "id": "37d2274d",
   "metadata": {},
   "outputs": [],
   "source": [
    "animals_caps2=[]\n",
    "for a in animals:\n",
    "    if len(a) > 5:\n",
    "        animals_caps2.append(a)\n",
    "    "
   ]
  },
  {
   "cell_type": "code",
   "execution_count": 39,
   "id": "91432980",
   "metadata": {},
   "outputs": [
    {
     "data": {
      "text/plain": [
       "['Elephant', 'Giraffe', 'Gorilla']"
      ]
     },
     "execution_count": 39,
     "metadata": {},
     "output_type": "execute_result"
    }
   ],
   "source": [
    "animals_caps2"
   ]
  },
  {
   "cell_type": "markdown",
   "id": "51763e14",
   "metadata": {},
   "source": [
    "# NUMPY"
   ]
  },
  {
   "cell_type": "code",
   "execution_count": 5,
   "id": "f5232eb5",
   "metadata": {},
   "outputs": [
    {
     "data": {
      "text/html": [
       "<iframe width=\"560\" height=\"315\" \n",
       "        src=\"https://www.youtube-nocookie.com/embed/EoqMc-_9V9s?si=K1kQqIEKWq-lyVv_\" \n",
       "        </iframe>\n"
      ],
      "text/plain": [
       "<IPython.core.display.HTML object>"
      ]
     },
     "metadata": {},
     "output_type": "display_data"
    }
   ],
   "source": [
    "%%HTML\n",
    "<iframe width=\"560\" height=\"315\" \n",
    "        src=\"https://www.youtube-nocookie.com/embed/EoqMc-_9V9s?si=K1kQqIEKWq-lyVv_\" \n",
    "        </iframe>"
   ]
  },
  {
   "cell_type": "code",
   "execution_count": 8,
   "id": "568eb14b",
   "metadata": {},
   "outputs": [],
   "source": [
    "import numpy as np"
   ]
  },
  {
   "cell_type": "markdown",
   "id": "3c52490f",
   "metadata": {},
   "source": [
    "## N-dimensional arrays"
   ]
  },
  {
   "cell_type": "code",
   "execution_count": 41,
   "id": "82978538",
   "metadata": {},
   "outputs": [
    {
     "data": {
      "text/plain": [
       "'1.21.5'"
      ]
     },
     "execution_count": 41,
     "metadata": {},
     "output_type": "execute_result"
    }
   ],
   "source": [
    "np.__version__"
   ]
  },
  {
   "cell_type": "code",
   "execution_count": 9,
   "id": "2a9e87bb",
   "metadata": {},
   "outputs": [],
   "source": [
    "a = np.array([1, 2, 3, 4])"
   ]
  },
  {
   "cell_type": "code",
   "execution_count": 43,
   "id": "ce7421bd",
   "metadata": {},
   "outputs": [
    {
     "data": {
      "text/plain": [
       "numpy.ndarray"
      ]
     },
     "execution_count": 43,
     "metadata": {},
     "output_type": "execute_result"
    }
   ],
   "source": [
    "type(a)"
   ]
  },
  {
   "cell_type": "code",
   "execution_count": 44,
   "id": "d4093e73",
   "metadata": {},
   "outputs": [
    {
     "data": {
      "text/plain": [
       "1"
      ]
     },
     "execution_count": 44,
     "metadata": {},
     "output_type": "execute_result"
    }
   ],
   "source": [
    "a.ndim"
   ]
  },
  {
   "cell_type": "code",
   "execution_count": 45,
   "id": "dbbe0c0a",
   "metadata": {},
   "outputs": [
    {
     "data": {
      "text/plain": [
       "(4,)"
      ]
     },
     "execution_count": 45,
     "metadata": {},
     "output_type": "execute_result"
    }
   ],
   "source": [
    "a.shape"
   ]
  },
  {
   "cell_type": "code",
   "execution_count": 46,
   "id": "5dd52511",
   "metadata": {},
   "outputs": [
    {
     "data": {
      "text/plain": [
       "array([1, 2, 3, 4])"
      ]
     },
     "execution_count": 46,
     "metadata": {},
     "output_type": "execute_result"
    }
   ],
   "source": [
    "a"
   ]
  },
  {
   "cell_type": "code",
   "execution_count": 10,
   "id": "1d493e14",
   "metadata": {},
   "outputs": [
    {
     "data": {
      "text/plain": [
       "array([[1, 2, 3, 4],\n",
       "       [5, 6, 7, 8]])"
      ]
     },
     "execution_count": 10,
     "metadata": {},
     "output_type": "execute_result"
    }
   ],
   "source": [
    "b = np.array([[1, 2, 3, 4], [5, 6, 7, 8]])\n",
    "b"
   ]
  },
  {
   "cell_type": "code",
   "execution_count": 48,
   "id": "853e9975",
   "metadata": {},
   "outputs": [
    {
     "data": {
      "text/plain": [
       "(2, 4)"
      ]
     },
     "execution_count": 48,
     "metadata": {},
     "output_type": "execute_result"
    }
   ],
   "source": [
    "b.shape"
   ]
  },
  {
   "cell_type": "code",
   "execution_count": 49,
   "id": "11860eb0",
   "metadata": {},
   "outputs": [
    {
     "data": {
      "text/plain": [
       "2"
      ]
     },
     "execution_count": 49,
     "metadata": {},
     "output_type": "execute_result"
    }
   ],
   "source": [
    "b.ndim"
   ]
  },
  {
   "cell_type": "code",
   "execution_count": 50,
   "id": "4ad713c5",
   "metadata": {},
   "outputs": [
    {
     "data": {
      "text/plain": [
       "array([[[ 1,  2,  3,  4],\n",
       "        [ 5,  6,  7,  8]],\n",
       "\n",
       "       [[ 9, 10, 11, 12],\n",
       "        [13, 14, 15, 16]]])"
      ]
     },
     "execution_count": 50,
     "metadata": {},
     "output_type": "execute_result"
    }
   ],
   "source": [
    "c = np.array([[[1, 2, 3, 4], [5, 6, 7, 8]], [[9, 10, 11, 12], [13,14, 15, 16]]])\n",
    "c"
   ]
  },
  {
   "cell_type": "code",
   "execution_count": 51,
   "id": "e923aad6",
   "metadata": {},
   "outputs": [
    {
     "data": {
      "text/plain": [
       "3"
      ]
     },
     "execution_count": 51,
     "metadata": {},
     "output_type": "execute_result"
    }
   ],
   "source": [
    "c.ndim"
   ]
  },
  {
   "cell_type": "code",
   "execution_count": 13,
   "id": "f200df69",
   "metadata": {},
   "outputs": [
    {
     "data": {
      "text/html": [
       "<iframe width=\"560\" height=\"315\" \n",
       "        src=\"https://www.youtube-nocookie.com/embed/Q2RWEAzAtNE?si=hyUAQ7PxovtlwW0B\" \n",
       "        </iframe>\n"
      ],
      "text/plain": [
       "<IPython.core.display.HTML object>"
      ]
     },
     "metadata": {},
     "output_type": "display_data"
    }
   ],
   "source": [
    "%%HTML\n",
    "<iframe width=\"560\" height=\"315\" \n",
    "        src=\"https://www.youtube-nocookie.com/embed/Q2RWEAzAtNE?si=hyUAQ7PxovtlwW0B\" \n",
    "        </iframe>"
   ]
  },
  {
   "cell_type": "code",
   "execution_count": 11,
   "id": "91a96195",
   "metadata": {},
   "outputs": [
    {
     "data": {
      "text/plain": [
       "array([[ 2,  4,  6,  8],\n",
       "       [ 6,  8, 10, 12]])"
      ]
     },
     "execution_count": 11,
     "metadata": {},
     "output_type": "execute_result"
    }
   ],
   "source": [
    "a + b"
   ]
  },
  {
   "cell_type": "code",
   "execution_count": 12,
   "id": "d79c9370",
   "metadata": {},
   "outputs": [
    {
     "data": {
      "text/plain": [
       "array([[ 1,  4,  9, 16],\n",
       "       [ 5, 12, 21, 32]])"
      ]
     },
     "execution_count": 12,
     "metadata": {},
     "output_type": "execute_result"
    }
   ],
   "source": [
    "a * b"
   ]
  },
  {
   "cell_type": "code",
   "execution_count": 52,
   "id": "932a7bfa",
   "metadata": {},
   "outputs": [],
   "source": [
    "a = np.array([1, 2,3, 4])"
   ]
  },
  {
   "cell_type": "code",
   "execution_count": 53,
   "id": "d463f551",
   "metadata": {},
   "outputs": [
    {
     "data": {
      "text/plain": [
       "array([[1, 2, 3, 4],\n",
       "       [5, 6, 7, 8]])"
      ]
     },
     "execution_count": 53,
     "metadata": {},
     "output_type": "execute_result"
    }
   ],
   "source": [
    "b"
   ]
  },
  {
   "cell_type": "markdown",
   "id": "b4f1cc09",
   "metadata": {},
   "source": [
    "## Indexing arrays"
   ]
  },
  {
   "cell_type": "code",
   "execution_count": 54,
   "id": "6ddac382",
   "metadata": {},
   "outputs": [
    {
     "data": {
      "text/plain": [
       "3"
      ]
     },
     "execution_count": 54,
     "metadata": {},
     "output_type": "execute_result"
    }
   ],
   "source": [
    "b[0, 2]"
   ]
  },
  {
   "cell_type": "code",
   "execution_count": 55,
   "id": "636bed3d",
   "metadata": {},
   "outputs": [
    {
     "data": {
      "text/plain": [
       "6"
      ]
     },
     "execution_count": 55,
     "metadata": {},
     "output_type": "execute_result"
    }
   ],
   "source": [
    "b[1, 1]"
   ]
  },
  {
   "cell_type": "code",
   "execution_count": 56,
   "id": "8b9abdda",
   "metadata": {},
   "outputs": [
    {
     "data": {
      "text/plain": [
       "array([[[ 1,  2,  3,  4],\n",
       "        [ 5,  6,  7,  8]],\n",
       "\n",
       "       [[ 9, 10, 11, 12],\n",
       "        [13, 14, 15, 16]]])"
      ]
     },
     "execution_count": 56,
     "metadata": {},
     "output_type": "execute_result"
    }
   ],
   "source": [
    "c"
   ]
  },
  {
   "cell_type": "code",
   "execution_count": 57,
   "id": "757ac4af",
   "metadata": {},
   "outputs": [
    {
     "data": {
      "text/plain": [
       "16"
      ]
     },
     "execution_count": 57,
     "metadata": {},
     "output_type": "execute_result"
    }
   ],
   "source": [
    "c[1,1, -1]"
   ]
  },
  {
   "cell_type": "markdown",
   "id": "f5d10eb2",
   "metadata": {},
   "source": [
    "## Reshaping Arrays"
   ]
  },
  {
   "cell_type": "code",
   "execution_count": 14,
   "id": "bae6e92c",
   "metadata": {},
   "outputs": [
    {
     "data": {
      "text/html": [
       "<iframe width=\"560\" height=\"315\" \n",
       "        src=\"https://www.youtube-nocookie.com/embed/4Ojoye9YoY0?si=Zsj7AceyVIng1fwe\" \n",
       "        </iframe>\n"
      ],
      "text/plain": [
       "<IPython.core.display.HTML object>"
      ]
     },
     "metadata": {},
     "output_type": "display_data"
    }
   ],
   "source": [
    "%%HTML\n",
    "<iframe width=\"560\" height=\"315\" \n",
    "        src=\"https://www.youtube-nocookie.com/embed/4Ojoye9YoY0?si=Zsj7AceyVIng1fwe\" \n",
    "        </iframe>"
   ]
  },
  {
   "cell_type": "code",
   "execution_count": 58,
   "id": "4918e63d",
   "metadata": {},
   "outputs": [
    {
     "data": {
      "text/plain": [
       "array([0., 0., 0.])"
      ]
     },
     "execution_count": 58,
     "metadata": {},
     "output_type": "execute_result"
    }
   ],
   "source": [
    "np.zeros(3)"
   ]
  },
  {
   "cell_type": "code",
   "execution_count": 59,
   "id": "f4198b62",
   "metadata": {},
   "outputs": [
    {
     "data": {
      "text/plain": [
       "array([[[0., 0., 0.],\n",
       "        [0., 0., 0.],\n",
       "        [0., 0., 0.],\n",
       "        [0., 0., 0.]],\n",
       "\n",
       "       [[0., 0., 0.],\n",
       "        [0., 0., 0.],\n",
       "        [0., 0., 0.],\n",
       "        [0., 0., 0.]],\n",
       "\n",
       "       [[0., 0., 0.],\n",
       "        [0., 0., 0.],\n",
       "        [0., 0., 0.],\n",
       "        [0., 0., 0.]]])"
      ]
     },
     "execution_count": 59,
     "metadata": {},
     "output_type": "execute_result"
    }
   ],
   "source": [
    "np.zeros((3, 4, 3))"
   ]
  },
  {
   "cell_type": "code",
   "execution_count": 60,
   "id": "4c4f7a30",
   "metadata": {},
   "outputs": [
    {
     "data": {
      "text/plain": [
       "array([[1., 1., 1., 1., 1.],\n",
       "       [1., 1., 1., 1., 1.],\n",
       "       [1., 1., 1., 1., 1.]])"
      ]
     },
     "execution_count": 60,
     "metadata": {},
     "output_type": "execute_result"
    }
   ],
   "source": [
    "np.ones((3, 5))"
   ]
  },
  {
   "cell_type": "code",
   "execution_count": 61,
   "id": "8989447b",
   "metadata": {},
   "outputs": [
    {
     "data": {
      "text/plain": [
       "1"
      ]
     },
     "execution_count": 61,
     "metadata": {},
     "output_type": "execute_result"
    }
   ],
   "source": [
    "a.ndim"
   ]
  },
  {
   "cell_type": "code",
   "execution_count": 62,
   "id": "c023660a",
   "metadata": {},
   "outputs": [
    {
     "data": {
      "text/plain": [
       "2"
      ]
     },
     "execution_count": 62,
     "metadata": {},
     "output_type": "execute_result"
    }
   ],
   "source": [
    "a.reshape((2, 2)).ndim"
   ]
  },
  {
   "cell_type": "code",
   "execution_count": 63,
   "id": "372107e8",
   "metadata": {},
   "outputs": [
    {
     "data": {
      "text/plain": [
       "array([0, 1, 2, 3])"
      ]
     },
     "execution_count": 63,
     "metadata": {},
     "output_type": "execute_result"
    }
   ],
   "source": [
    "np.arange(4)"
   ]
  },
  {
   "cell_type": "code",
   "execution_count": 64,
   "id": "6233f36d",
   "metadata": {},
   "outputs": [],
   "source": [
    "z = np.arange(2, 10, 2)"
   ]
  },
  {
   "cell_type": "code",
   "execution_count": 65,
   "id": "8bf4f405",
   "metadata": {},
   "outputs": [
    {
     "data": {
      "text/plain": [
       "array([2, 4, 6, 8])"
      ]
     },
     "execution_count": 65,
     "metadata": {},
     "output_type": "execute_result"
    }
   ],
   "source": [
    "z"
   ]
  },
  {
   "cell_type": "code",
   "execution_count": 66,
   "id": "cb0504fb",
   "metadata": {},
   "outputs": [
    {
     "data": {
      "text/plain": [
       "array([[0.18571535, 0.99276823],\n",
       "       [0.88016491, 0.76040045],\n",
       "       [0.02735857, 0.2585048 ]])"
      ]
     },
     "execution_count": 66,
     "metadata": {},
     "output_type": "execute_result"
    }
   ],
   "source": [
    "np.random.random((3, 2))"
   ]
  },
  {
   "cell_type": "code",
   "execution_count": 67,
   "id": "1c009989",
   "metadata": {},
   "outputs": [
    {
     "data": {
      "text/plain": [
       "array([[0.22199317, 0.87073231],\n",
       "       [0.20671916, 0.91861091],\n",
       "       [0.48841119, 0.61174386]])"
      ]
     },
     "execution_count": 67,
     "metadata": {},
     "output_type": "execute_result"
    }
   ],
   "source": [
    "np.random.seed(5)\n",
    "np.random.random((3, 2))"
   ]
  },
  {
   "cell_type": "markdown",
   "id": "10496de5",
   "metadata": {},
   "source": [
    "# Pandas"
   ]
  },
  {
   "cell_type": "code",
   "execution_count": 24,
   "id": "dc132b67",
   "metadata": {},
   "outputs": [
    {
     "data": {
      "text/html": [
       "<iframe width=\"560\" height=\"315\" \n",
       "        src=\"https://www.youtube-nocookie.com/embed/L19CDhrFEoA?si=DNREjpysXOmR1t3Z\" \n",
       "        </iframe>\n"
      ],
      "text/plain": [
       "<IPython.core.display.HTML object>"
      ]
     },
     "metadata": {},
     "output_type": "display_data"
    }
   ],
   "source": [
    "%%HTML\n",
    "<iframe width=\"560\" height=\"315\" \n",
    "        src=\"https://www.youtube-nocookie.com/embed/L19CDhrFEoA?si=DNREjpysXOmR1t3Z\" \n",
    "        </iframe>"
   ]
  },
  {
   "cell_type": "code",
   "execution_count": 25,
   "id": "5280b7a1",
   "metadata": {},
   "outputs": [
    {
     "data": {
      "text/html": [
       "<iframe width=\"560\" height=\"315\" \n",
       "        src=\"https://www.youtube-nocookie.com/embed/3AK_vockNJg?si=48ZZFbP1rWAbbiY0\" \n",
       "        </iframe>\n"
      ],
      "text/plain": [
       "<IPython.core.display.HTML object>"
      ]
     },
     "metadata": {},
     "output_type": "display_data"
    }
   ],
   "source": [
    "%%HTML\n",
    "<iframe width=\"560\" height=\"315\" \n",
    "        src=\"https://www.youtube-nocookie.com/embed/3AK_vockNJg?si=48ZZFbP1rWAbbiY0\" \n",
    "        </iframe>"
   ]
  },
  {
   "cell_type": "code",
   "execution_count": 26,
   "id": "607629de",
   "metadata": {},
   "outputs": [],
   "source": [
    "import pandas as pd"
   ]
  },
  {
   "cell_type": "code",
   "execution_count": 27,
   "id": "3b918108",
   "metadata": {},
   "outputs": [
    {
     "name": "stdout",
     "output_type": "stream",
     "text": [
      "2.2.1\n"
     ]
    }
   ],
   "source": [
    "print(pd.__version__)"
   ]
  },
  {
   "cell_type": "code",
   "execution_count": 28,
   "id": "05c22ac8",
   "metadata": {},
   "outputs": [
    {
     "data": {
      "text/plain": [
       "array([1, 2, 3, 4])"
      ]
     },
     "execution_count": 28,
     "metadata": {},
     "output_type": "execute_result"
    }
   ],
   "source": [
    "a"
   ]
  },
  {
   "cell_type": "code",
   "execution_count": 29,
   "id": "a9b3f61b",
   "metadata": {},
   "outputs": [],
   "source": [
    "a_ = pd.Series(a)"
   ]
  },
  {
   "cell_type": "code",
   "execution_count": 30,
   "id": "2fcfed55",
   "metadata": {},
   "outputs": [
    {
     "data": {
      "text/plain": [
       "numpy.ndarray"
      ]
     },
     "execution_count": 30,
     "metadata": {},
     "output_type": "execute_result"
    }
   ],
   "source": [
    "type(a)"
   ]
  },
  {
   "cell_type": "code",
   "execution_count": 31,
   "id": "41705854",
   "metadata": {},
   "outputs": [
    {
     "data": {
      "text/plain": [
       "pandas.core.series.Series"
      ]
     },
     "execution_count": 31,
     "metadata": {},
     "output_type": "execute_result"
    }
   ],
   "source": [
    "type(a_)"
   ]
  },
  {
   "cell_type": "markdown",
   "id": "0606cb82",
   "metadata": {},
   "source": [
    "\n",
    "## Pandas DataFrame"
   ]
  },
  {
   "cell_type": "code",
   "execution_count": 32,
   "id": "f90f0116",
   "metadata": {},
   "outputs": [
    {
     "data": {
      "text/plain": [
       "array([[1, 2, 3, 4],\n",
       "       [5, 6, 7, 8]])"
      ]
     },
     "execution_count": 32,
     "metadata": {},
     "output_type": "execute_result"
    }
   ],
   "source": [
    "b "
   ]
  },
  {
   "cell_type": "code",
   "execution_count": 33,
   "id": "8bb24174",
   "metadata": {},
   "outputs": [
    {
     "data": {
      "text/html": [
       "<div>\n",
       "<style scoped>\n",
       "    .dataframe tbody tr th:only-of-type {\n",
       "        vertical-align: middle;\n",
       "    }\n",
       "\n",
       "    .dataframe tbody tr th {\n",
       "        vertical-align: top;\n",
       "    }\n",
       "\n",
       "    .dataframe thead th {\n",
       "        text-align: right;\n",
       "    }\n",
       "</style>\n",
       "<table border=\"1\" class=\"dataframe\">\n",
       "  <thead>\n",
       "    <tr style=\"text-align: right;\">\n",
       "      <th></th>\n",
       "      <th>first</th>\n",
       "      <th>second</th>\n",
       "      <th>third</th>\n",
       "      <th>fourth</th>\n",
       "    </tr>\n",
       "  </thead>\n",
       "  <tbody>\n",
       "    <tr>\n",
       "      <th>0</th>\n",
       "      <td>1</td>\n",
       "      <td>2</td>\n",
       "      <td>3</td>\n",
       "      <td>4</td>\n",
       "    </tr>\n",
       "    <tr>\n",
       "      <th>1</th>\n",
       "      <td>5</td>\n",
       "      <td>6</td>\n",
       "      <td>7</td>\n",
       "      <td>8</td>\n",
       "    </tr>\n",
       "  </tbody>\n",
       "</table>\n",
       "</div>"
      ],
      "text/plain": [
       "   first  second  third  fourth\n",
       "0      1       2      3       4\n",
       "1      5       6      7       8"
      ]
     },
     "execution_count": 33,
     "metadata": {},
     "output_type": "execute_result"
    }
   ],
   "source": [
    "b_ = pd.DataFrame(b, columns= ['first', 'second', 'third', 'fourth'])\n",
    "b_"
   ]
  },
  {
   "cell_type": "code",
   "execution_count": 34,
   "id": "da443cec",
   "metadata": {},
   "outputs": [
    {
     "data": {
      "text/plain": [
       "array([2, 6])"
      ]
     },
     "execution_count": 34,
     "metadata": {},
     "output_type": "execute_result"
    }
   ],
   "source": [
    "b[:,1]"
   ]
  },
  {
   "cell_type": "markdown",
   "id": "07027372",
   "metadata": {},
   "source": [
    "## Dictionary to Pandas DataFrame"
   ]
  },
  {
   "cell_type": "code",
   "execution_count": 35,
   "id": "75e49dea",
   "metadata": {},
   "outputs": [
    {
     "data": {
      "text/html": [
       "<iframe width=\"560\" height=\"315\" \n",
       "        src=\"https://www.youtube-nocookie.com/embed/bSYTY4URrQI?si=X6LqwXZoQmuET_sM\" \n",
       "        </iframe>\n"
      ],
      "text/plain": [
       "<IPython.core.display.HTML object>"
      ]
     },
     "metadata": {},
     "output_type": "display_data"
    }
   ],
   "source": [
    "%%HTML\n",
    "<iframe width=\"560\" height=\"315\" \n",
    "        src=\"https://www.youtube-nocookie.com/embed/bSYTY4URrQI?si=X6LqwXZoQmuET_sM\" \n",
    "        </iframe>"
   ]
  },
  {
   "cell_type": "code",
   "execution_count": 36,
   "id": "bde76655",
   "metadata": {},
   "outputs": [],
   "source": [
    "data = {'name': ['John', 'Jane', 'Bob', 'Sara', 'Tom', 'James', 'Philip', None, 'White', 'Susan', 'Becky', 'Brown', 'Matt', 'Ore'],\n",
    "        'age': [32, 27, 45, None, 38, '55', 23, 43, 32, 50, None, 22, 33, 47],\n",
    "        'gender': ['M', 'f', 'M', 'F', 'm', None, 'M', 'F', 'M', 'F', 'f', 'M', 'N/A', 'None'],\n",
    "        'income (£)': [50000, 60000, None, 72000, None, 80000, 32000, '55000', 43000, 85000, 60000, 450000, 56.000, 7000],\n",
    "        'occupation': ['Doctor', 'Scientist', 'Technician', None, 'Banker', 'Beautician', 'Artist', 'Entrepreneur', 'Nurse', 'Data Analyst', 'Engineer', 'Teacher', 'Nurse', 'Trader'],\n",
    "        'address': ['Cape town', 'London',  'New York', 'Tokyo', None, 'Chicago', 'Houston',  'Texas', 'Manchester', 'Paris', 'Berlin', 'Dubai', 'Madrid', 'Lagos']}"
   ]
  },
  {
   "cell_type": "code",
   "execution_count": 37,
   "id": "40161aeb",
   "metadata": {},
   "outputs": [
    {
     "data": {
      "text/html": [
       "<div>\n",
       "<style scoped>\n",
       "    .dataframe tbody tr th:only-of-type {\n",
       "        vertical-align: middle;\n",
       "    }\n",
       "\n",
       "    .dataframe tbody tr th {\n",
       "        vertical-align: top;\n",
       "    }\n",
       "\n",
       "    .dataframe thead th {\n",
       "        text-align: right;\n",
       "    }\n",
       "</style>\n",
       "<table border=\"1\" class=\"dataframe\">\n",
       "  <thead>\n",
       "    <tr style=\"text-align: right;\">\n",
       "      <th></th>\n",
       "      <th>name</th>\n",
       "      <th>age</th>\n",
       "      <th>gender</th>\n",
       "      <th>income (£)</th>\n",
       "      <th>occupation</th>\n",
       "      <th>address</th>\n",
       "    </tr>\n",
       "  </thead>\n",
       "  <tbody>\n",
       "    <tr>\n",
       "      <th>0</th>\n",
       "      <td>John</td>\n",
       "      <td>32</td>\n",
       "      <td>M</td>\n",
       "      <td>50000</td>\n",
       "      <td>Doctor</td>\n",
       "      <td>Cape town</td>\n",
       "    </tr>\n",
       "    <tr>\n",
       "      <th>1</th>\n",
       "      <td>Jane</td>\n",
       "      <td>27</td>\n",
       "      <td>f</td>\n",
       "      <td>60000</td>\n",
       "      <td>Scientist</td>\n",
       "      <td>London</td>\n",
       "    </tr>\n",
       "    <tr>\n",
       "      <th>2</th>\n",
       "      <td>Bob</td>\n",
       "      <td>45</td>\n",
       "      <td>M</td>\n",
       "      <td>None</td>\n",
       "      <td>Technician</td>\n",
       "      <td>New York</td>\n",
       "    </tr>\n",
       "    <tr>\n",
       "      <th>3</th>\n",
       "      <td>Sara</td>\n",
       "      <td>None</td>\n",
       "      <td>F</td>\n",
       "      <td>72000</td>\n",
       "      <td>None</td>\n",
       "      <td>Tokyo</td>\n",
       "    </tr>\n",
       "    <tr>\n",
       "      <th>4</th>\n",
       "      <td>Tom</td>\n",
       "      <td>38</td>\n",
       "      <td>m</td>\n",
       "      <td>None</td>\n",
       "      <td>Banker</td>\n",
       "      <td>None</td>\n",
       "    </tr>\n",
       "    <tr>\n",
       "      <th>5</th>\n",
       "      <td>James</td>\n",
       "      <td>55</td>\n",
       "      <td>None</td>\n",
       "      <td>80000</td>\n",
       "      <td>Beautician</td>\n",
       "      <td>Chicago</td>\n",
       "    </tr>\n",
       "    <tr>\n",
       "      <th>6</th>\n",
       "      <td>Philip</td>\n",
       "      <td>23</td>\n",
       "      <td>M</td>\n",
       "      <td>32000</td>\n",
       "      <td>Artist</td>\n",
       "      <td>Houston</td>\n",
       "    </tr>\n",
       "    <tr>\n",
       "      <th>7</th>\n",
       "      <td>None</td>\n",
       "      <td>43</td>\n",
       "      <td>F</td>\n",
       "      <td>55000</td>\n",
       "      <td>Entrepreneur</td>\n",
       "      <td>Texas</td>\n",
       "    </tr>\n",
       "    <tr>\n",
       "      <th>8</th>\n",
       "      <td>White</td>\n",
       "      <td>32</td>\n",
       "      <td>M</td>\n",
       "      <td>43000</td>\n",
       "      <td>Nurse</td>\n",
       "      <td>Manchester</td>\n",
       "    </tr>\n",
       "    <tr>\n",
       "      <th>9</th>\n",
       "      <td>Susan</td>\n",
       "      <td>50</td>\n",
       "      <td>F</td>\n",
       "      <td>85000</td>\n",
       "      <td>Data Analyst</td>\n",
       "      <td>Paris</td>\n",
       "    </tr>\n",
       "    <tr>\n",
       "      <th>10</th>\n",
       "      <td>Becky</td>\n",
       "      <td>None</td>\n",
       "      <td>f</td>\n",
       "      <td>60000</td>\n",
       "      <td>Engineer</td>\n",
       "      <td>Berlin</td>\n",
       "    </tr>\n",
       "    <tr>\n",
       "      <th>11</th>\n",
       "      <td>Brown</td>\n",
       "      <td>22</td>\n",
       "      <td>M</td>\n",
       "      <td>450000</td>\n",
       "      <td>Teacher</td>\n",
       "      <td>Dubai</td>\n",
       "    </tr>\n",
       "    <tr>\n",
       "      <th>12</th>\n",
       "      <td>Matt</td>\n",
       "      <td>33</td>\n",
       "      <td>N/A</td>\n",
       "      <td>56.0</td>\n",
       "      <td>Nurse</td>\n",
       "      <td>Madrid</td>\n",
       "    </tr>\n",
       "    <tr>\n",
       "      <th>13</th>\n",
       "      <td>Ore</td>\n",
       "      <td>47</td>\n",
       "      <td>None</td>\n",
       "      <td>7000</td>\n",
       "      <td>Trader</td>\n",
       "      <td>Lagos</td>\n",
       "    </tr>\n",
       "  </tbody>\n",
       "</table>\n",
       "</div>"
      ],
      "text/plain": [
       "      name   age gender income (£)    occupation     address\n",
       "0     John    32      M      50000        Doctor   Cape town\n",
       "1     Jane    27      f      60000     Scientist      London\n",
       "2      Bob    45      M       None    Technician    New York\n",
       "3     Sara  None      F      72000          None       Tokyo\n",
       "4      Tom    38      m       None        Banker        None\n",
       "5    James    55   None      80000    Beautician     Chicago\n",
       "6   Philip    23      M      32000        Artist     Houston\n",
       "7     None    43      F      55000  Entrepreneur       Texas\n",
       "8    White    32      M      43000         Nurse  Manchester\n",
       "9    Susan    50      F      85000  Data Analyst       Paris\n",
       "10   Becky  None      f      60000      Engineer      Berlin\n",
       "11   Brown    22      M     450000       Teacher       Dubai\n",
       "12    Matt    33    N/A       56.0         Nurse      Madrid\n",
       "13     Ore    47   None       7000        Trader       Lagos"
      ]
     },
     "execution_count": 37,
     "metadata": {},
     "output_type": "execute_result"
    }
   ],
   "source": [
    "df = pd.DataFrame(data)\n",
    "df"
   ]
  },
  {
   "cell_type": "code",
   "execution_count": 38,
   "id": "f6e0aa03",
   "metadata": {},
   "outputs": [
    {
     "data": {
      "text/html": [
       "<div>\n",
       "<style scoped>\n",
       "    .dataframe tbody tr th:only-of-type {\n",
       "        vertical-align: middle;\n",
       "    }\n",
       "\n",
       "    .dataframe tbody tr th {\n",
       "        vertical-align: top;\n",
       "    }\n",
       "\n",
       "    .dataframe thead th {\n",
       "        text-align: right;\n",
       "    }\n",
       "</style>\n",
       "<table border=\"1\" class=\"dataframe\">\n",
       "  <thead>\n",
       "    <tr style=\"text-align: right;\">\n",
       "      <th></th>\n",
       "      <th>name</th>\n",
       "      <th>age</th>\n",
       "      <th>gender</th>\n",
       "      <th>income (£)</th>\n",
       "      <th>occupation</th>\n",
       "      <th>address</th>\n",
       "    </tr>\n",
       "  </thead>\n",
       "  <tbody>\n",
       "    <tr>\n",
       "      <th>0</th>\n",
       "      <td>John</td>\n",
       "      <td>32</td>\n",
       "      <td>M</td>\n",
       "      <td>50000</td>\n",
       "      <td>Doctor</td>\n",
       "      <td>Cape town</td>\n",
       "    </tr>\n",
       "    <tr>\n",
       "      <th>1</th>\n",
       "      <td>Jane</td>\n",
       "      <td>27</td>\n",
       "      <td>f</td>\n",
       "      <td>60000</td>\n",
       "      <td>Scientist</td>\n",
       "      <td>London</td>\n",
       "    </tr>\n",
       "  </tbody>\n",
       "</table>\n",
       "</div>"
      ],
      "text/plain": [
       "   name age gender income (£) occupation    address\n",
       "0  John  32      M      50000     Doctor  Cape town\n",
       "1  Jane  27      f      60000  Scientist     London"
      ]
     },
     "execution_count": 38,
     "metadata": {},
     "output_type": "execute_result"
    }
   ],
   "source": [
    "df.head(2)"
   ]
  },
  {
   "cell_type": "code",
   "execution_count": 39,
   "id": "bc87a1a9",
   "metadata": {},
   "outputs": [
    {
     "data": {
      "text/html": [
       "<div>\n",
       "<style scoped>\n",
       "    .dataframe tbody tr th:only-of-type {\n",
       "        vertical-align: middle;\n",
       "    }\n",
       "\n",
       "    .dataframe tbody tr th {\n",
       "        vertical-align: top;\n",
       "    }\n",
       "\n",
       "    .dataframe thead th {\n",
       "        text-align: right;\n",
       "    }\n",
       "</style>\n",
       "<table border=\"1\" class=\"dataframe\">\n",
       "  <thead>\n",
       "    <tr style=\"text-align: right;\">\n",
       "      <th></th>\n",
       "      <th>name</th>\n",
       "      <th>age</th>\n",
       "      <th>gender</th>\n",
       "      <th>income (£)</th>\n",
       "      <th>occupation</th>\n",
       "      <th>address</th>\n",
       "    </tr>\n",
       "  </thead>\n",
       "  <tbody>\n",
       "    <tr>\n",
       "      <th>11</th>\n",
       "      <td>Brown</td>\n",
       "      <td>22</td>\n",
       "      <td>M</td>\n",
       "      <td>450000</td>\n",
       "      <td>Teacher</td>\n",
       "      <td>Dubai</td>\n",
       "    </tr>\n",
       "    <tr>\n",
       "      <th>12</th>\n",
       "      <td>Matt</td>\n",
       "      <td>33</td>\n",
       "      <td>N/A</td>\n",
       "      <td>56.0</td>\n",
       "      <td>Nurse</td>\n",
       "      <td>Madrid</td>\n",
       "    </tr>\n",
       "    <tr>\n",
       "      <th>13</th>\n",
       "      <td>Ore</td>\n",
       "      <td>47</td>\n",
       "      <td>None</td>\n",
       "      <td>7000</td>\n",
       "      <td>Trader</td>\n",
       "      <td>Lagos</td>\n",
       "    </tr>\n",
       "  </tbody>\n",
       "</table>\n",
       "</div>"
      ],
      "text/plain": [
       "     name age gender income (£) occupation address\n",
       "11  Brown  22      M     450000    Teacher   Dubai\n",
       "12   Matt  33    N/A       56.0      Nurse  Madrid\n",
       "13    Ore  47   None       7000     Trader   Lagos"
      ]
     },
     "execution_count": 39,
     "metadata": {},
     "output_type": "execute_result"
    }
   ],
   "source": [
    "df.tail(3)"
   ]
  },
  {
   "cell_type": "code",
   "execution_count": 40,
   "id": "4fa494e0",
   "metadata": {},
   "outputs": [
    {
     "name": "stdout",
     "output_type": "stream",
     "text": [
      "<class 'pandas.core.frame.DataFrame'>\n",
      "RangeIndex: 14 entries, 0 to 13\n",
      "Data columns (total 6 columns):\n",
      " #   Column      Non-Null Count  Dtype \n",
      "---  ------      --------------  ----- \n",
      " 0   name        13 non-null     object\n",
      " 1   age         12 non-null     object\n",
      " 2   gender      13 non-null     object\n",
      " 3   income (£)  12 non-null     object\n",
      " 4   occupation  13 non-null     object\n",
      " 5   address     13 non-null     object\n",
      "dtypes: object(6)\n",
      "memory usage: 804.0+ bytes\n"
     ]
    }
   ],
   "source": [
    "df.info()"
   ]
  },
  {
   "cell_type": "code",
   "execution_count": 41,
   "id": "f9f35739",
   "metadata": {},
   "outputs": [
    {
     "data": {
      "text/html": [
       "<div>\n",
       "<style scoped>\n",
       "    .dataframe tbody tr th:only-of-type {\n",
       "        vertical-align: middle;\n",
       "    }\n",
       "\n",
       "    .dataframe tbody tr th {\n",
       "        vertical-align: top;\n",
       "    }\n",
       "\n",
       "    .dataframe thead th {\n",
       "        text-align: right;\n",
       "    }\n",
       "</style>\n",
       "<table border=\"1\" class=\"dataframe\">\n",
       "  <thead>\n",
       "    <tr style=\"text-align: right;\">\n",
       "      <th></th>\n",
       "      <th>name</th>\n",
       "      <th>age</th>\n",
       "      <th>gender</th>\n",
       "      <th>income (£)</th>\n",
       "      <th>occupation</th>\n",
       "      <th>address</th>\n",
       "    </tr>\n",
       "  </thead>\n",
       "  <tbody>\n",
       "    <tr>\n",
       "      <th>count</th>\n",
       "      <td>13</td>\n",
       "      <td>12</td>\n",
       "      <td>13</td>\n",
       "      <td>12</td>\n",
       "      <td>13</td>\n",
       "      <td>13</td>\n",
       "    </tr>\n",
       "    <tr>\n",
       "      <th>unique</th>\n",
       "      <td>13</td>\n",
       "      <td>11</td>\n",
       "      <td>6</td>\n",
       "      <td>11</td>\n",
       "      <td>12</td>\n",
       "      <td>13</td>\n",
       "    </tr>\n",
       "    <tr>\n",
       "      <th>top</th>\n",
       "      <td>John</td>\n",
       "      <td>32</td>\n",
       "      <td>M</td>\n",
       "      <td>60000</td>\n",
       "      <td>Nurse</td>\n",
       "      <td>Cape town</td>\n",
       "    </tr>\n",
       "    <tr>\n",
       "      <th>freq</th>\n",
       "      <td>1</td>\n",
       "      <td>2</td>\n",
       "      <td>5</td>\n",
       "      <td>2</td>\n",
       "      <td>2</td>\n",
       "      <td>1</td>\n",
       "    </tr>\n",
       "  </tbody>\n",
       "</table>\n",
       "</div>"
      ],
      "text/plain": [
       "        name  age gender  income (£) occupation    address\n",
       "count     13   12     13          12         13         13\n",
       "unique    13   11      6          11         12         13\n",
       "top     John   32      M       60000      Nurse  Cape town\n",
       "freq       1    2      5           2          2          1"
      ]
     },
     "execution_count": 41,
     "metadata": {},
     "output_type": "execute_result"
    }
   ],
   "source": [
    "df.describe()"
   ]
  },
  {
   "cell_type": "code",
   "execution_count": 42,
   "id": "dc3c6f53",
   "metadata": {},
   "outputs": [
    {
     "data": {
      "text/plain": [
       "(14, 6)"
      ]
     },
     "execution_count": 42,
     "metadata": {},
     "output_type": "execute_result"
    }
   ],
   "source": [
    "df.shape"
   ]
  },
  {
   "cell_type": "code",
   "execution_count": 43,
   "id": "2557adda",
   "metadata": {},
   "outputs": [
    {
     "data": {
      "text/plain": [
       "Index(['name', 'age', 'gender', 'income (£)', 'occupation', 'address'], dtype='object')"
      ]
     },
     "execution_count": 43,
     "metadata": {},
     "output_type": "execute_result"
    }
   ],
   "source": [
    "df.columns"
   ]
  },
  {
   "cell_type": "code",
   "execution_count": 44,
   "id": "c3b84e4f",
   "metadata": {},
   "outputs": [
    {
     "data": {
      "text/plain": [
       "array([['John', 32, 'M', 50000, 'Doctor', 'Cape town'],\n",
       "       ['Jane', 27, 'f', 60000, 'Scientist', 'London'],\n",
       "       ['Bob', 45, 'M', None, 'Technician', 'New York'],\n",
       "       ['Sara', None, 'F', 72000, None, 'Tokyo'],\n",
       "       ['Tom', 38, 'm', None, 'Banker', None],\n",
       "       ['James', '55', None, 80000, 'Beautician', 'Chicago'],\n",
       "       ['Philip', 23, 'M', 32000, 'Artist', 'Houston'],\n",
       "       [None, 43, 'F', '55000', 'Entrepreneur', 'Texas'],\n",
       "       ['White', 32, 'M', 43000, 'Nurse', 'Manchester'],\n",
       "       ['Susan', 50, 'F', 85000, 'Data Analyst', 'Paris'],\n",
       "       ['Becky', None, 'f', 60000, 'Engineer', 'Berlin'],\n",
       "       ['Brown', 22, 'M', 450000, 'Teacher', 'Dubai'],\n",
       "       ['Matt', 33, 'N/A', 56.0, 'Nurse', 'Madrid'],\n",
       "       ['Ore', 47, 'None', 7000, 'Trader', 'Lagos']], dtype=object)"
      ]
     },
     "execution_count": 44,
     "metadata": {},
     "output_type": "execute_result"
    }
   ],
   "source": [
    "df.values"
   ]
  },
  {
   "cell_type": "code",
   "execution_count": 45,
   "id": "b41bb59d",
   "metadata": {},
   "outputs": [
    {
     "data": {
      "text/plain": [
       "array(['John', 'Jane', 'Bob', 'Sara', 'Tom', 'James', 'Philip', None,\n",
       "       'White', 'Susan', 'Becky', 'Brown', 'Matt', 'Ore'], dtype=object)"
      ]
     },
     "execution_count": 45,
     "metadata": {},
     "output_type": "execute_result"
    }
   ],
   "source": [
    "df['name'].unique()"
   ]
  },
  {
   "cell_type": "code",
   "execution_count": 46,
   "id": "16253da5",
   "metadata": {},
   "outputs": [
    {
     "data": {
      "text/plain": [
       "13"
      ]
     },
     "execution_count": 46,
     "metadata": {},
     "output_type": "execute_result"
    }
   ],
   "source": [
    "df['name'].nunique()"
   ]
  },
  {
   "cell_type": "code",
   "execution_count": 47,
   "id": "ade5a27d",
   "metadata": {},
   "outputs": [
    {
     "data": {
      "text/plain": [
       "0       32\n",
       "1       27\n",
       "2       45\n",
       "3     None\n",
       "4       38\n",
       "5       55\n",
       "6       23\n",
       "7       43\n",
       "8       32\n",
       "9       50\n",
       "10    None\n",
       "11      22\n",
       "12      33\n",
       "13      47\n",
       "Name: age, dtype: object"
      ]
     },
     "execution_count": 47,
     "metadata": {},
     "output_type": "execute_result"
    }
   ],
   "source": [
    "df.age"
   ]
  },
  {
   "cell_type": "markdown",
   "id": "3e713b6a",
   "metadata": {},
   "source": [
    "# Data Transformation"
   ]
  },
  {
   "cell_type": "code",
   "execution_count": 48,
   "id": "a8cda1c6",
   "metadata": {},
   "outputs": [
    {
     "data": {
      "text/html": [
       "<iframe width=\"560\" height=\"315\" \n",
       "        src=\"https://www.youtube-nocookie.com/embed/PgobQzcmxHI?si=qSNUuvJlJDsp5YC9\" \n",
       "        </iframe>\n"
      ],
      "text/plain": [
       "<IPython.core.display.HTML object>"
      ]
     },
     "metadata": {},
     "output_type": "display_data"
    }
   ],
   "source": [
    "%%HTML\n",
    "<iframe width=\"560\" height=\"315\" \n",
    "        src=\"https://www.youtube-nocookie.com/embed/PgobQzcmxHI?si=qSNUuvJlJDsp5YC9\" \n",
    "        </iframe>"
   ]
  },
  {
   "cell_type": "code",
   "execution_count": 49,
   "id": "1b1dc6c7",
   "metadata": {},
   "outputs": [
    {
     "data": {
      "text/plain": [
       "dtype('O')"
      ]
     },
     "execution_count": 49,
     "metadata": {},
     "output_type": "execute_result"
    }
   ],
   "source": [
    "df['age'].dtype"
   ]
  },
  {
   "cell_type": "code",
   "execution_count": 50,
   "id": "055faffc",
   "metadata": {},
   "outputs": [
    {
     "data": {
      "text/plain": [
       "2"
      ]
     },
     "execution_count": 50,
     "metadata": {},
     "output_type": "execute_result"
    }
   ],
   "source": [
    "df['age'].isna().sum()"
   ]
  },
  {
   "cell_type": "code",
   "execution_count": 51,
   "id": "9b974a74",
   "metadata": {},
   "outputs": [],
   "source": [
    "df['age']=df['age'].fillna(0)"
   ]
  },
  {
   "cell_type": "code",
   "execution_count": 52,
   "id": "83d614e4",
   "metadata": {},
   "outputs": [],
   "source": [
    "df['age']= df['age'].astype(int)"
   ]
  },
  {
   "cell_type": "code",
   "execution_count": 53,
   "id": "1f5c71eb",
   "metadata": {},
   "outputs": [
    {
     "data": {
      "text/plain": [
       "dtype('int32')"
      ]
     },
     "execution_count": 53,
     "metadata": {},
     "output_type": "execute_result"
    }
   ],
   "source": [
    "df['age'].dtype"
   ]
  },
  {
   "cell_type": "code",
   "execution_count": 54,
   "id": "74bbb1d4",
   "metadata": {},
   "outputs": [
    {
     "data": {
      "text/plain": [
       "name          1\n",
       "age           0\n",
       "gender        1\n",
       "income (£)    2\n",
       "occupation    1\n",
       "address       1\n",
       "dtype: int64"
      ]
     },
     "execution_count": 54,
     "metadata": {},
     "output_type": "execute_result"
    }
   ],
   "source": [
    "df.isna().sum()"
   ]
  },
  {
   "cell_type": "code",
   "execution_count": 55,
   "id": "0bcd7c61",
   "metadata": {},
   "outputs": [
    {
     "data": {
      "text/plain": [
       "0     32\n",
       "1     27\n",
       "2     45\n",
       "3      0\n",
       "4     38\n",
       "5     55\n",
       "6     23\n",
       "7     43\n",
       "8     32\n",
       "9     50\n",
       "10     0\n",
       "11    22\n",
       "12    33\n",
       "13    47\n",
       "Name: age, dtype: int32"
      ]
     },
     "execution_count": 55,
     "metadata": {},
     "output_type": "execute_result"
    }
   ],
   "source": [
    "df['age']"
   ]
  },
  {
   "cell_type": "code",
   "execution_count": 56,
   "id": "bb79964a",
   "metadata": {},
   "outputs": [
    {
     "data": {
      "text/plain": [
       "dtype('O')"
      ]
     },
     "execution_count": 56,
     "metadata": {},
     "output_type": "execute_result"
    }
   ],
   "source": [
    "df['income (£)'].dtype"
   ]
  },
  {
   "cell_type": "code",
   "execution_count": 57,
   "id": "130ca8a1",
   "metadata": {},
   "outputs": [],
   "source": [
    "df['income (£)']= df['income (£)'].astype(float)"
   ]
  },
  {
   "cell_type": "code",
   "execution_count": 58,
   "id": "90112906",
   "metadata": {},
   "outputs": [
    {
     "data": {
      "text/html": [
       "<div>\n",
       "<style scoped>\n",
       "    .dataframe tbody tr th:only-of-type {\n",
       "        vertical-align: middle;\n",
       "    }\n",
       "\n",
       "    .dataframe tbody tr th {\n",
       "        vertical-align: top;\n",
       "    }\n",
       "\n",
       "    .dataframe thead th {\n",
       "        text-align: right;\n",
       "    }\n",
       "</style>\n",
       "<table border=\"1\" class=\"dataframe\">\n",
       "  <thead>\n",
       "    <tr style=\"text-align: right;\">\n",
       "      <th></th>\n",
       "      <th>age</th>\n",
       "      <th>income (£)</th>\n",
       "    </tr>\n",
       "  </thead>\n",
       "  <tbody>\n",
       "    <tr>\n",
       "      <th>count</th>\n",
       "      <td>14.000000</td>\n",
       "      <td>12.000000</td>\n",
       "    </tr>\n",
       "    <tr>\n",
       "      <th>mean</th>\n",
       "      <td>31.928571</td>\n",
       "      <td>82838.000000</td>\n",
       "    </tr>\n",
       "    <tr>\n",
       "      <th>std</th>\n",
       "      <td>16.776652</td>\n",
       "      <td>118555.852663</td>\n",
       "    </tr>\n",
       "    <tr>\n",
       "      <th>min</th>\n",
       "      <td>0.000000</td>\n",
       "      <td>56.000000</td>\n",
       "    </tr>\n",
       "    <tr>\n",
       "      <th>25%</th>\n",
       "      <td>24.000000</td>\n",
       "      <td>40250.000000</td>\n",
       "    </tr>\n",
       "    <tr>\n",
       "      <th>50%</th>\n",
       "      <td>32.500000</td>\n",
       "      <td>57500.000000</td>\n",
       "    </tr>\n",
       "    <tr>\n",
       "      <th>75%</th>\n",
       "      <td>44.500000</td>\n",
       "      <td>74000.000000</td>\n",
       "    </tr>\n",
       "    <tr>\n",
       "      <th>max</th>\n",
       "      <td>55.000000</td>\n",
       "      <td>450000.000000</td>\n",
       "    </tr>\n",
       "  </tbody>\n",
       "</table>\n",
       "</div>"
      ],
      "text/plain": [
       "             age     income (£)\n",
       "count  14.000000      12.000000\n",
       "mean   31.928571   82838.000000\n",
       "std    16.776652  118555.852663\n",
       "min     0.000000      56.000000\n",
       "25%    24.000000   40250.000000\n",
       "50%    32.500000   57500.000000\n",
       "75%    44.500000   74000.000000\n",
       "max    55.000000  450000.000000"
      ]
     },
     "execution_count": 58,
     "metadata": {},
     "output_type": "execute_result"
    }
   ],
   "source": [
    "df.describe()"
   ]
  },
  {
   "cell_type": "code",
   "execution_count": 59,
   "id": "08a58d1a",
   "metadata": {},
   "outputs": [
    {
     "data": {
      "text/plain": [
       "0"
      ]
     },
     "execution_count": 59,
     "metadata": {},
     "output_type": "execute_result"
    }
   ],
   "source": [
    "df['age'].isna().sum()"
   ]
  },
  {
   "cell_type": "code",
   "execution_count": 60,
   "id": "a9184a6c",
   "metadata": {},
   "outputs": [
    {
     "data": {
      "text/plain": [
       "1"
      ]
     },
     "execution_count": 60,
     "metadata": {},
     "output_type": "execute_result"
    }
   ],
   "source": [
    "df['gender'].isna().sum()"
   ]
  },
  {
   "cell_type": "code",
   "execution_count": 61,
   "id": "6045d981",
   "metadata": {},
   "outputs": [
    {
     "data": {
      "text/plain": [
       "6"
      ]
     },
     "execution_count": 61,
     "metadata": {},
     "output_type": "execute_result"
    }
   ],
   "source": [
    "df['gender'].nunique()"
   ]
  },
  {
   "cell_type": "code",
   "execution_count": 62,
   "id": "b31a9ab9",
   "metadata": {},
   "outputs": [
    {
     "data": {
      "text/plain": [
       "array(['M', 'f', 'F', 'm', None, 'N/A', 'None'], dtype=object)"
      ]
     },
     "execution_count": 62,
     "metadata": {},
     "output_type": "execute_result"
    }
   ],
   "source": [
    "df['gender'].unique()"
   ]
  },
  {
   "cell_type": "code",
   "execution_count": 63,
   "id": "a32598aa",
   "metadata": {},
   "outputs": [
    {
     "data": {
      "text/html": [
       "<div>\n",
       "<style scoped>\n",
       "    .dataframe tbody tr th:only-of-type {\n",
       "        vertical-align: middle;\n",
       "    }\n",
       "\n",
       "    .dataframe tbody tr th {\n",
       "        vertical-align: top;\n",
       "    }\n",
       "\n",
       "    .dataframe thead th {\n",
       "        text-align: right;\n",
       "    }\n",
       "</style>\n",
       "<table border=\"1\" class=\"dataframe\">\n",
       "  <thead>\n",
       "    <tr style=\"text-align: right;\">\n",
       "      <th></th>\n",
       "      <th>name</th>\n",
       "      <th>age</th>\n",
       "      <th>gender</th>\n",
       "      <th>income (£)</th>\n",
       "      <th>occupation</th>\n",
       "      <th>address</th>\n",
       "    </tr>\n",
       "  </thead>\n",
       "  <tbody>\n",
       "    <tr>\n",
       "      <th>0</th>\n",
       "      <td>John</td>\n",
       "      <td>32</td>\n",
       "      <td>M</td>\n",
       "      <td>50000.0</td>\n",
       "      <td>Doctor</td>\n",
       "      <td>Cape town</td>\n",
       "    </tr>\n",
       "    <tr>\n",
       "      <th>1</th>\n",
       "      <td>Jane</td>\n",
       "      <td>27</td>\n",
       "      <td>f</td>\n",
       "      <td>60000.0</td>\n",
       "      <td>Scientist</td>\n",
       "      <td>London</td>\n",
       "    </tr>\n",
       "    <tr>\n",
       "      <th>2</th>\n",
       "      <td>Bob</td>\n",
       "      <td>45</td>\n",
       "      <td>M</td>\n",
       "      <td>NaN</td>\n",
       "      <td>Technician</td>\n",
       "      <td>New York</td>\n",
       "    </tr>\n",
       "    <tr>\n",
       "      <th>3</th>\n",
       "      <td>Sara</td>\n",
       "      <td>0</td>\n",
       "      <td>F</td>\n",
       "      <td>72000.0</td>\n",
       "      <td>None</td>\n",
       "      <td>Tokyo</td>\n",
       "    </tr>\n",
       "    <tr>\n",
       "      <th>4</th>\n",
       "      <td>Tom</td>\n",
       "      <td>38</td>\n",
       "      <td>m</td>\n",
       "      <td>NaN</td>\n",
       "      <td>Banker</td>\n",
       "      <td>None</td>\n",
       "    </tr>\n",
       "    <tr>\n",
       "      <th>5</th>\n",
       "      <td>James</td>\n",
       "      <td>55</td>\n",
       "      <td>None</td>\n",
       "      <td>80000.0</td>\n",
       "      <td>Beautician</td>\n",
       "      <td>Chicago</td>\n",
       "    </tr>\n",
       "    <tr>\n",
       "      <th>6</th>\n",
       "      <td>Philip</td>\n",
       "      <td>23</td>\n",
       "      <td>M</td>\n",
       "      <td>32000.0</td>\n",
       "      <td>Artist</td>\n",
       "      <td>Houston</td>\n",
       "    </tr>\n",
       "    <tr>\n",
       "      <th>7</th>\n",
       "      <td>None</td>\n",
       "      <td>43</td>\n",
       "      <td>F</td>\n",
       "      <td>55000.0</td>\n",
       "      <td>Entrepreneur</td>\n",
       "      <td>Texas</td>\n",
       "    </tr>\n",
       "    <tr>\n",
       "      <th>8</th>\n",
       "      <td>White</td>\n",
       "      <td>32</td>\n",
       "      <td>M</td>\n",
       "      <td>43000.0</td>\n",
       "      <td>Nurse</td>\n",
       "      <td>Manchester</td>\n",
       "    </tr>\n",
       "    <tr>\n",
       "      <th>9</th>\n",
       "      <td>Susan</td>\n",
       "      <td>50</td>\n",
       "      <td>F</td>\n",
       "      <td>85000.0</td>\n",
       "      <td>Data Analyst</td>\n",
       "      <td>Paris</td>\n",
       "    </tr>\n",
       "    <tr>\n",
       "      <th>10</th>\n",
       "      <td>Becky</td>\n",
       "      <td>0</td>\n",
       "      <td>f</td>\n",
       "      <td>60000.0</td>\n",
       "      <td>Engineer</td>\n",
       "      <td>Berlin</td>\n",
       "    </tr>\n",
       "    <tr>\n",
       "      <th>11</th>\n",
       "      <td>Brown</td>\n",
       "      <td>22</td>\n",
       "      <td>M</td>\n",
       "      <td>450000.0</td>\n",
       "      <td>Teacher</td>\n",
       "      <td>Dubai</td>\n",
       "    </tr>\n",
       "    <tr>\n",
       "      <th>12</th>\n",
       "      <td>Matt</td>\n",
       "      <td>33</td>\n",
       "      <td>N/A</td>\n",
       "      <td>56.0</td>\n",
       "      <td>Nurse</td>\n",
       "      <td>Madrid</td>\n",
       "    </tr>\n",
       "    <tr>\n",
       "      <th>13</th>\n",
       "      <td>Ore</td>\n",
       "      <td>47</td>\n",
       "      <td>None</td>\n",
       "      <td>7000.0</td>\n",
       "      <td>Trader</td>\n",
       "      <td>Lagos</td>\n",
       "    </tr>\n",
       "  </tbody>\n",
       "</table>\n",
       "</div>"
      ],
      "text/plain": [
       "      name  age gender  income (£)    occupation     address\n",
       "0     John   32      M     50000.0        Doctor   Cape town\n",
       "1     Jane   27      f     60000.0     Scientist      London\n",
       "2      Bob   45      M         NaN    Technician    New York\n",
       "3     Sara    0      F     72000.0          None       Tokyo\n",
       "4      Tom   38      m         NaN        Banker        None\n",
       "5    James   55   None     80000.0    Beautician     Chicago\n",
       "6   Philip   23      M     32000.0        Artist     Houston\n",
       "7     None   43      F     55000.0  Entrepreneur       Texas\n",
       "8    White   32      M     43000.0         Nurse  Manchester\n",
       "9    Susan   50      F     85000.0  Data Analyst       Paris\n",
       "10   Becky    0      f     60000.0      Engineer      Berlin\n",
       "11   Brown   22      M    450000.0       Teacher       Dubai\n",
       "12    Matt   33    N/A        56.0         Nurse      Madrid\n",
       "13     Ore   47   None      7000.0        Trader       Lagos"
      ]
     },
     "execution_count": 63,
     "metadata": {},
     "output_type": "execute_result"
    }
   ],
   "source": [
    "df"
   ]
  },
  {
   "cell_type": "code",
   "execution_count": 64,
   "id": "74500f45",
   "metadata": {},
   "outputs": [],
   "source": [
    "df['gender'] = df['gender'].replace({'f': 'F', 'm': 'M', 'N/A': np.nan, 'None': np.nan, None: np.nan})"
   ]
  },
  {
   "cell_type": "code",
   "execution_count": 65,
   "id": "5a2c02aa",
   "metadata": {},
   "outputs": [
    {
     "data": {
      "text/plain": [
       "array(['M', 'F', nan], dtype=object)"
      ]
     },
     "execution_count": 65,
     "metadata": {},
     "output_type": "execute_result"
    }
   ],
   "source": [
    "df['gender'].unique()"
   ]
  },
  {
   "cell_type": "code",
   "execution_count": 66,
   "id": "1c983a65",
   "metadata": {},
   "outputs": [
    {
     "data": {
      "text/plain": [
       "3"
      ]
     },
     "execution_count": 66,
     "metadata": {},
     "output_type": "execute_result"
    }
   ],
   "source": [
    "df['gender'].isna().sum()"
   ]
  }
 ],
 "metadata": {
  "kernelspec": {
   "display_name": "Python 3 (ipykernel)",
   "language": "python",
   "name": "python3"
  },
  "language_info": {
   "codemirror_mode": {
    "name": "ipython",
    "version": 3
   },
   "file_extension": ".py",
   "mimetype": "text/x-python",
   "name": "python",
   "nbconvert_exporter": "python",
   "pygments_lexer": "ipython3",
   "version": "3.12.2"
  },
  "vscode": {
   "interpreter": {
    "hash": "d7e5aead497aa28a788c8b6d86ece7b1fc2a02c53631b4b3852c062c5afbf17d"
   }
  }
 },
 "nbformat": 4,
 "nbformat_minor": 5
}
