{
 "cells": [
  {
   "cell_type": "markdown",
   "metadata": {},
   "source": [
    "\n",
    "\n",
    "# Introduction to Python for Geologist & Engineers\n",
    "\n",
    "Facilitator: Promise Ekeh\n",
    "\n",
    "Date: 29th June 2024\n",
    "\n",
    "# Module 1: Introduction to Python"
   ]
  },
  {
   "cell_type": "markdown",
   "metadata": {},
   "source": [
    "# Getting Started with Python\n",
    "- Installing Python and Anaconda\n",
    "- Introduction to Jupyter Notebooks\n",
    "- Basic Python syntax\n",
    "- variables, data types, basic operations\n"
   ]
  },
  {
   "cell_type": "markdown",
   "metadata": {},
   "source": [
    "## Integrated Development Environment\n",
    "\n",
    "- Jupyter notebook\n",
    "- Visual Studio Code (VS code)\n",
    "- Spyder\n",
    "- pycharm\n",
    "\n",
    "## Python File types\n",
    ".ipynb (jupyter notebook)\n",
    ".py (python)\n",
    ".md (markdown)"
   ]
  },
  {
   "cell_type": "markdown",
   "metadata": {},
   "source": [
    "## Basic Python syntax"
   ]
  },
  {
   "cell_type": "code",
   "execution_count": 1,
   "metadata": {},
   "outputs": [
    {
     "name": "stdout",
     "output_type": "stream",
     "text": [
      "Welcome to Python 4 Geology\n"
     ]
    }
   ],
   "source": [
    "print('Welcome to Python 4 Geology')"
   ]
  },
  {
   "cell_type": "markdown",
   "metadata": {},
   "source": [
    "## input function"
   ]
  },
  {
   "cell_type": "code",
   "execution_count": 2,
   "metadata": {},
   "outputs": [
    {
     "data": {
      "text/plain": [
       "'40'"
      ]
     },
     "execution_count": 2,
     "metadata": {},
     "output_type": "execute_result"
    }
   ],
   "source": [
    "input()"
   ]
  },
  {
   "cell_type": "code",
   "execution_count": 3,
   "metadata": {},
   "outputs": [
    {
     "data": {
      "text/plain": [
       "'Promise'"
      ]
     },
     "execution_count": 3,
     "metadata": {},
     "output_type": "execute_result"
    }
   ],
   "source": [
    "input('What is your name')"
   ]
  },
  {
   "cell_type": "markdown",
   "metadata": {},
   "source": [
    "## Variables, data types, basic operations\n",
    "### Variables\n",
    "variables in python are used to store data/info. A variable can have a short name (like x and y) or a more descriptive name (age, carname, total_volume). \n",
    "\n",
    "**Rules for Python variables:**\n",
    "- A variable name must start with a letter or the underscore character\n",
    "- A variable name cannot start with a number\n",
    "- A variable name can only contain alpha-numeric characters and underscores (A-z, 0-9, and _ )\n",
    "- Variable names are case-sensitive (age, Age and AGE are three different variables)\n",
    "- A variable name cannot be any of the Python keywords.\n"
   ]
  },
  {
   "cell_type": "code",
   "execution_count": 4,
   "metadata": {},
   "outputs": [],
   "source": [
    "#Right ways to name variables\n",
    "myvar = \"Promise\"\n",
    "my_var = \"Promise\"\n",
    "_my_var = \"Promise\"\n",
    "myVar = \"Promise\"\n",
    "MYVAR = \"Promise\"\n",
    "myvar2 = \"Promise\""
   ]
  },
  {
   "cell_type": "code",
   "execution_count": 5,
   "metadata": {},
   "outputs": [
    {
     "ename": "SyntaxError",
     "evalue": "invalid decimal literal (2758111970.py, line 2)",
     "output_type": "error",
     "traceback": [
      "\u001b[1;36m  Cell \u001b[1;32mIn[5], line 2\u001b[1;36m\u001b[0m\n\u001b[1;33m    2myvar = \"John\"\u001b[0m\n\u001b[1;37m    ^\u001b[0m\n\u001b[1;31mSyntaxError\u001b[0m\u001b[1;31m:\u001b[0m invalid decimal literal\n"
     ]
    }
   ],
   "source": [
    "# Wrong ways to name variables\n",
    "2myvar = \"John\"\n",
    "my-var = \"John\"\n",
    "my var = \"John\""
   ]
  },
  {
   "cell_type": "markdown",
   "metadata": {},
   "source": [
    "\n",
    "### Naming Multi word variables\n",
    "Ways to name multi word variable\n",
    "* Camel Case\n",
    "* Pascal Case\n",
    "* Snale case"
   ]
  },
  {
   "cell_type": "markdown",
   "metadata": {},
   "source": [
    "#### Camel Case\n",
    "Each word except the first starts with capital letter"
   ]
  },
  {
   "cell_type": "code",
   "execution_count": 6,
   "metadata": {},
   "outputs": [],
   "source": [
    "myFirstName = 'Promise'\n"
   ]
  },
  {
   "cell_type": "code",
   "execution_count": 7,
   "metadata": {},
   "outputs": [],
   "source": [
    "bulletItems = []\n"
   ]
  },
  {
   "cell_type": "code",
   "execution_count": 8,
   "metadata": {},
   "outputs": [],
   "source": [
    "dictOfItems = {}"
   ]
  },
  {
   "cell_type": "markdown",
   "metadata": {},
   "source": [
    "#### Paschal\n",
    "Each word starts with capital letter\n"
   ]
  },
  {
   "cell_type": "code",
   "execution_count": 9,
   "metadata": {},
   "outputs": [],
   "source": [
    "MyFirstName = ''"
   ]
  },
  {
   "cell_type": "code",
   "execution_count": 10,
   "metadata": {},
   "outputs": [],
   "source": [
    "ThisVariableName = ''"
   ]
  },
  {
   "cell_type": "code",
   "execution_count": 11,
   "metadata": {},
   "outputs": [],
   "source": [
    "EvenNumbers = [2, 4, 6, 8]"
   ]
  },
  {
   "cell_type": "markdown",
   "metadata": {},
   "source": [
    "#### Snake Case\n",
    "\n",
    "each word separated by underscore"
   ]
  },
  {
   "cell_type": "code",
   "execution_count": 12,
   "metadata": {},
   "outputs": [],
   "source": [
    "my_first_name = 'Promsie'"
   ]
  },
  {
   "cell_type": "code",
   "execution_count": 13,
   "metadata": {},
   "outputs": [],
   "source": [
    "even_numbers = [2, 4, 6]"
   ]
  },
  {
   "cell_type": "markdown",
   "metadata": {},
   "source": [
    "### Importance of Proper Variable naming\n",
    "\n",
    "* code easily understandable\n",
    "* python doesn't accept spaces in variable names"
   ]
  },
  {
   "cell_type": "markdown",
   "metadata": {},
   "source": [
    "### Many Values to Multiple Variables\n",
    "Python allows you to assign values to multiple variables in one line:"
   ]
  },
  {
   "cell_type": "code",
   "execution_count": 14,
   "metadata": {},
   "outputs": [
    {
     "name": "stdout",
     "output_type": "stream",
     "text": [
      "Orange\n",
      "Banana\n",
      "Cherry\n"
     ]
    }
   ],
   "source": [
    "x, y, z = \"Orange\", \"Banana\", \"Cherry\"\n",
    "print(x)\n",
    "print(y)\n",
    "print(z)"
   ]
  },
  {
   "cell_type": "markdown",
   "metadata": {},
   "source": [
    "## Data types\n",
    "\n",
    "* **Integers**  -> Numbers\n",
    "* **Floats**    -> floating numbers\n",
    "* **Strings**   -> letters\n",
    "* **Bool**      -> True/ False"
   ]
  },
  {
   "cell_type": "markdown",
   "metadata": {},
   "source": [
    "### integer"
   ]
  },
  {
   "cell_type": "code",
   "execution_count": 15,
   "metadata": {},
   "outputs": [],
   "source": [
    "quartz_hardness = 7\n",
    "gypsum_hardness = 2\n"
   ]
  },
  {
   "cell_type": "code",
   "execution_count": 16,
   "metadata": {},
   "outputs": [
    {
     "data": {
      "text/plain": [
       "int"
      ]
     },
     "execution_count": 16,
     "metadata": {},
     "output_type": "execute_result"
    }
   ],
   "source": [
    "type(quartz_hardness)"
   ]
  },
  {
   "cell_type": "markdown",
   "metadata": {},
   "source": [
    "### strings"
   ]
  },
  {
   "cell_type": "code",
   "execution_count": 17,
   "metadata": {},
   "outputs": [],
   "source": [
    "mineral = \"Quartz\"\n",
    "\n",
    "color = 'colorless'\n"
   ]
  },
  {
   "cell_type": "code",
   "execution_count": 18,
   "metadata": {},
   "outputs": [
    {
     "data": {
      "text/plain": [
       "str"
      ]
     },
     "execution_count": 18,
     "metadata": {},
     "output_type": "execute_result"
    }
   ],
   "source": [
    "type(mineral)"
   ]
  },
  {
   "cell_type": "code",
   "execution_count": 19,
   "metadata": {},
   "outputs": [
    {
     "data": {
      "text/plain": [
       "str"
      ]
     },
     "execution_count": 19,
     "metadata": {},
     "output_type": "execute_result"
    }
   ],
   "source": [
    "type(color)"
   ]
  },
  {
   "cell_type": "code",
   "execution_count": 20,
   "metadata": {},
   "outputs": [],
   "source": [
    "## multiline string\n",
    "\n",
    "quartz= '''Quartz is a hard, crystalline mineral composed of silica (silicon dioxide). \n",
    "        The atoms are linked in a continuous framework of SiO4 silicon–oxygen tetrahedra, \n",
    "        with each oxygen being shared between two tetrahedra, giving an overall chemical formula of SiO2. \n",
    "        Quartz is, therefore, classified structurally as a framework silicate mineral and compositionally as an oxide mineral. \n",
    "        Quartz is the second most abundant mineral in Earth's continental crust, behind feldspar.\n",
    "\n",
    "        '''"
   ]
  },
  {
   "cell_type": "code",
   "execution_count": 21,
   "metadata": {},
   "outputs": [
    {
     "data": {
      "text/plain": [
       "str"
      ]
     },
     "execution_count": 21,
     "metadata": {},
     "output_type": "execute_result"
    }
   ],
   "source": [
    "type(quartz)"
   ]
  },
  {
   "cell_type": "markdown",
   "metadata": {},
   "source": [
    "### formated strings"
   ]
  },
  {
   "cell_type": "code",
   "execution_count": 22,
   "metadata": {},
   "outputs": [
    {
     "name": "stdout",
     "output_type": "stream",
     "text": [
      "Quartz has a hardness of 7 and is colorless.\n"
     ]
    }
   ],
   "source": [
    "hardness = 7\n",
    "description = f\"{mineral} has a hardness of {hardness} and is {color}.\"\n",
    "print(description)\n"
   ]
  },
  {
   "cell_type": "markdown",
   "metadata": {},
   "source": [
    "## Operators\n",
    "\n",
    "- Arithmetic operators: +, -, *, /\n",
    "- Comparison operators: ==, !=, >, <\n",
    "\n",
    "### Conditions\n",
    "- Equals: `a == b`  \n",
    "- Not Equals: `a != b  ` \n",
    "- Less than: `a < b`   \n",
    "- Less than or equal to: `a <= b ` \n",
    "- Greater than: `a > b `  \n",
    "- Greater than or equal to: `a >= b `"
   ]
  },
  {
   "cell_type": "code",
   "execution_count": 23,
   "metadata": {},
   "outputs": [],
   "source": [
    "# Example: Calculate the difference in hardness between two minerals."
   ]
  },
  {
   "cell_type": "code",
   "execution_count": 24,
   "metadata": {},
   "outputs": [
    {
     "name": "stdout",
     "output_type": "stream",
     "text": [
      "5\n"
     ]
    }
   ],
   "source": [
    "hardness_difference = quartz_hardness - gypsum_hardness\n",
    "print(hardness_difference)"
   ]
  },
  {
   "cell_type": "code",
   "execution_count": 25,
   "metadata": {},
   "outputs": [],
   "source": [
    "mass= 150  # in grams\n",
    "volume  = 100 # cm3 (cc)\n",
    "g= 9.81 #meters"
   ]
  },
  {
   "cell_type": "code",
   "execution_count": 26,
   "metadata": {},
   "outputs": [
    {
     "data": {
      "text/plain": [
       "1.5"
      ]
     },
     "execution_count": 26,
     "metadata": {},
     "output_type": "execute_result"
    }
   ],
   "source": [
    "density = mass / volume #g/cm3\n",
    "\n",
    "# convert g/cc to kg/m3 multiply by 1000\n",
    "density"
   ]
  },
  {
   "cell_type": "code",
   "execution_count": 27,
   "metadata": {},
   "outputs": [
    {
     "data": {
      "text/plain": [
       "5150.25"
      ]
     },
     "execution_count": 27,
     "metadata": {},
     "output_type": "execute_result"
    }
   ],
   "source": [
    "depth = 350 #meters\n",
    "pressure = (depth * density * g) #pascal\n",
    "pressure"
   ]
  },
  {
   "cell_type": "markdown",
   "metadata": {},
   "source": [
    "#### Porosity of a Rock Sample\n",
    "Porosity is the percentage of void space in a rock. It can be calculated using the volume of voids and the total volume of the rock.\n",
    "\n",
    "$ Porosity = \\frac{Volume of Voids}{Total Volume}\\ × 100 $\n",
    "\n"
   ]
  },
  {
   "cell_type": "code",
   "execution_count": 28,
   "metadata": {},
   "outputs": [],
   "source": [
    "volume_of_voids = 10  # in cubic cm\n",
    "total_volume = 100  # in cubic cm\n",
    "porosity = (volume_of_voids / total_volume) * 100\n",
    "porosity"
   ]
  },
  {
   "cell_type": "markdown",
   "metadata": {},
   "source": [
    "***\n",
    "## Data Structure -Types to store Collection of data\n",
    "\n",
    "Data structures are used to store multiple items in a single variable\n",
    "\n",
    "* **List**\n",
    "    - They are created using square brackets `[]`. items are ordered, changeable, and allow duplicate values.\n",
    "* **Tuple** \n",
    "    - There are created with curved/round brackets `()`, are immutable i.e. cannot be changed. items are ordered, unchangeable, and allow duplicate values.\n",
    "* **Sets**\n",
    "    - They are created using curly brackets `{}`, are unordered/unindexed and unchangeable. Once a set is created, you cannot change its items, but you can add new items. Duplicates not allowed\n",
    "* **Dictionaries**\n",
    "    - They are created using curly brackets `{}`,  are used to store multiple items in key:value pair\n",
    "    - They are ordered, changeable but don't allow duplicate keys"
   ]
  },
  {
   "cell_type": "markdown",
   "metadata": {},
   "source": [
    "### List"
   ]
  },
  {
   "cell_type": "code",
   "execution_count": 29,
   "metadata": {},
   "outputs": [
    {
     "name": "stdout",
     "output_type": "stream",
     "text": [
      "['Quartz', 'Gypsum', 'Calcite', 'Fluorite']\n"
     ]
    }
   ],
   "source": [
    "minerals = [\"Quartz\", \"Gypsum\", \"Calcite\", \"Fluorite\"]\n",
    "print(minerals)\n"
   ]
  },
  {
   "cell_type": "markdown",
   "metadata": {},
   "source": [
    "#### list methods"
   ]
  },
  {
   "cell_type": "code",
   "execution_count": 30,
   "metadata": {},
   "outputs": [
    {
     "name": "stdout",
     "output_type": "stream",
     "text": [
      "['Calcite', 'Fluorite', 'Gypsum', 'Quartz']\n"
     ]
    }
   ],
   "source": [
    "minerals.sort()\n",
    "print(minerals)"
   ]
  },
  {
   "cell_type": "code",
   "execution_count": 31,
   "metadata": {},
   "outputs": [
    {
     "name": "stdout",
     "output_type": "stream",
     "text": [
      "['Calcite', 'Fluorite', 'Gypsum', 'Quartz', 'Halite']\n",
      "['Calcite', 'Fluorite', 'Quartz', 'Halite']\n"
     ]
    }
   ],
   "source": [
    "minerals.append(\"Halite\")\n",
    "print(minerals)\n",
    "minerals.remove(\"Gypsum\")\n",
    "print(minerals)\n"
   ]
  },
  {
   "cell_type": "markdown",
   "metadata": {},
   "source": [
    "### sets"
   ]
  },
  {
   "cell_type": "code",
   "execution_count": 32,
   "metadata": {},
   "outputs": [],
   "source": [
    "rocks = {}"
   ]
  },
  {
   "cell_type": "markdown",
   "metadata": {},
   "source": [
    "### dictionary"
   ]
  },
  {
   "cell_type": "code",
   "execution_count": 33,
   "metadata": {},
   "outputs": [
    {
     "name": "stdout",
     "output_type": "stream",
     "text": [
      "{'hardness': 7, 'color': 'colorless'}\n"
     ]
    }
   ],
   "source": [
    "mineral_properties = {\n",
    "    \"Quartz\": {\"hardness\": 7, \"color\": \"colorless\"},\n",
    "    \"Gypsum\": {\"hardness\": 2, \"color\": \"white\"},\n",
    "    \"Calcite\": {\"hardness\": 3, \"color\": \"white\"},\n",
    "}\n",
    "print(mineral_properties[\"Quartz\"])\n"
   ]
  },
  {
   "cell_type": "code",
   "execution_count": 34,
   "metadata": {},
   "outputs": [],
   "source": [
    "rock_types= {'':'igneous',\n",
    "             'shale': 'sedimentary'}"
   ]
  },
  {
   "cell_type": "code",
   "execution_count": 35,
   "metadata": {},
   "outputs": [],
   "source": [
    "##"
   ]
  },
  {
   "cell_type": "markdown",
   "metadata": {},
   "source": [
    "***\n",
    "## Break\n",
    "\n",
    "***"
   ]
  },
  {
   "cell_type": "markdown",
   "metadata": {},
   "source": [
    "## Control Flow / Structures (if-else, loops)"
   ]
  },
  {
   "cell_type": "markdown",
   "metadata": {},
   "source": [
    "### If-Else Statements"
   ]
  },
  {
   "cell_type": "code",
   "execution_count": 36,
   "metadata": {},
   "outputs": [
    {
     "name": "stdout",
     "output_type": "stream",
     "text": [
      "Quartz is harder than gypsum\n"
     ]
    }
   ],
   "source": [
    "if quartz_hardness > gypsum_hardness:\n",
    "    print(\"Quartz is harder than gypsum\")\n",
    "else:\n",
    "    print(\"Gypsum is harder than quartz\")"
   ]
  },
  {
   "cell_type": "markdown",
   "metadata": {},
   "source": [
    "### For Loops"
   ]
  },
  {
   "cell_type": "code",
   "execution_count": 37,
   "metadata": {},
   "outputs": [
    {
     "name": "stdout",
     "output_type": "stream",
     "text": [
      "Quartz\n",
      "Gypsum\n",
      "Calcite\n",
      "Fluorite\n"
     ]
    }
   ],
   "source": [
    "minerals = [\"Quartz\", \"Gypsum\", \"Calcite\", \"Fluorite\"]\n",
    "for mineral in minerals:\n",
    "    print(mineral)\n"
   ]
  },
  {
   "cell_type": "markdown",
   "metadata": {},
   "source": [
    "### While Loops"
   ]
  },
  {
   "cell_type": "code",
   "execution_count": 38,
   "metadata": {},
   "outputs": [
    {
     "name": "stdout",
     "output_type": "stream",
     "text": [
      "Current rock hardness: 9\n",
      "Current rock hardness: 8\n",
      "Current rock hardness: 7\n",
      "Current rock hardness: 6\n",
      "Current rock hardness: 5\n",
      "Current rock hardness: 4\n",
      "Current rock hardness: 3\n"
     ]
    }
   ],
   "source": [
    "rock_hardness = 10\n",
    "while rock_hardness > 3:\n",
    "    rock_hardness -= 1\n",
    "    print(f\"Current rock hardness: {rock_hardness}\")"
   ]
  },
  {
   "cell_type": "markdown",
   "metadata": {},
   "source": [
    "## Functions and Modules"
   ]
  },
  {
   "cell_type": "markdown",
   "metadata": {},
   "source": [
    "### Functions\n",
    "\n",
    "A function is a reusable block of code that performs a specific task. Functions help in organizing code, making it more readable, and avoiding repetition\n",
    "\n",
    "```\n",
    "def function_name(parameters):\n",
    "    code to execute\n",
    "    return value"
   ]
  },
  {
   "cell_type": "code",
   "execution_count": 39,
   "metadata": {},
   "outputs": [],
   "source": [
    "def add(a, b):\n",
    "    return a + b\n"
   ]
  },
  {
   "cell_type": "code",
   "execution_count": 40,
   "metadata": {},
   "outputs": [
    {
     "data": {
      "text/plain": [
       "7"
      ]
     },
     "execution_count": 40,
     "metadata": {},
     "output_type": "execute_result"
    }
   ],
   "source": [
    "\n",
    "result = add(3, 4)\n",
    "result"
   ]
  },
  {
   "cell_type": "code",
   "execution_count": 41,
   "metadata": {},
   "outputs": [],
   "source": [
    "def add(arg):\n",
    "    return sum(arg)"
   ]
  },
  {
   "cell_type": "code",
   "execution_count": 42,
   "metadata": {},
   "outputs": [
    {
     "data": {
      "text/plain": [
       "87"
      ]
     },
     "execution_count": 42,
     "metadata": {},
     "output_type": "execute_result"
    }
   ],
   "source": [
    "add((2,4, 5, 7, 9, 30, 30))"
   ]
  },
  {
   "cell_type": "code",
   "execution_count": 43,
   "metadata": {},
   "outputs": [
    {
     "name": "stdout",
     "output_type": "stream",
     "text": [
      "Density: 5.0\n"
     ]
    }
   ],
   "source": [
    "def calculate_density(mass, volume):\n",
    "    return mass / volume\n",
    "\n",
    "density = calculate_density(50, 10)\n",
    "print(f\"Density: {density}\")"
   ]
  },
  {
   "cell_type": "markdown",
   "metadata": {},
   "source": [
    "### Modules"
   ]
  },
  {
   "cell_type": "code",
   "execution_count": 44,
   "metadata": {},
   "outputs": [],
   "source": [
    "import math\n"
   ]
  },
  {
   "cell_type": "markdown",
   "metadata": {},
   "source": [
    "Calculate the volume of a spherical mineral sample\n",
    "\n",
    "$ V = \\frac{4}3\\ π r^3$\n"
   ]
  },
  {
   "cell_type": "code",
   "execution_count": 45,
   "metadata": {},
   "outputs": [
    {
     "name": "stdout",
     "output_type": "stream",
     "text": [
      "Volume: 523.5987755982989\n"
     ]
    }
   ],
   "source": [
    "radius = 5\n",
    "volume = (4/3) * math.pi * (radius**3)\n",
    "print(f\"Volume: {volume}\")\n"
   ]
  },
  {
   "cell_type": "code",
   "execution_count": 46,
   "metadata": {},
   "outputs": [],
   "source": [
    "def calculate_sphere_volume (radius):\n",
    "    volume = (4/3) * math.pi * (radius**3)\n",
    "    return volume"
   ]
  },
  {
   "cell_type": "code",
   "execution_count": 47,
   "metadata": {},
   "outputs": [
    {
     "data": {
      "text/plain": [
       "4188.790204786391"
      ]
     },
     "execution_count": 47,
     "metadata": {},
     "output_type": "execute_result"
    }
   ],
   "source": [
    "calculate_sphere_volume(10)"
   ]
  },
  {
   "cell_type": "markdown",
   "metadata": {},
   "source": [
    "***\n",
    "\n",
    "## Exercise"
   ]
  },
  {
   "cell_type": "code",
   "execution_count": null,
   "metadata": {},
   "outputs": [],
   "source": []
  }
 ],
 "metadata": {
  "kernelspec": {
   "display_name": "python12",
   "language": "python",
   "name": "python3"
  },
  "language_info": {
   "codemirror_mode": {
    "name": "ipython",
    "version": 3
   },
   "file_extension": ".py",
   "mimetype": "text/x-python",
   "name": "python",
   "nbconvert_exporter": "python",
   "pygments_lexer": "ipython3",
   "version": "3.12.2"
  }
 },
 "nbformat": 4,
 "nbformat_minor": 2
}
