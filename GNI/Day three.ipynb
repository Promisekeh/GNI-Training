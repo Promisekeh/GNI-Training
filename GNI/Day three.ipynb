{
 "cells": [
  {
   "cell_type": "markdown",
   "id": "6a540aae",
   "metadata": {},
   "source": [
    "# Week 3\n",
    "Youtube video: https://youtu.be/ssPWDulEZWo"
   ]
  },
  {
   "cell_type": "code",
   "execution_count": 1,
   "id": "daf5df7b",
   "metadata": {},
   "outputs": [
    {
     "data": {
      "text/html": [
       "<iframe width=\"560\" height=\"315\" \n",
       "        src=\"https://www.youtube-nocookie.com/embed/ssPWDulEZWo?si=oX2e2rq14IYFaVRh\" \n",
       "        </iframe>\n"
      ],
      "text/plain": [
       "<IPython.core.display.HTML object>"
      ]
     },
     "metadata": {},
     "output_type": "display_data"
    }
   ],
   "source": [
    "%%HTML\n",
    "<iframe width=\"560\" height=\"315\" \n",
    "        src=\"https://www.youtube-nocookie.com/embed/ssPWDulEZWo?si=oX2e2rq14IYFaVRh\" \n",
    "        </iframe>"
   ]
  },
  {
   "cell_type": "code",
   "execution_count": 1,
   "id": "4ce146ef",
   "metadata": {},
   "outputs": [],
   "source": [
    "import pandas as pd\n",
    "import numpy as np"
   ]
  },
  {
   "cell_type": "markdown",
   "id": "b4422ce9",
   "metadata": {},
   "source": [
    "## Create Data"
   ]
  },
  {
   "cell_type": "code",
   "execution_count": 2,
   "id": "8257eb33",
   "metadata": {},
   "outputs": [],
   "source": [
    "data = {'Name': ['John', 'Jane', 'Bob', 'Sara', 'Tom', 'James', 'Philip', np.nan, 'White', 'Susan', 'Becky', 'Brown', 'Matt', 'Ore'],\n",
    "        'Age': [32, 27, 45, np.nan, 38, '55', 23, 43, 32, 50, np.nan, 22, 33, 47],\n",
    "        'Gender': ['M', 'f', 'M', 'F', 'm', np.nan, 'M', 'F', 'M', 'F', 'f', 'M', 'N/A', 'None'],\n",
    "        'Income': ['£50000', '£60000', np.nan, '£72000', np.nan, '£80000', '£32000', '£55000', '£43000', '£85000', '£60000', '£450000', '£56.000', '£7000'],\n",
    "        'Occupation': ['Doctor', 'Data Analyst', 'Technician', 'Engineer', 'Banker', 'Doctor', 'Artist', 'Entrepreneur', 'Nurse', 'Data Analyst', 'Engineer', 'Teacher', 'Nurse', 'Entrepreneur'],\n",
    "        'City': ['Cape town', 'London',  'New York', 'Tokyo', np.nan, 'Chicago', 'Houston',  'Texas', 'Manchester', 'Paris', 'Berlin', 'Dubai', 'Madrid', 'Lagos'],}\n",
    "df = pd.DataFrame(data)"
   ]
  },
  {
   "cell_type": "code",
   "execution_count": 3,
   "id": "3cd2716c",
   "metadata": {},
   "outputs": [
    {
     "data": {
      "text/html": [
       "<div>\n",
       "<style scoped>\n",
       "    .dataframe tbody tr th:only-of-type {\n",
       "        vertical-align: middle;\n",
       "    }\n",
       "\n",
       "    .dataframe tbody tr th {\n",
       "        vertical-align: top;\n",
       "    }\n",
       "\n",
       "    .dataframe thead th {\n",
       "        text-align: right;\n",
       "    }\n",
       "</style>\n",
       "<table border=\"1\" class=\"dataframe\">\n",
       "  <thead>\n",
       "    <tr style=\"text-align: right;\">\n",
       "      <th></th>\n",
       "      <th>Name</th>\n",
       "      <th>Age</th>\n",
       "      <th>Gender</th>\n",
       "      <th>Income</th>\n",
       "      <th>Occupation</th>\n",
       "      <th>City</th>\n",
       "    </tr>\n",
       "  </thead>\n",
       "  <tbody>\n",
       "    <tr>\n",
       "      <th>0</th>\n",
       "      <td>John</td>\n",
       "      <td>32</td>\n",
       "      <td>M</td>\n",
       "      <td>£50000</td>\n",
       "      <td>Doctor</td>\n",
       "      <td>Cape town</td>\n",
       "    </tr>\n",
       "    <tr>\n",
       "      <th>1</th>\n",
       "      <td>Jane</td>\n",
       "      <td>27</td>\n",
       "      <td>f</td>\n",
       "      <td>£60000</td>\n",
       "      <td>Data Analyst</td>\n",
       "      <td>London</td>\n",
       "    </tr>\n",
       "    <tr>\n",
       "      <th>2</th>\n",
       "      <td>Bob</td>\n",
       "      <td>45</td>\n",
       "      <td>M</td>\n",
       "      <td>NaN</td>\n",
       "      <td>Technician</td>\n",
       "      <td>New York</td>\n",
       "    </tr>\n",
       "    <tr>\n",
       "      <th>3</th>\n",
       "      <td>Sara</td>\n",
       "      <td>NaN</td>\n",
       "      <td>F</td>\n",
       "      <td>£72000</td>\n",
       "      <td>Engineer</td>\n",
       "      <td>Tokyo</td>\n",
       "    </tr>\n",
       "    <tr>\n",
       "      <th>4</th>\n",
       "      <td>Tom</td>\n",
       "      <td>38</td>\n",
       "      <td>m</td>\n",
       "      <td>NaN</td>\n",
       "      <td>Banker</td>\n",
       "      <td>NaN</td>\n",
       "    </tr>\n",
       "    <tr>\n",
       "      <th>5</th>\n",
       "      <td>James</td>\n",
       "      <td>55</td>\n",
       "      <td>NaN</td>\n",
       "      <td>£80000</td>\n",
       "      <td>Doctor</td>\n",
       "      <td>Chicago</td>\n",
       "    </tr>\n",
       "    <tr>\n",
       "      <th>6</th>\n",
       "      <td>Philip</td>\n",
       "      <td>23</td>\n",
       "      <td>M</td>\n",
       "      <td>£32000</td>\n",
       "      <td>Artist</td>\n",
       "      <td>Houston</td>\n",
       "    </tr>\n",
       "    <tr>\n",
       "      <th>7</th>\n",
       "      <td>NaN</td>\n",
       "      <td>43</td>\n",
       "      <td>F</td>\n",
       "      <td>£55000</td>\n",
       "      <td>Entrepreneur</td>\n",
       "      <td>Texas</td>\n",
       "    </tr>\n",
       "    <tr>\n",
       "      <th>8</th>\n",
       "      <td>White</td>\n",
       "      <td>32</td>\n",
       "      <td>M</td>\n",
       "      <td>£43000</td>\n",
       "      <td>Nurse</td>\n",
       "      <td>Manchester</td>\n",
       "    </tr>\n",
       "    <tr>\n",
       "      <th>9</th>\n",
       "      <td>Susan</td>\n",
       "      <td>50</td>\n",
       "      <td>F</td>\n",
       "      <td>£85000</td>\n",
       "      <td>Data Analyst</td>\n",
       "      <td>Paris</td>\n",
       "    </tr>\n",
       "    <tr>\n",
       "      <th>10</th>\n",
       "      <td>Becky</td>\n",
       "      <td>NaN</td>\n",
       "      <td>f</td>\n",
       "      <td>£60000</td>\n",
       "      <td>Engineer</td>\n",
       "      <td>Berlin</td>\n",
       "    </tr>\n",
       "    <tr>\n",
       "      <th>11</th>\n",
       "      <td>Brown</td>\n",
       "      <td>22</td>\n",
       "      <td>M</td>\n",
       "      <td>£450000</td>\n",
       "      <td>Teacher</td>\n",
       "      <td>Dubai</td>\n",
       "    </tr>\n",
       "    <tr>\n",
       "      <th>12</th>\n",
       "      <td>Matt</td>\n",
       "      <td>33</td>\n",
       "      <td>N/A</td>\n",
       "      <td>£56.000</td>\n",
       "      <td>Nurse</td>\n",
       "      <td>Madrid</td>\n",
       "    </tr>\n",
       "    <tr>\n",
       "      <th>13</th>\n",
       "      <td>Ore</td>\n",
       "      <td>47</td>\n",
       "      <td>None</td>\n",
       "      <td>£7000</td>\n",
       "      <td>Entrepreneur</td>\n",
       "      <td>Lagos</td>\n",
       "    </tr>\n",
       "  </tbody>\n",
       "</table>\n",
       "</div>"
      ],
      "text/plain": [
       "      Name  Age Gender   Income    Occupation        City\n",
       "0     John   32      M   £50000        Doctor   Cape town\n",
       "1     Jane   27      f   £60000  Data Analyst      London\n",
       "2      Bob   45      M      NaN    Technician    New York\n",
       "3     Sara  NaN      F   £72000      Engineer       Tokyo\n",
       "4      Tom   38      m      NaN        Banker         NaN\n",
       "5    James   55    NaN   £80000        Doctor     Chicago\n",
       "6   Philip   23      M   £32000        Artist     Houston\n",
       "7      NaN   43      F   £55000  Entrepreneur       Texas\n",
       "8    White   32      M   £43000         Nurse  Manchester\n",
       "9    Susan   50      F   £85000  Data Analyst       Paris\n",
       "10   Becky  NaN      f   £60000      Engineer      Berlin\n",
       "11   Brown   22      M  £450000       Teacher       Dubai\n",
       "12    Matt   33    N/A  £56.000         Nurse      Madrid\n",
       "13     Ore   47   None    £7000  Entrepreneur       Lagos"
      ]
     },
     "execution_count": 3,
     "metadata": {},
     "output_type": "execute_result"
    }
   ],
   "source": [
    "df"
   ]
  },
  {
   "cell_type": "code",
   "execution_count": 4,
   "id": "9daeee01",
   "metadata": {},
   "outputs": [
    {
     "data": {
      "text/plain": [
       "Name          object\n",
       "Age           object\n",
       "Gender        object\n",
       "Income        object\n",
       "Occupation    object\n",
       "City          object\n",
       "dtype: object"
      ]
     },
     "execution_count": 4,
     "metadata": {},
     "output_type": "execute_result"
    }
   ],
   "source": [
    "df.dtypes"
   ]
  },
  {
   "cell_type": "code",
   "execution_count": 4,
   "id": "4f26fd30",
   "metadata": {},
   "outputs": [
    {
     "data": {
      "text/plain": [
       "0      £50000\n",
       "1      £60000\n",
       "2         NaN\n",
       "3      £72000\n",
       "4         NaN\n",
       "5      £80000\n",
       "6      £32000\n",
       "7      £55000\n",
       "8      £43000\n",
       "9      £85000\n",
       "10     £60000\n",
       "11    £450000\n",
       "12    £56.000\n",
       "13      £7000\n",
       "Name: Income, dtype: object"
      ]
     },
     "execution_count": 4,
     "metadata": {},
     "output_type": "execute_result"
    }
   ],
   "source": [
    "df['Income']"
   ]
  },
  {
   "cell_type": "code",
   "execution_count": 3,
   "id": "16f1ccbb",
   "metadata": {},
   "outputs": [
    {
     "name": "stderr",
     "output_type": "stream",
     "text": [
      "C:\\Users\\promi\\AppData\\Local\\Temp\\ipykernel_13652\\2387342710.py:1: FutureWarning: The default value of regex will change from True to False in a future version.\n",
      "  df['Income'].str.replace('[£, .]', '')\n"
     ]
    },
    {
     "data": {
      "text/plain": [
       "0      50000\n",
       "1      60000\n",
       "2        NaN\n",
       "3      72000\n",
       "4        NaN\n",
       "5      80000\n",
       "6      32000\n",
       "7      55000\n",
       "8      43000\n",
       "9      85000\n",
       "10     60000\n",
       "11    450000\n",
       "12     56000\n",
       "13      7000\n",
       "Name: Income, dtype: object"
      ]
     },
     "execution_count": 3,
     "metadata": {},
     "output_type": "execute_result"
    }
   ],
   "source": [
    "df['Income'].str.replace('[£, .]', '')"
   ]
  },
  {
   "cell_type": "code",
   "execution_count": 6,
   "id": "60734bfc",
   "metadata": {},
   "outputs": [
    {
     "name": "stderr",
     "output_type": "stream",
     "text": [
      "C:\\Users\\promi\\AppData\\Local\\Temp\\ipykernel_16624\\4244844497.py:1: FutureWarning: The default value of regex will change from True to False in a future version.\n",
      "  df['Income (£)']= df['Income'].str.replace('[\\£\\, \\.]', '')\n"
     ]
    },
    {
     "data": {
      "text/html": [
       "<div>\n",
       "<style scoped>\n",
       "    .dataframe tbody tr th:only-of-type {\n",
       "        vertical-align: middle;\n",
       "    }\n",
       "\n",
       "    .dataframe tbody tr th {\n",
       "        vertical-align: top;\n",
       "    }\n",
       "\n",
       "    .dataframe thead th {\n",
       "        text-align: right;\n",
       "    }\n",
       "</style>\n",
       "<table border=\"1\" class=\"dataframe\">\n",
       "  <thead>\n",
       "    <tr style=\"text-align: right;\">\n",
       "      <th></th>\n",
       "      <th>Name</th>\n",
       "      <th>Age</th>\n",
       "      <th>Gender</th>\n",
       "      <th>Income</th>\n",
       "      <th>Occupation</th>\n",
       "      <th>City</th>\n",
       "      <th>Income (£)</th>\n",
       "    </tr>\n",
       "  </thead>\n",
       "  <tbody>\n",
       "    <tr>\n",
       "      <th>0</th>\n",
       "      <td>John</td>\n",
       "      <td>32</td>\n",
       "      <td>M</td>\n",
       "      <td>£50000</td>\n",
       "      <td>Doctor</td>\n",
       "      <td>Cape town</td>\n",
       "      <td>50000</td>\n",
       "    </tr>\n",
       "    <tr>\n",
       "      <th>1</th>\n",
       "      <td>Jane</td>\n",
       "      <td>27</td>\n",
       "      <td>f</td>\n",
       "      <td>£60000</td>\n",
       "      <td>Data Analyst</td>\n",
       "      <td>London</td>\n",
       "      <td>60000</td>\n",
       "    </tr>\n",
       "    <tr>\n",
       "      <th>2</th>\n",
       "      <td>Bob</td>\n",
       "      <td>45</td>\n",
       "      <td>M</td>\n",
       "      <td>NaN</td>\n",
       "      <td>Technician</td>\n",
       "      <td>New York</td>\n",
       "      <td>NaN</td>\n",
       "    </tr>\n",
       "    <tr>\n",
       "      <th>3</th>\n",
       "      <td>Sara</td>\n",
       "      <td>NaN</td>\n",
       "      <td>F</td>\n",
       "      <td>£72000</td>\n",
       "      <td>Engineer</td>\n",
       "      <td>Tokyo</td>\n",
       "      <td>72000</td>\n",
       "    </tr>\n",
       "    <tr>\n",
       "      <th>4</th>\n",
       "      <td>Tom</td>\n",
       "      <td>38</td>\n",
       "      <td>m</td>\n",
       "      <td>NaN</td>\n",
       "      <td>Banker</td>\n",
       "      <td>NaN</td>\n",
       "      <td>NaN</td>\n",
       "    </tr>\n",
       "    <tr>\n",
       "      <th>5</th>\n",
       "      <td>James</td>\n",
       "      <td>55</td>\n",
       "      <td>NaN</td>\n",
       "      <td>£80000</td>\n",
       "      <td>Doctor</td>\n",
       "      <td>Chicago</td>\n",
       "      <td>80000</td>\n",
       "    </tr>\n",
       "    <tr>\n",
       "      <th>6</th>\n",
       "      <td>Philip</td>\n",
       "      <td>23</td>\n",
       "      <td>M</td>\n",
       "      <td>£32000</td>\n",
       "      <td>Artist</td>\n",
       "      <td>Houston</td>\n",
       "      <td>32000</td>\n",
       "    </tr>\n",
       "    <tr>\n",
       "      <th>7</th>\n",
       "      <td>NaN</td>\n",
       "      <td>43</td>\n",
       "      <td>F</td>\n",
       "      <td>£55000</td>\n",
       "      <td>Entrepreneur</td>\n",
       "      <td>Texas</td>\n",
       "      <td>55000</td>\n",
       "    </tr>\n",
       "    <tr>\n",
       "      <th>8</th>\n",
       "      <td>White</td>\n",
       "      <td>32</td>\n",
       "      <td>M</td>\n",
       "      <td>£43000</td>\n",
       "      <td>Nurse</td>\n",
       "      <td>Manchester</td>\n",
       "      <td>43000</td>\n",
       "    </tr>\n",
       "    <tr>\n",
       "      <th>9</th>\n",
       "      <td>Susan</td>\n",
       "      <td>50</td>\n",
       "      <td>F</td>\n",
       "      <td>£85000</td>\n",
       "      <td>Data Analyst</td>\n",
       "      <td>Paris</td>\n",
       "      <td>85000</td>\n",
       "    </tr>\n",
       "    <tr>\n",
       "      <th>10</th>\n",
       "      <td>Becky</td>\n",
       "      <td>NaN</td>\n",
       "      <td>f</td>\n",
       "      <td>£60000</td>\n",
       "      <td>Engineer</td>\n",
       "      <td>Berlin</td>\n",
       "      <td>60000</td>\n",
       "    </tr>\n",
       "    <tr>\n",
       "      <th>11</th>\n",
       "      <td>Brown</td>\n",
       "      <td>22</td>\n",
       "      <td>M</td>\n",
       "      <td>£450000</td>\n",
       "      <td>Teacher</td>\n",
       "      <td>Dubai</td>\n",
       "      <td>450000</td>\n",
       "    </tr>\n",
       "    <tr>\n",
       "      <th>12</th>\n",
       "      <td>Matt</td>\n",
       "      <td>33</td>\n",
       "      <td>N/A</td>\n",
       "      <td>£56.000</td>\n",
       "      <td>Nurse</td>\n",
       "      <td>Madrid</td>\n",
       "      <td>56000</td>\n",
       "    </tr>\n",
       "    <tr>\n",
       "      <th>13</th>\n",
       "      <td>Ore</td>\n",
       "      <td>47</td>\n",
       "      <td>None</td>\n",
       "      <td>£7000</td>\n",
       "      <td>Entrepreneur</td>\n",
       "      <td>Lagos</td>\n",
       "      <td>7000</td>\n",
       "    </tr>\n",
       "  </tbody>\n",
       "</table>\n",
       "</div>"
      ],
      "text/plain": [
       "      Name  Age Gender   Income    Occupation        City Income (£)\n",
       "0     John   32      M   £50000        Doctor   Cape town      50000\n",
       "1     Jane   27      f   £60000  Data Analyst      London      60000\n",
       "2      Bob   45      M      NaN    Technician    New York        NaN\n",
       "3     Sara  NaN      F   £72000      Engineer       Tokyo      72000\n",
       "4      Tom   38      m      NaN        Banker         NaN        NaN\n",
       "5    James   55    NaN   £80000        Doctor     Chicago      80000\n",
       "6   Philip   23      M   £32000        Artist     Houston      32000\n",
       "7      NaN   43      F   £55000  Entrepreneur       Texas      55000\n",
       "8    White   32      M   £43000         Nurse  Manchester      43000\n",
       "9    Susan   50      F   £85000  Data Analyst       Paris      85000\n",
       "10   Becky  NaN      f   £60000      Engineer      Berlin      60000\n",
       "11   Brown   22      M  £450000       Teacher       Dubai     450000\n",
       "12    Matt   33    N/A  £56.000         Nurse      Madrid      56000\n",
       "13     Ore   47   None    £7000  Entrepreneur       Lagos       7000"
      ]
     },
     "execution_count": 6,
     "metadata": {},
     "output_type": "execute_result"
    }
   ],
   "source": [
    "df['Income (£)']= df['Income'].str.replace('[\\£\\, \\.]', '')\n",
    "df"
   ]
  },
  {
   "cell_type": "code",
   "execution_count": 19,
   "id": "1c93f307",
   "metadata": {},
   "outputs": [
    {
     "data": {
      "text/html": [
       "<div>\n",
       "<style scoped>\n",
       "    .dataframe tbody tr th:only-of-type {\n",
       "        vertical-align: middle;\n",
       "    }\n",
       "\n",
       "    .dataframe tbody tr th {\n",
       "        vertical-align: top;\n",
       "    }\n",
       "\n",
       "    .dataframe thead th {\n",
       "        text-align: right;\n",
       "    }\n",
       "</style>\n",
       "<table border=\"1\" class=\"dataframe\">\n",
       "  <thead>\n",
       "    <tr style=\"text-align: right;\">\n",
       "      <th></th>\n",
       "      <th>Name</th>\n",
       "      <th>Age</th>\n",
       "      <th>Gender</th>\n",
       "      <th>Income</th>\n",
       "      <th>Occupation</th>\n",
       "      <th>City</th>\n",
       "      <th>Income (£)</th>\n",
       "    </tr>\n",
       "  </thead>\n",
       "  <tbody>\n",
       "    <tr>\n",
       "      <th>0</th>\n",
       "      <td>John</td>\n",
       "      <td>32</td>\n",
       "      <td>M</td>\n",
       "      <td>£50000</td>\n",
       "      <td>Doctor</td>\n",
       "      <td>Cape town</td>\n",
       "      <td>50000</td>\n",
       "    </tr>\n",
       "    <tr>\n",
       "      <th>1</th>\n",
       "      <td>Jane</td>\n",
       "      <td>27</td>\n",
       "      <td>f</td>\n",
       "      <td>£60000</td>\n",
       "      <td>Data Analyst</td>\n",
       "      <td>London</td>\n",
       "      <td>60000</td>\n",
       "    </tr>\n",
       "    <tr>\n",
       "      <th>2</th>\n",
       "      <td>Bob</td>\n",
       "      <td>45</td>\n",
       "      <td>M</td>\n",
       "      <td>NaN</td>\n",
       "      <td>Technician</td>\n",
       "      <td>New York</td>\n",
       "      <td>72000</td>\n",
       "    </tr>\n",
       "    <tr>\n",
       "      <th>3</th>\n",
       "      <td>Sara</td>\n",
       "      <td>NaN</td>\n",
       "      <td>F</td>\n",
       "      <td>£72000</td>\n",
       "      <td>Engineer</td>\n",
       "      <td>Tokyo</td>\n",
       "      <td>72000</td>\n",
       "    </tr>\n",
       "    <tr>\n",
       "      <th>4</th>\n",
       "      <td>Tom</td>\n",
       "      <td>38</td>\n",
       "      <td>m</td>\n",
       "      <td>NaN</td>\n",
       "      <td>Banker</td>\n",
       "      <td>NaN</td>\n",
       "      <td>80000</td>\n",
       "    </tr>\n",
       "    <tr>\n",
       "      <th>5</th>\n",
       "      <td>James</td>\n",
       "      <td>55</td>\n",
       "      <td>NaN</td>\n",
       "      <td>£80000</td>\n",
       "      <td>Doctor</td>\n",
       "      <td>Chicago</td>\n",
       "      <td>80000</td>\n",
       "    </tr>\n",
       "    <tr>\n",
       "      <th>6</th>\n",
       "      <td>Philip</td>\n",
       "      <td>23</td>\n",
       "      <td>M</td>\n",
       "      <td>£32000</td>\n",
       "      <td>Artist</td>\n",
       "      <td>Houston</td>\n",
       "      <td>32000</td>\n",
       "    </tr>\n",
       "    <tr>\n",
       "      <th>7</th>\n",
       "      <td>NaN</td>\n",
       "      <td>43</td>\n",
       "      <td>F</td>\n",
       "      <td>£55000</td>\n",
       "      <td>Entrepreneur</td>\n",
       "      <td>Texas</td>\n",
       "      <td>55000</td>\n",
       "    </tr>\n",
       "    <tr>\n",
       "      <th>8</th>\n",
       "      <td>White</td>\n",
       "      <td>32</td>\n",
       "      <td>M</td>\n",
       "      <td>£43000</td>\n",
       "      <td>Nurse</td>\n",
       "      <td>Manchester</td>\n",
       "      <td>43000</td>\n",
       "    </tr>\n",
       "    <tr>\n",
       "      <th>9</th>\n",
       "      <td>Susan</td>\n",
       "      <td>50</td>\n",
       "      <td>F</td>\n",
       "      <td>£85000</td>\n",
       "      <td>Data Analyst</td>\n",
       "      <td>Paris</td>\n",
       "      <td>85000</td>\n",
       "    </tr>\n",
       "    <tr>\n",
       "      <th>10</th>\n",
       "      <td>Becky</td>\n",
       "      <td>NaN</td>\n",
       "      <td>f</td>\n",
       "      <td>£60000</td>\n",
       "      <td>Engineer</td>\n",
       "      <td>Berlin</td>\n",
       "      <td>60000</td>\n",
       "    </tr>\n",
       "    <tr>\n",
       "      <th>11</th>\n",
       "      <td>Brown</td>\n",
       "      <td>22</td>\n",
       "      <td>M</td>\n",
       "      <td>£450000</td>\n",
       "      <td>Teacher</td>\n",
       "      <td>Dubai</td>\n",
       "      <td>450000</td>\n",
       "    </tr>\n",
       "    <tr>\n",
       "      <th>12</th>\n",
       "      <td>Matt</td>\n",
       "      <td>33</td>\n",
       "      <td>N/A</td>\n",
       "      <td>£56.000</td>\n",
       "      <td>Nurse</td>\n",
       "      <td>Madrid</td>\n",
       "      <td>56000</td>\n",
       "    </tr>\n",
       "    <tr>\n",
       "      <th>13</th>\n",
       "      <td>Ore</td>\n",
       "      <td>47</td>\n",
       "      <td>None</td>\n",
       "      <td>£7000</td>\n",
       "      <td>Entrepreneur</td>\n",
       "      <td>Lagos</td>\n",
       "      <td>7000</td>\n",
       "    </tr>\n",
       "  </tbody>\n",
       "</table>\n",
       "</div>"
      ],
      "text/plain": [
       "      Name  Age Gender   Income    Occupation        City Income (£)\n",
       "0     John   32      M   £50000        Doctor   Cape town      50000\n",
       "1     Jane   27      f   £60000  Data Analyst      London      60000\n",
       "2      Bob   45      M      NaN    Technician    New York      72000\n",
       "3     Sara  NaN      F   £72000      Engineer       Tokyo      72000\n",
       "4      Tom   38      m      NaN        Banker         NaN      80000\n",
       "5    James   55    NaN   £80000        Doctor     Chicago      80000\n",
       "6   Philip   23      M   £32000        Artist     Houston      32000\n",
       "7      NaN   43      F   £55000  Entrepreneur       Texas      55000\n",
       "8    White   32      M   £43000         Nurse  Manchester      43000\n",
       "9    Susan   50      F   £85000  Data Analyst       Paris      85000\n",
       "10   Becky  NaN      f   £60000      Engineer      Berlin      60000\n",
       "11   Brown   22      M  £450000       Teacher       Dubai     450000\n",
       "12    Matt   33    N/A  £56.000         Nurse      Madrid      56000\n",
       "13     Ore   47   None    £7000  Entrepreneur       Lagos       7000"
      ]
     },
     "execution_count": 19,
     "metadata": {},
     "output_type": "execute_result"
    }
   ],
   "source": [
    "df['Income (£)'] = df['Income (£)'].bfill()\n",
    "df"
   ]
  },
  {
   "cell_type": "markdown",
   "id": "92f4810a",
   "metadata": {},
   "source": [
    "Youtube video: https://youtu.be/7p0rEcIMm_8"
   ]
  },
  {
   "cell_type": "code",
   "execution_count": 4,
   "id": "0b36483d",
   "metadata": {},
   "outputs": [
    {
     "data": {
      "text/html": [
       "<iframe width=\"560\" height=\"315\" \n",
       "        src=\"https://www.youtube-nocookie.com/embed/7p0rEcIMm_8?si=9Q1cYP2xQoYD9511\" \n",
       "        </iframe>\n"
      ],
      "text/plain": [
       "<IPython.core.display.HTML object>"
      ]
     },
     "metadata": {},
     "output_type": "display_data"
    }
   ],
   "source": [
    "%%HTML\n",
    "<iframe width=\"560\" height=\"315\" \n",
    "        src=\"https://www.youtube-nocookie.com/embed/7p0rEcIMm_8?si=9Q1cYP2xQoYD9511\" \n",
    "        </iframe>"
   ]
  },
  {
   "cell_type": "code",
   "execution_count": 21,
   "id": "387a538e",
   "metadata": {},
   "outputs": [],
   "source": [
    "df['Income (£)'] =df['Income (£)'].astype(int)"
   ]
  },
  {
   "cell_type": "markdown",
   "id": "059c3ea5",
   "metadata": {},
   "source": [
    "## Filtering DataFrame\n",
    "\n",
    "Youtube video: https://youtu.be/eMJZ1oeG2Fg"
   ]
  },
  {
   "cell_type": "code",
   "execution_count": 3,
   "id": "c8afa221",
   "metadata": {},
   "outputs": [
    {
     "data": {
      "text/html": [
       "<iframe width=\"560\" height=\"315\" \n",
       "        src=\"https://www.youtube-nocookie.com/embed/eMJZ1oeG2Fg?si=t33QG7VOdkgZS7hr\" \n",
       "        </iframe>\n"
      ],
      "text/plain": [
       "<IPython.core.display.HTML object>"
      ]
     },
     "metadata": {},
     "output_type": "display_data"
    }
   ],
   "source": [
    "%%HTML\n",
    "<iframe width=\"560\" height=\"315\" \n",
    "        src=\"https://www.youtube-nocookie.com/embed/eMJZ1oeG2Fg?si=t33QG7VOdkgZS7hr\" \n",
    "        </iframe>"
   ]
  },
  {
   "cell_type": "code",
   "execution_count": 29,
   "id": "9be01ca7",
   "metadata": {},
   "outputs": [
    {
     "data": {
      "text/html": [
       "<div>\n",
       "<style scoped>\n",
       "    .dataframe tbody tr th:only-of-type {\n",
       "        vertical-align: middle;\n",
       "    }\n",
       "\n",
       "    .dataframe tbody tr th {\n",
       "        vertical-align: top;\n",
       "    }\n",
       "\n",
       "    .dataframe thead th {\n",
       "        text-align: right;\n",
       "    }\n",
       "</style>\n",
       "<table border=\"1\" class=\"dataframe\">\n",
       "  <thead>\n",
       "    <tr style=\"text-align: right;\">\n",
       "      <th></th>\n",
       "      <th>Name</th>\n",
       "      <th>Age</th>\n",
       "      <th>Gender</th>\n",
       "      <th>Income</th>\n",
       "      <th>Occupation</th>\n",
       "      <th>City</th>\n",
       "      <th>Income (£)</th>\n",
       "    </tr>\n",
       "  </thead>\n",
       "  <tbody>\n",
       "    <tr>\n",
       "      <th>6</th>\n",
       "      <td>Philip</td>\n",
       "      <td>23</td>\n",
       "      <td>M</td>\n",
       "      <td>£32000</td>\n",
       "      <td>Artist</td>\n",
       "      <td>Houston</td>\n",
       "      <td>32000</td>\n",
       "    </tr>\n",
       "    <tr>\n",
       "      <th>8</th>\n",
       "      <td>White</td>\n",
       "      <td>32</td>\n",
       "      <td>M</td>\n",
       "      <td>£43000</td>\n",
       "      <td>Nurse</td>\n",
       "      <td>Manchester</td>\n",
       "      <td>43000</td>\n",
       "    </tr>\n",
       "    <tr>\n",
       "      <th>11</th>\n",
       "      <td>Brown</td>\n",
       "      <td>22</td>\n",
       "      <td>M</td>\n",
       "      <td>£450000</td>\n",
       "      <td>Teacher</td>\n",
       "      <td>Dubai</td>\n",
       "      <td>45000</td>\n",
       "    </tr>\n",
       "  </tbody>\n",
       "</table>\n",
       "</div>"
      ],
      "text/plain": [
       "      Name Age Gender   Income Occupation        City  Income (£)\n",
       "6   Philip  23      M   £32000     Artist     Houston       32000\n",
       "8    White  32      M   £43000      Nurse  Manchester       43000\n",
       "11   Brown  22      M  £450000    Teacher       Dubai       45000"
      ]
     },
     "execution_count": 29,
     "metadata": {},
     "output_type": "execute_result"
    }
   ],
   "source": [
    "df[df['Income (£)'] < 50000]"
   ]
  },
  {
   "cell_type": "code",
   "execution_count": 31,
   "id": "302baa2c",
   "metadata": {},
   "outputs": [
    {
     "data": {
      "text/html": [
       "<div>\n",
       "<style scoped>\n",
       "    .dataframe tbody tr th:only-of-type {\n",
       "        vertical-align: middle;\n",
       "    }\n",
       "\n",
       "    .dataframe tbody tr th {\n",
       "        vertical-align: top;\n",
       "    }\n",
       "\n",
       "    .dataframe thead th {\n",
       "        text-align: right;\n",
       "    }\n",
       "</style>\n",
       "<table border=\"1\" class=\"dataframe\">\n",
       "  <thead>\n",
       "    <tr style=\"text-align: right;\">\n",
       "      <th></th>\n",
       "      <th>Name</th>\n",
       "      <th>Age</th>\n",
       "      <th>Gender</th>\n",
       "      <th>Income</th>\n",
       "      <th>Occupation</th>\n",
       "      <th>City</th>\n",
       "      <th>Income (£)</th>\n",
       "    </tr>\n",
       "  </thead>\n",
       "  <tbody>\n",
       "    <tr>\n",
       "      <th>3</th>\n",
       "      <td>Sara</td>\n",
       "      <td>NaN</td>\n",
       "      <td>F</td>\n",
       "      <td>£72000</td>\n",
       "      <td>Engineer</td>\n",
       "      <td>Tokyo</td>\n",
       "      <td>72000</td>\n",
       "    </tr>\n",
       "    <tr>\n",
       "      <th>7</th>\n",
       "      <td>NaN</td>\n",
       "      <td>43</td>\n",
       "      <td>F</td>\n",
       "      <td>£55000</td>\n",
       "      <td>Entrepreneur</td>\n",
       "      <td>Texas</td>\n",
       "      <td>55000</td>\n",
       "    </tr>\n",
       "    <tr>\n",
       "      <th>9</th>\n",
       "      <td>Susan</td>\n",
       "      <td>50</td>\n",
       "      <td>F</td>\n",
       "      <td>£85000</td>\n",
       "      <td>Data Analyst</td>\n",
       "      <td>Paris</td>\n",
       "      <td>85000</td>\n",
       "    </tr>\n",
       "  </tbody>\n",
       "</table>\n",
       "</div>"
      ],
      "text/plain": [
       "    Name  Age Gender  Income    Occupation   City  Income (£)\n",
       "3   Sara  NaN      F  £72000      Engineer  Tokyo       72000\n",
       "7    NaN   43      F  £55000  Entrepreneur  Texas       55000\n",
       "9  Susan   50      F  £85000  Data Analyst  Paris       85000"
      ]
     },
     "execution_count": 31,
     "metadata": {},
     "output_type": "execute_result"
    }
   ],
   "source": [
    "df[df['Gender'] == 'F']"
   ]
  },
  {
   "cell_type": "code",
   "execution_count": 23,
   "id": "e1511134",
   "metadata": {},
   "outputs": [
    {
     "data": {
      "text/html": [
       "<div>\n",
       "<style scoped>\n",
       "    .dataframe tbody tr th:only-of-type {\n",
       "        vertical-align: middle;\n",
       "    }\n",
       "\n",
       "    .dataframe tbody tr th {\n",
       "        vertical-align: top;\n",
       "    }\n",
       "\n",
       "    .dataframe thead th {\n",
       "        text-align: right;\n",
       "    }\n",
       "</style>\n",
       "<table border=\"1\" class=\"dataframe\">\n",
       "  <thead>\n",
       "    <tr style=\"text-align: right;\">\n",
       "      <th></th>\n",
       "      <th>Name</th>\n",
       "      <th>Age</th>\n",
       "      <th>Gender</th>\n",
       "      <th>Income</th>\n",
       "      <th>Occupation</th>\n",
       "      <th>City</th>\n",
       "      <th>Income (£)</th>\n",
       "    </tr>\n",
       "  </thead>\n",
       "  <tbody>\n",
       "    <tr>\n",
       "      <th>11</th>\n",
       "      <td>Brown</td>\n",
       "      <td>22</td>\n",
       "      <td>M</td>\n",
       "      <td>£450000</td>\n",
       "      <td>Teacher</td>\n",
       "      <td>Dubai</td>\n",
       "      <td>450000</td>\n",
       "    </tr>\n",
       "  </tbody>\n",
       "</table>\n",
       "</div>"
      ],
      "text/plain": [
       "     Name Age Gender   Income Occupation   City  Income (£)\n",
       "11  Brown  22      M  £450000    Teacher  Dubai      450000"
      ]
     },
     "execution_count": 23,
     "metadata": {},
     "output_type": "execute_result"
    }
   ],
   "source": [
    "df[df['Income (£)'] > 100000]"
   ]
  },
  {
   "cell_type": "code",
   "execution_count": 24,
   "id": "59e6f684",
   "metadata": {},
   "outputs": [
    {
     "data": {
      "text/html": [
       "<div>\n",
       "<style scoped>\n",
       "    .dataframe tbody tr th:only-of-type {\n",
       "        vertical-align: middle;\n",
       "    }\n",
       "\n",
       "    .dataframe tbody tr th {\n",
       "        vertical-align: top;\n",
       "    }\n",
       "\n",
       "    .dataframe thead th {\n",
       "        text-align: right;\n",
       "    }\n",
       "</style>\n",
       "<table border=\"1\" class=\"dataframe\">\n",
       "  <thead>\n",
       "    <tr style=\"text-align: right;\">\n",
       "      <th></th>\n",
       "      <th>Name</th>\n",
       "      <th>Age</th>\n",
       "      <th>Gender</th>\n",
       "      <th>Income</th>\n",
       "      <th>Occupation</th>\n",
       "      <th>City</th>\n",
       "      <th>Income (£)</th>\n",
       "    </tr>\n",
       "  </thead>\n",
       "  <tbody>\n",
       "    <tr>\n",
       "      <th>13</th>\n",
       "      <td>Ore</td>\n",
       "      <td>47</td>\n",
       "      <td>None</td>\n",
       "      <td>£7000</td>\n",
       "      <td>Entrepreneur</td>\n",
       "      <td>Lagos</td>\n",
       "      <td>7000</td>\n",
       "    </tr>\n",
       "  </tbody>\n",
       "</table>\n",
       "</div>"
      ],
      "text/plain": [
       "   Name Age Gender Income    Occupation   City  Income (£)\n",
       "13  Ore  47   None  £7000  Entrepreneur  Lagos        7000"
      ]
     },
     "execution_count": 24,
     "metadata": {},
     "output_type": "execute_result"
    }
   ],
   "source": [
    "df.loc[df['Income (£)'] < 10000]"
   ]
  },
  {
   "cell_type": "code",
   "execution_count": 25,
   "id": "098c259e",
   "metadata": {},
   "outputs": [],
   "source": [
    "df.loc[df['Income (£)'] < 10000, 'Income (£)']= df['Income (£)']*10\n",
    "df.loc[df['Income (£)'] > 100000, 'Income (£)']= df['Income (£)']/10 "
   ]
  },
  {
   "cell_type": "code",
   "execution_count": 26,
   "id": "5ed1f55c",
   "metadata": {},
   "outputs": [
    {
     "data": {
      "text/html": [
       "<div>\n",
       "<style scoped>\n",
       "    .dataframe tbody tr th:only-of-type {\n",
       "        vertical-align: middle;\n",
       "    }\n",
       "\n",
       "    .dataframe tbody tr th {\n",
       "        vertical-align: top;\n",
       "    }\n",
       "\n",
       "    .dataframe thead th {\n",
       "        text-align: right;\n",
       "    }\n",
       "</style>\n",
       "<table border=\"1\" class=\"dataframe\">\n",
       "  <thead>\n",
       "    <tr style=\"text-align: right;\">\n",
       "      <th></th>\n",
       "      <th>Name</th>\n",
       "      <th>Age</th>\n",
       "      <th>Gender</th>\n",
       "      <th>Income</th>\n",
       "      <th>Occupation</th>\n",
       "      <th>City</th>\n",
       "      <th>Income (£)</th>\n",
       "    </tr>\n",
       "  </thead>\n",
       "  <tbody>\n",
       "    <tr>\n",
       "      <th>0</th>\n",
       "      <td>John</td>\n",
       "      <td>32</td>\n",
       "      <td>M</td>\n",
       "      <td>£50000</td>\n",
       "      <td>Doctor</td>\n",
       "      <td>Cape town</td>\n",
       "      <td>50000</td>\n",
       "    </tr>\n",
       "    <tr>\n",
       "      <th>1</th>\n",
       "      <td>Jane</td>\n",
       "      <td>27</td>\n",
       "      <td>f</td>\n",
       "      <td>£60000</td>\n",
       "      <td>Data Analyst</td>\n",
       "      <td>London</td>\n",
       "      <td>60000</td>\n",
       "    </tr>\n",
       "    <tr>\n",
       "      <th>2</th>\n",
       "      <td>Bob</td>\n",
       "      <td>45</td>\n",
       "      <td>M</td>\n",
       "      <td>NaN</td>\n",
       "      <td>Technician</td>\n",
       "      <td>New York</td>\n",
       "      <td>72000</td>\n",
       "    </tr>\n",
       "    <tr>\n",
       "      <th>3</th>\n",
       "      <td>Sara</td>\n",
       "      <td>NaN</td>\n",
       "      <td>F</td>\n",
       "      <td>£72000</td>\n",
       "      <td>Engineer</td>\n",
       "      <td>Tokyo</td>\n",
       "      <td>72000</td>\n",
       "    </tr>\n",
       "    <tr>\n",
       "      <th>4</th>\n",
       "      <td>Tom</td>\n",
       "      <td>38</td>\n",
       "      <td>m</td>\n",
       "      <td>NaN</td>\n",
       "      <td>Banker</td>\n",
       "      <td>NaN</td>\n",
       "      <td>80000</td>\n",
       "    </tr>\n",
       "    <tr>\n",
       "      <th>5</th>\n",
       "      <td>James</td>\n",
       "      <td>55</td>\n",
       "      <td>NaN</td>\n",
       "      <td>£80000</td>\n",
       "      <td>Doctor</td>\n",
       "      <td>Chicago</td>\n",
       "      <td>80000</td>\n",
       "    </tr>\n",
       "    <tr>\n",
       "      <th>6</th>\n",
       "      <td>Philip</td>\n",
       "      <td>23</td>\n",
       "      <td>M</td>\n",
       "      <td>£32000</td>\n",
       "      <td>Artist</td>\n",
       "      <td>Houston</td>\n",
       "      <td>32000</td>\n",
       "    </tr>\n",
       "    <tr>\n",
       "      <th>7</th>\n",
       "      <td>NaN</td>\n",
       "      <td>43</td>\n",
       "      <td>F</td>\n",
       "      <td>£55000</td>\n",
       "      <td>Entrepreneur</td>\n",
       "      <td>Texas</td>\n",
       "      <td>55000</td>\n",
       "    </tr>\n",
       "    <tr>\n",
       "      <th>8</th>\n",
       "      <td>White</td>\n",
       "      <td>32</td>\n",
       "      <td>M</td>\n",
       "      <td>£43000</td>\n",
       "      <td>Nurse</td>\n",
       "      <td>Manchester</td>\n",
       "      <td>43000</td>\n",
       "    </tr>\n",
       "    <tr>\n",
       "      <th>9</th>\n",
       "      <td>Susan</td>\n",
       "      <td>50</td>\n",
       "      <td>F</td>\n",
       "      <td>£85000</td>\n",
       "      <td>Data Analyst</td>\n",
       "      <td>Paris</td>\n",
       "      <td>85000</td>\n",
       "    </tr>\n",
       "    <tr>\n",
       "      <th>10</th>\n",
       "      <td>Becky</td>\n",
       "      <td>NaN</td>\n",
       "      <td>f</td>\n",
       "      <td>£60000</td>\n",
       "      <td>Engineer</td>\n",
       "      <td>Berlin</td>\n",
       "      <td>60000</td>\n",
       "    </tr>\n",
       "    <tr>\n",
       "      <th>11</th>\n",
       "      <td>Brown</td>\n",
       "      <td>22</td>\n",
       "      <td>M</td>\n",
       "      <td>£450000</td>\n",
       "      <td>Teacher</td>\n",
       "      <td>Dubai</td>\n",
       "      <td>45000</td>\n",
       "    </tr>\n",
       "    <tr>\n",
       "      <th>12</th>\n",
       "      <td>Matt</td>\n",
       "      <td>33</td>\n",
       "      <td>N/A</td>\n",
       "      <td>£56.000</td>\n",
       "      <td>Nurse</td>\n",
       "      <td>Madrid</td>\n",
       "      <td>56000</td>\n",
       "    </tr>\n",
       "    <tr>\n",
       "      <th>13</th>\n",
       "      <td>Ore</td>\n",
       "      <td>47</td>\n",
       "      <td>None</td>\n",
       "      <td>£7000</td>\n",
       "      <td>Entrepreneur</td>\n",
       "      <td>Lagos</td>\n",
       "      <td>70000</td>\n",
       "    </tr>\n",
       "  </tbody>\n",
       "</table>\n",
       "</div>"
      ],
      "text/plain": [
       "      Name  Age Gender   Income    Occupation        City  Income (£)\n",
       "0     John   32      M   £50000        Doctor   Cape town       50000\n",
       "1     Jane   27      f   £60000  Data Analyst      London       60000\n",
       "2      Bob   45      M      NaN    Technician    New York       72000\n",
       "3     Sara  NaN      F   £72000      Engineer       Tokyo       72000\n",
       "4      Tom   38      m      NaN        Banker         NaN       80000\n",
       "5    James   55    NaN   £80000        Doctor     Chicago       80000\n",
       "6   Philip   23      M   £32000        Artist     Houston       32000\n",
       "7      NaN   43      F   £55000  Entrepreneur       Texas       55000\n",
       "8    White   32      M   £43000         Nurse  Manchester       43000\n",
       "9    Susan   50      F   £85000  Data Analyst       Paris       85000\n",
       "10   Becky  NaN      f   £60000      Engineer      Berlin       60000\n",
       "11   Brown   22      M  £450000       Teacher       Dubai       45000\n",
       "12    Matt   33    N/A  £56.000         Nurse      Madrid       56000\n",
       "13     Ore   47   None    £7000  Entrepreneur       Lagos       70000"
      ]
     },
     "execution_count": 26,
     "metadata": {},
     "output_type": "execute_result"
    }
   ],
   "source": [
    "df"
   ]
  },
  {
   "cell_type": "markdown",
   "id": "4bbd45e6",
   "metadata": {},
   "source": [
    "##  Creating New Columns\n",
    "Youtube video: https://youtu.be/4m6BjNL6Xvo"
   ]
  },
  {
   "cell_type": "code",
   "execution_count": 5,
   "id": "210f96e1",
   "metadata": {},
   "outputs": [
    {
     "data": {
      "text/html": [
       "<iframe width=\"560\" height=\"315\" \n",
       "        src=\"https://www.youtube.com/embed/4m6BjNL6Xvo?si=54_vE1SwynJJZEtX\" \n",
       "        </iframe>\n"
      ],
      "text/plain": [
       "<IPython.core.display.HTML object>"
      ]
     },
     "metadata": {},
     "output_type": "display_data"
    }
   ],
   "source": [
    "%%HTML\n",
    "<iframe width=\"560\" height=\"315\" \n",
    "        src=\"https://www.youtube.com/embed/4m6BjNL6Xvo?si=54_vE1SwynJJZEtX\" \n",
    "        </iframe>"
   ]
  },
  {
   "cell_type": "code",
   "execution_count": 32,
   "id": "9db2d1ed",
   "metadata": {},
   "outputs": [],
   "source": [
    "distance = [35, 23.4, 20, 13.4, 9, 10, 58, 44.7, 30, 7.9, 34.4, 55, 30, 45]"
   ]
  },
  {
   "cell_type": "code",
   "execution_count": 33,
   "id": "848dec05",
   "metadata": {},
   "outputs": [
    {
     "data": {
      "text/html": [
       "<div>\n",
       "<style scoped>\n",
       "    .dataframe tbody tr th:only-of-type {\n",
       "        vertical-align: middle;\n",
       "    }\n",
       "\n",
       "    .dataframe tbody tr th {\n",
       "        vertical-align: top;\n",
       "    }\n",
       "\n",
       "    .dataframe thead th {\n",
       "        text-align: right;\n",
       "    }\n",
       "</style>\n",
       "<table border=\"1\" class=\"dataframe\">\n",
       "  <thead>\n",
       "    <tr style=\"text-align: right;\">\n",
       "      <th></th>\n",
       "      <th>Name</th>\n",
       "      <th>Age</th>\n",
       "      <th>Gender</th>\n",
       "      <th>Income</th>\n",
       "      <th>Occupation</th>\n",
       "      <th>City</th>\n",
       "      <th>Income (£)</th>\n",
       "      <th>Distance</th>\n",
       "    </tr>\n",
       "  </thead>\n",
       "  <tbody>\n",
       "    <tr>\n",
       "      <th>0</th>\n",
       "      <td>John</td>\n",
       "      <td>32</td>\n",
       "      <td>M</td>\n",
       "      <td>£50000</td>\n",
       "      <td>Doctor</td>\n",
       "      <td>Cape town</td>\n",
       "      <td>50000</td>\n",
       "      <td>35.0</td>\n",
       "    </tr>\n",
       "    <tr>\n",
       "      <th>1</th>\n",
       "      <td>Jane</td>\n",
       "      <td>27</td>\n",
       "      <td>f</td>\n",
       "      <td>£60000</td>\n",
       "      <td>Data Analyst</td>\n",
       "      <td>London</td>\n",
       "      <td>60000</td>\n",
       "      <td>23.4</td>\n",
       "    </tr>\n",
       "    <tr>\n",
       "      <th>2</th>\n",
       "      <td>Bob</td>\n",
       "      <td>45</td>\n",
       "      <td>M</td>\n",
       "      <td>NaN</td>\n",
       "      <td>Technician</td>\n",
       "      <td>New York</td>\n",
       "      <td>72000</td>\n",
       "      <td>20.0</td>\n",
       "    </tr>\n",
       "    <tr>\n",
       "      <th>3</th>\n",
       "      <td>Sara</td>\n",
       "      <td>NaN</td>\n",
       "      <td>F</td>\n",
       "      <td>£72000</td>\n",
       "      <td>Engineer</td>\n",
       "      <td>Tokyo</td>\n",
       "      <td>72000</td>\n",
       "      <td>13.4</td>\n",
       "    </tr>\n",
       "    <tr>\n",
       "      <th>4</th>\n",
       "      <td>Tom</td>\n",
       "      <td>38</td>\n",
       "      <td>m</td>\n",
       "      <td>NaN</td>\n",
       "      <td>Banker</td>\n",
       "      <td>NaN</td>\n",
       "      <td>80000</td>\n",
       "      <td>9.0</td>\n",
       "    </tr>\n",
       "    <tr>\n",
       "      <th>5</th>\n",
       "      <td>James</td>\n",
       "      <td>55</td>\n",
       "      <td>NaN</td>\n",
       "      <td>£80000</td>\n",
       "      <td>Doctor</td>\n",
       "      <td>Chicago</td>\n",
       "      <td>80000</td>\n",
       "      <td>10.0</td>\n",
       "    </tr>\n",
       "    <tr>\n",
       "      <th>6</th>\n",
       "      <td>Philip</td>\n",
       "      <td>23</td>\n",
       "      <td>M</td>\n",
       "      <td>£32000</td>\n",
       "      <td>Artist</td>\n",
       "      <td>Houston</td>\n",
       "      <td>32000</td>\n",
       "      <td>58.0</td>\n",
       "    </tr>\n",
       "    <tr>\n",
       "      <th>7</th>\n",
       "      <td>NaN</td>\n",
       "      <td>43</td>\n",
       "      <td>F</td>\n",
       "      <td>£55000</td>\n",
       "      <td>Entrepreneur</td>\n",
       "      <td>Texas</td>\n",
       "      <td>55000</td>\n",
       "      <td>44.7</td>\n",
       "    </tr>\n",
       "    <tr>\n",
       "      <th>8</th>\n",
       "      <td>White</td>\n",
       "      <td>32</td>\n",
       "      <td>M</td>\n",
       "      <td>£43000</td>\n",
       "      <td>Nurse</td>\n",
       "      <td>Manchester</td>\n",
       "      <td>43000</td>\n",
       "      <td>30.0</td>\n",
       "    </tr>\n",
       "    <tr>\n",
       "      <th>9</th>\n",
       "      <td>Susan</td>\n",
       "      <td>50</td>\n",
       "      <td>F</td>\n",
       "      <td>£85000</td>\n",
       "      <td>Data Analyst</td>\n",
       "      <td>Paris</td>\n",
       "      <td>85000</td>\n",
       "      <td>7.9</td>\n",
       "    </tr>\n",
       "    <tr>\n",
       "      <th>10</th>\n",
       "      <td>Becky</td>\n",
       "      <td>NaN</td>\n",
       "      <td>f</td>\n",
       "      <td>£60000</td>\n",
       "      <td>Engineer</td>\n",
       "      <td>Berlin</td>\n",
       "      <td>60000</td>\n",
       "      <td>34.4</td>\n",
       "    </tr>\n",
       "    <tr>\n",
       "      <th>11</th>\n",
       "      <td>Brown</td>\n",
       "      <td>22</td>\n",
       "      <td>M</td>\n",
       "      <td>£450000</td>\n",
       "      <td>Teacher</td>\n",
       "      <td>Dubai</td>\n",
       "      <td>45000</td>\n",
       "      <td>55.0</td>\n",
       "    </tr>\n",
       "    <tr>\n",
       "      <th>12</th>\n",
       "      <td>Matt</td>\n",
       "      <td>33</td>\n",
       "      <td>N/A</td>\n",
       "      <td>£56.000</td>\n",
       "      <td>Nurse</td>\n",
       "      <td>Madrid</td>\n",
       "      <td>56000</td>\n",
       "      <td>30.0</td>\n",
       "    </tr>\n",
       "    <tr>\n",
       "      <th>13</th>\n",
       "      <td>Ore</td>\n",
       "      <td>47</td>\n",
       "      <td>None</td>\n",
       "      <td>£7000</td>\n",
       "      <td>Entrepreneur</td>\n",
       "      <td>Lagos</td>\n",
       "      <td>70000</td>\n",
       "      <td>45.0</td>\n",
       "    </tr>\n",
       "  </tbody>\n",
       "</table>\n",
       "</div>"
      ],
      "text/plain": [
       "      Name  Age Gender   Income    Occupation        City  Income (£)  \\\n",
       "0     John   32      M   £50000        Doctor   Cape town       50000   \n",
       "1     Jane   27      f   £60000  Data Analyst      London       60000   \n",
       "2      Bob   45      M      NaN    Technician    New York       72000   \n",
       "3     Sara  NaN      F   £72000      Engineer       Tokyo       72000   \n",
       "4      Tom   38      m      NaN        Banker         NaN       80000   \n",
       "5    James   55    NaN   £80000        Doctor     Chicago       80000   \n",
       "6   Philip   23      M   £32000        Artist     Houston       32000   \n",
       "7      NaN   43      F   £55000  Entrepreneur       Texas       55000   \n",
       "8    White   32      M   £43000         Nurse  Manchester       43000   \n",
       "9    Susan   50      F   £85000  Data Analyst       Paris       85000   \n",
       "10   Becky  NaN      f   £60000      Engineer      Berlin       60000   \n",
       "11   Brown   22      M  £450000       Teacher       Dubai       45000   \n",
       "12    Matt   33    N/A  £56.000         Nurse      Madrid       56000   \n",
       "13     Ore   47   None    £7000  Entrepreneur       Lagos       70000   \n",
       "\n",
       "    Distance  \n",
       "0       35.0  \n",
       "1       23.4  \n",
       "2       20.0  \n",
       "3       13.4  \n",
       "4        9.0  \n",
       "5       10.0  \n",
       "6       58.0  \n",
       "7       44.7  \n",
       "8       30.0  \n",
       "9        7.9  \n",
       "10      34.4  \n",
       "11      55.0  \n",
       "12      30.0  \n",
       "13      45.0  "
      ]
     },
     "execution_count": 33,
     "metadata": {},
     "output_type": "execute_result"
    }
   ],
   "source": [
    "df['Distance'] = distance\n",
    "df"
   ]
  },
  {
   "cell_type": "code",
   "execution_count": 35,
   "id": "49e380aa",
   "metadata": {},
   "outputs": [
    {
     "data": {
      "text/html": [
       "<div>\n",
       "<style scoped>\n",
       "    .dataframe tbody tr th:only-of-type {\n",
       "        vertical-align: middle;\n",
       "    }\n",
       "\n",
       "    .dataframe tbody tr th {\n",
       "        vertical-align: top;\n",
       "    }\n",
       "\n",
       "    .dataframe thead th {\n",
       "        text-align: right;\n",
       "    }\n",
       "</style>\n",
       "<table border=\"1\" class=\"dataframe\">\n",
       "  <thead>\n",
       "    <tr style=\"text-align: right;\">\n",
       "      <th></th>\n",
       "      <th>Name</th>\n",
       "      <th>Age</th>\n",
       "      <th>Gender</th>\n",
       "      <th>Income</th>\n",
       "      <th>Occupation</th>\n",
       "      <th>City</th>\n",
       "      <th>Income (£)</th>\n",
       "      <th>Distance</th>\n",
       "    </tr>\n",
       "  </thead>\n",
       "  <tbody>\n",
       "    <tr>\n",
       "      <th>9</th>\n",
       "      <td>Susan</td>\n",
       "      <td>50</td>\n",
       "      <td>F</td>\n",
       "      <td>£85000</td>\n",
       "      <td>Data Analyst</td>\n",
       "      <td>Paris</td>\n",
       "      <td>85000</td>\n",
       "      <td>7.9</td>\n",
       "    </tr>\n",
       "    <tr>\n",
       "      <th>4</th>\n",
       "      <td>Tom</td>\n",
       "      <td>38</td>\n",
       "      <td>m</td>\n",
       "      <td>NaN</td>\n",
       "      <td>Banker</td>\n",
       "      <td>NaN</td>\n",
       "      <td>80000</td>\n",
       "      <td>9.0</td>\n",
       "    </tr>\n",
       "    <tr>\n",
       "      <th>5</th>\n",
       "      <td>James</td>\n",
       "      <td>55</td>\n",
       "      <td>NaN</td>\n",
       "      <td>£80000</td>\n",
       "      <td>Doctor</td>\n",
       "      <td>Chicago</td>\n",
       "      <td>80000</td>\n",
       "      <td>10.0</td>\n",
       "    </tr>\n",
       "    <tr>\n",
       "      <th>2</th>\n",
       "      <td>Bob</td>\n",
       "      <td>45</td>\n",
       "      <td>M</td>\n",
       "      <td>NaN</td>\n",
       "      <td>Technician</td>\n",
       "      <td>New York</td>\n",
       "      <td>72000</td>\n",
       "      <td>20.0</td>\n",
       "    </tr>\n",
       "    <tr>\n",
       "      <th>3</th>\n",
       "      <td>Sara</td>\n",
       "      <td>NaN</td>\n",
       "      <td>F</td>\n",
       "      <td>£72000</td>\n",
       "      <td>Engineer</td>\n",
       "      <td>Tokyo</td>\n",
       "      <td>72000</td>\n",
       "      <td>13.4</td>\n",
       "    </tr>\n",
       "    <tr>\n",
       "      <th>13</th>\n",
       "      <td>Ore</td>\n",
       "      <td>47</td>\n",
       "      <td>None</td>\n",
       "      <td>£7000</td>\n",
       "      <td>Entrepreneur</td>\n",
       "      <td>Lagos</td>\n",
       "      <td>70000</td>\n",
       "      <td>45.0</td>\n",
       "    </tr>\n",
       "    <tr>\n",
       "      <th>1</th>\n",
       "      <td>Jane</td>\n",
       "      <td>27</td>\n",
       "      <td>f</td>\n",
       "      <td>£60000</td>\n",
       "      <td>Data Analyst</td>\n",
       "      <td>London</td>\n",
       "      <td>60000</td>\n",
       "      <td>23.4</td>\n",
       "    </tr>\n",
       "    <tr>\n",
       "      <th>10</th>\n",
       "      <td>Becky</td>\n",
       "      <td>NaN</td>\n",
       "      <td>f</td>\n",
       "      <td>£60000</td>\n",
       "      <td>Engineer</td>\n",
       "      <td>Berlin</td>\n",
       "      <td>60000</td>\n",
       "      <td>34.4</td>\n",
       "    </tr>\n",
       "    <tr>\n",
       "      <th>12</th>\n",
       "      <td>Matt</td>\n",
       "      <td>33</td>\n",
       "      <td>N/A</td>\n",
       "      <td>£56.000</td>\n",
       "      <td>Nurse</td>\n",
       "      <td>Madrid</td>\n",
       "      <td>56000</td>\n",
       "      <td>30.0</td>\n",
       "    </tr>\n",
       "    <tr>\n",
       "      <th>7</th>\n",
       "      <td>NaN</td>\n",
       "      <td>43</td>\n",
       "      <td>F</td>\n",
       "      <td>£55000</td>\n",
       "      <td>Entrepreneur</td>\n",
       "      <td>Texas</td>\n",
       "      <td>55000</td>\n",
       "      <td>44.7</td>\n",
       "    </tr>\n",
       "    <tr>\n",
       "      <th>0</th>\n",
       "      <td>John</td>\n",
       "      <td>32</td>\n",
       "      <td>M</td>\n",
       "      <td>£50000</td>\n",
       "      <td>Doctor</td>\n",
       "      <td>Cape town</td>\n",
       "      <td>50000</td>\n",
       "      <td>35.0</td>\n",
       "    </tr>\n",
       "    <tr>\n",
       "      <th>11</th>\n",
       "      <td>Brown</td>\n",
       "      <td>22</td>\n",
       "      <td>M</td>\n",
       "      <td>£450000</td>\n",
       "      <td>Teacher</td>\n",
       "      <td>Dubai</td>\n",
       "      <td>45000</td>\n",
       "      <td>55.0</td>\n",
       "    </tr>\n",
       "    <tr>\n",
       "      <th>8</th>\n",
       "      <td>White</td>\n",
       "      <td>32</td>\n",
       "      <td>M</td>\n",
       "      <td>£43000</td>\n",
       "      <td>Nurse</td>\n",
       "      <td>Manchester</td>\n",
       "      <td>43000</td>\n",
       "      <td>30.0</td>\n",
       "    </tr>\n",
       "    <tr>\n",
       "      <th>6</th>\n",
       "      <td>Philip</td>\n",
       "      <td>23</td>\n",
       "      <td>M</td>\n",
       "      <td>£32000</td>\n",
       "      <td>Artist</td>\n",
       "      <td>Houston</td>\n",
       "      <td>32000</td>\n",
       "      <td>58.0</td>\n",
       "    </tr>\n",
       "  </tbody>\n",
       "</table>\n",
       "</div>"
      ],
      "text/plain": [
       "      Name  Age Gender   Income    Occupation        City  Income (£)  \\\n",
       "9    Susan   50      F   £85000  Data Analyst       Paris       85000   \n",
       "4      Tom   38      m      NaN        Banker         NaN       80000   \n",
       "5    James   55    NaN   £80000        Doctor     Chicago       80000   \n",
       "2      Bob   45      M      NaN    Technician    New York       72000   \n",
       "3     Sara  NaN      F   £72000      Engineer       Tokyo       72000   \n",
       "13     Ore   47   None    £7000  Entrepreneur       Lagos       70000   \n",
       "1     Jane   27      f   £60000  Data Analyst      London       60000   \n",
       "10   Becky  NaN      f   £60000      Engineer      Berlin       60000   \n",
       "12    Matt   33    N/A  £56.000         Nurse      Madrid       56000   \n",
       "7      NaN   43      F   £55000  Entrepreneur       Texas       55000   \n",
       "0     John   32      M   £50000        Doctor   Cape town       50000   \n",
       "11   Brown   22      M  £450000       Teacher       Dubai       45000   \n",
       "8    White   32      M   £43000         Nurse  Manchester       43000   \n",
       "6   Philip   23      M   £32000        Artist     Houston       32000   \n",
       "\n",
       "    Distance  \n",
       "9        7.9  \n",
       "4        9.0  \n",
       "5       10.0  \n",
       "2       20.0  \n",
       "3       13.4  \n",
       "13      45.0  \n",
       "1       23.4  \n",
       "10      34.4  \n",
       "12      30.0  \n",
       "7       44.7  \n",
       "0       35.0  \n",
       "11      55.0  \n",
       "8       30.0  \n",
       "6       58.0  "
      ]
     },
     "execution_count": 35,
     "metadata": {},
     "output_type": "execute_result"
    }
   ],
   "source": [
    "df.sort_values(by=['Income (£)'], ascending= False)"
   ]
  },
  {
   "cell_type": "markdown",
   "id": "68d93beb",
   "metadata": {},
   "source": [
    "## Data Visualisation with Pandas\n",
    "\n",
    "Youtube video: https://youtu.be/dgfNbm_yW84\n",
    "\n",
    "Youtube video: https://youtu.be/VvFzoh92xhQ"
   ]
  },
  {
   "cell_type": "code",
   "execution_count": 6,
   "id": "88eb2998",
   "metadata": {},
   "outputs": [
    {
     "data": {
      "text/html": [
       "<iframe width=\"560\" height=\"315\" \n",
       "        src=\"https://www.youtube.com/embed/dgfNbm_yW84?si=Xao2TCZv8K6NXCDJ\"  \n",
       "        </iframe>\n"
      ],
      "text/plain": [
       "<IPython.core.display.HTML object>"
      ]
     },
     "metadata": {},
     "output_type": "display_data"
    }
   ],
   "source": [
    "%%HTML\n",
    "<iframe width=\"560\" height=\"315\" \n",
    "        src=\"https://www.youtube.com/embed/dgfNbm_yW84?si=Xao2TCZv8K6NXCDJ\"  \n",
    "        </iframe>"
   ]
  },
  {
   "cell_type": "code",
   "execution_count": 7,
   "id": "e09c7094",
   "metadata": {},
   "outputs": [
    {
     "data": {
      "text/html": [
       "<iframe width=\"560\" height=\"315\" \n",
       "        src=\"https://www.youtube.com/embed/VvFzoh92xhQ?si=yldCmdxzjJsZUr8Z\"  \n",
       "        </iframe>\n"
      ],
      "text/plain": [
       "<IPython.core.display.HTML object>"
      ]
     },
     "metadata": {},
     "output_type": "display_data"
    }
   ],
   "source": [
    "%%HTML\n",
    "<iframe width=\"560\" height=\"315\" \n",
    "        src=\"https://www.youtube.com/embed/VvFzoh92xhQ?si=yldCmdxzjJsZUr8Z\"  \n",
    "        </iframe>"
   ]
  },
  {
   "cell_type": "code",
   "execution_count": 37,
   "id": "25cfc13d",
   "metadata": {},
   "outputs": [
    {
     "data": {
      "text/plain": [
       "<AxesSubplot:xlabel='Age'>"
      ]
     },
     "execution_count": 37,
     "metadata": {},
     "output_type": "execute_result"
    },
    {
     "data": {
      "image/png": "[encoded data removed]",
      "text/plain": [
       "<Figure size 640x480 with 1 Axes>"
      ]
     },
     "metadata": {},
     "output_type": "display_data"
    }
   ],
   "source": [
    "df.plot(x='Age', y='Income (£)')"
   ]
  },
  {
   "cell_type": "code",
   "execution_count": 39,
   "id": "a0e030e0",
   "metadata": {},
   "outputs": [
    {
     "data": {
      "text/plain": [
       "<AxesSubplot:xlabel='Distance', ylabel='Income (£)'>"
      ]
     },
     "execution_count": 39,
     "metadata": {},
     "output_type": "execute_result"
    },
    {
     "data": {
      "image/png": "[encoded data removed]",
      "text/plain": [
       "<Figure size 640x480 with 1 Axes>"
      ]
     },
     "metadata": {},
     "output_type": "display_data"
    }
   ],
   "source": [
    "df.plot(x='Distance', y='Income (£)', kind= 'scatter')"
   ]
  },
  {
   "cell_type": "code",
   "execution_count": 44,
   "id": "c8c181e3",
   "metadata": {},
   "outputs": [],
   "source": [
    "df['avg'] = df['Income (£)']/df['Distance'] *10"
   ]
  },
  {
   "cell_type": "code",
   "execution_count": 45,
   "id": "84c20703",
   "metadata": {},
   "outputs": [
    {
     "data": {
      "text/plain": [
       "<AxesSubplot:xlabel='Occupation'>"
      ]
     },
     "execution_count": 45,
     "metadata": {},
     "output_type": "execute_result"
    },
    {
     "data": {
      "image/png": "[encoded data removed]",
      "text/plain": [
       "<Figure size 640x480 with 1 Axes>"
      ]
     },
     "metadata": {},
     "output_type": "display_data"
    }
   ],
   "source": [
    "df.plot(x='Occupation', y=['Income (£)', 'avg'], kind='bar')"
   ]
  },
  {
   "cell_type": "code",
   "execution_count": 46,
   "id": "3ad8ecb7",
   "metadata": {},
   "outputs": [
    {
     "data": {
      "text/plain": [
       "<AxesSubplot:xlabel='City'>"
      ]
     },
     "execution_count": 46,
     "metadata": {},
     "output_type": "execute_result"
    },
    {
     "data": {
      "image/png": "[encoded data removed]",
      "text/plain": [
       "<Figure size 640x480 with 1 Axes>"
      ]
     },
     "metadata": {},
     "output_type": "display_data"
    }
   ],
   "source": [
    "df.plot(x='City', y=['Income (£)', 'avg'], kind='bar')"
   ]
  },
  {
   "cell_type": "code",
   "execution_count": 49,
   "id": "34512367",
   "metadata": {},
   "outputs": [
    {
     "data": {
      "text/plain": [
       "dtype('float64')"
      ]
     },
     "execution_count": 49,
     "metadata": {},
     "output_type": "execute_result"
    }
   ],
   "source": [
    "df['Age'].dtype"
   ]
  },
  {
   "cell_type": "code",
   "execution_count": 48,
   "id": "a5d614d3",
   "metadata": {},
   "outputs": [],
   "source": [
    "df['Age']= pd.to_numeric(df['Age'], errors='coerce')"
   ]
  },
  {
   "cell_type": "code",
   "execution_count": 53,
   "id": "12d398b8",
   "metadata": {},
   "outputs": [
    {
     "data": {
      "text/plain": [
       "<AxesSubplot:ylabel='Frequency'>"
      ]
     },
     "execution_count": 53,
     "metadata": {},
     "output_type": "execute_result"
    },
    {
     "data": {
      "image/png": "[encoded data removed]",
      "text/plain": [
       "<Figure size 640x480 with 1 Axes>"
      ]
     },
     "metadata": {},
     "output_type": "display_data"
    }
   ],
   "source": [
    "df.plot('Age', kind='hist')"
   ]
  },
  {
   "cell_type": "code",
   "execution_count": 52,
   "id": "e82fccbc",
   "metadata": {},
   "outputs": [
    {
     "data": {
      "text/plain": [
       "<AxesSubplot:ylabel='Frequency'>"
      ]
     },
     "execution_count": 52,
     "metadata": {},
     "output_type": "execute_result"
    },
    {
     "data": {
      "image/png": "[encoded data removed]",
      "text/plain": [
       "<Figure size 640x480 with 1 Axes>"
      ]
     },
     "metadata": {},
     "output_type": "display_data"
    }
   ],
   "source": [
    "df['Age'].plot(kind='hist')"
   ]
  },
  {
   "cell_type": "code",
   "execution_count": 93,
   "id": "d1823128",
   "metadata": {},
   "outputs": [],
   "source": [
    "#Saving DataFrame\n",
    "df.to_excel('Income.xlsx', index=False)"
   ]
  },
  {
   "cell_type": "markdown",
   "id": "f3487eb2",
   "metadata": {},
   "source": [
    "# Data Visualization\n",
    "Youtube video: https://youtu.be/v2cZfK4KrAY\n",
    "Youtube video: https://youtu.be/qleqrovmINI"
   ]
  },
  {
   "cell_type": "code",
   "execution_count": 8,
   "id": "a5f02b33",
   "metadata": {},
   "outputs": [
    {
     "data": {
      "text/html": [
       "<iframe width=\"560\" height=\"315\" \n",
       "        src=\"https://www.youtube.com/embed/v2cZfK4KrAY?si=5Ngm4l4XCHu0VMWr\"  \n",
       "        </iframe>\n"
      ],
      "text/plain": [
       "<IPython.core.display.HTML object>"
      ]
     },
     "metadata": {},
     "output_type": "display_data"
    }
   ],
   "source": [
    "%%HTML\n",
    "<iframe width=\"560\" height=\"315\" \n",
    "        src=\"https://www.youtube.com/embed/v2cZfK4KrAY?si=5Ngm4l4XCHu0VMWr\"  \n",
    "        </iframe>"
   ]
  },
  {
   "cell_type": "markdown",
   "id": "f12a9c56",
   "metadata": {},
   "source": [
    "* Matplotlib\n",
    "* Seaborn\n",
    "* Plotly\n",
    "* Bokeh"
   ]
  },
  {
   "cell_type": "markdown",
   "id": "ae4837fe",
   "metadata": {},
   "source": [
    "### worklow for visualization\n",
    "\n",
    "1. Prepare Data\n",
    "2. Create plot/figure\n",
    "3. Plot data\n",
    "4. Customize plot\n",
    "5. save the plot"
   ]
  },
  {
   "cell_type": "markdown",
   "id": "a56bfac2",
   "metadata": {},
   "source": [
    "## Matplotlib"
   ]
  },
  {
   "cell_type": "code",
   "execution_count": 54,
   "id": "fcd2ee92",
   "metadata": {},
   "outputs": [],
   "source": [
    "import matplotlib.pyplot as plt"
   ]
  },
  {
   "cell_type": "code",
   "execution_count": 55,
   "id": "119c29ba",
   "metadata": {},
   "outputs": [
    {
     "data": {
      "text/plain": [
       "[]"
      ]
     },
     "execution_count": 55,
     "metadata": {},
     "output_type": "execute_result"
    },
    {
     "data": {
      "image/png": "[encoded data removed]",
      "text/plain": [
       "<Figure size 640x480 with 1 Axes>"
      ]
     },
     "metadata": {},
     "output_type": "display_data"
    }
   ],
   "source": [
    "plt.plot()"
   ]
  },
  {
   "cell_type": "code",
   "execution_count": 56,
   "id": "a74d2dda",
   "metadata": {},
   "outputs": [
    {
     "data": {
      "text/plain": [
       "[<matplotlib.lines.Line2D at 0x24a93a709a0>]"
      ]
     },
     "execution_count": 56,
     "metadata": {},
     "output_type": "execute_result"
    },
    {
     "data": {
      "image/png": "[encoded data removed]",
      "text/plain": [
       "<Figure size 640x480 with 1 Axes>"
      ]
     },
     "metadata": {},
     "output_type": "display_data"
    }
   ],
   "source": [
    "plt.plot([2, 4, 6, 8, 10])"
   ]
  },
  {
   "cell_type": "markdown",
   "id": "eb8c7a81",
   "metadata": {},
   "source": [
    "## Creating subplots \n",
    "Youtube video: https://youtu.be/FgEYvc03GKo"
   ]
  },
  {
   "cell_type": "code",
   "execution_count": 60,
   "id": "44639599",
   "metadata": {},
   "outputs": [
    {
     "data": {
      "image/png": "[encoded data removed]",
      "text/plain": [
       "<Figure size 1000x800 with 6 Axes>"
      ]
     },
     "metadata": {},
     "output_type": "display_data"
    }
   ],
   "source": [
    "fig, ax = plt.subplots(nrows= 3, ncols=2, figsize = (10, 8))\n",
    "plt.show()"
   ]
  },
  {
   "cell_type": "code",
   "execution_count": 61,
   "id": "3b76afbb",
   "metadata": {},
   "outputs": [
    {
     "data": {
      "image/png": "[encoded data removed]",
      "text/plain": [
       "<Figure size 1000x800 with 4 Axes>"
      ]
     },
     "metadata": {},
     "output_type": "display_data"
    }
   ],
   "source": [
    "fig, ax = plt.subplots(nrows= 2, ncols=2, figsize = (10, 8))\n",
    "ax[0, 0].set(title= 'Upper Left')\n",
    "ax[0, 1].set(title = 'Upper Right')\n",
    "ax[1, 0].set(title= 'Lower Left')\n",
    "ax[1, 1].set(title = 'Lower Right')\n",
    "plt.show()"
   ]
  },
  {
   "cell_type": "markdown",
   "id": "b321d076",
   "metadata": {},
   "source": [
    "# Creating Plots\n",
    "Youtube video: https://youtu.be/KSSDQ2AUO88"
   ]
  },
  {
   "cell_type": "code",
   "execution_count": 62,
   "id": "277badd9",
   "metadata": {},
   "outputs": [],
   "source": [
    "x = [2, 4, 6, 8, 10]\n",
    "y = [20, 40, 60, 80, 100]"
   ]
  },
  {
   "cell_type": "code",
   "execution_count": 63,
   "id": "a7857647",
   "metadata": {},
   "outputs": [
    {
     "data": {
      "text/plain": [
       "[<matplotlib.lines.Line2D at 0x24a94130940>]"
      ]
     },
     "execution_count": 63,
     "metadata": {},
     "output_type": "execute_result"
    },
    {
     "data": {
      "image/png": "[encoded data removed]",
      "text/plain": [
       "<Figure size 640x480 with 1 Axes>"
      ]
     },
     "metadata": {},
     "output_type": "display_data"
    }
   ],
   "source": [
    "fig, ax = plt.subplots()\n",
    "ax.plot(x, y)"
   ]
  },
  {
   "cell_type": "code",
   "execution_count": 84,
   "id": "e0044b24",
   "metadata": {},
   "outputs": [
    {
     "data": {
      "text/plain": [
       "(100,)"
      ]
     },
     "execution_count": 84,
     "metadata": {},
     "output_type": "execute_result"
    }
   ],
   "source": [
    "x = np.linspace(0, 20, 100)\n",
    "x.shape"
   ]
  },
  {
   "cell_type": "code",
   "execution_count": 65,
   "id": "ef4c1ccf",
   "metadata": {},
   "outputs": [
    {
     "data": {
      "text/plain": [
       "[<matplotlib.lines.Line2D at 0x24a94160e50>]"
      ]
     },
     "execution_count": 65,
     "metadata": {},
     "output_type": "execute_result"
    },
    {
     "data": {
      "image/png": "[encoded data removed]",
      "text/plain": [
       "<Figure size 640x480 with 1 Axes>"
      ]
     },
     "metadata": {},
     "output_type": "display_data"
    }
   ],
   "source": [
    "fig, ax = plt.subplots()\n",
    "ax.plot(x, x*2)"
   ]
  },
  {
   "cell_type": "code",
   "execution_count": 68,
   "id": "7e638823",
   "metadata": {},
   "outputs": [
    {
     "data": {
      "text/plain": [
       "<matplotlib.collections.PathCollection at 0x24a946fe580>"
      ]
     },
     "execution_count": 68,
     "metadata": {},
     "output_type": "execute_result"
    },
    {
     "data": {
      "image/png": "[encoded data removed]",
      "text/plain": [
       "<Figure size 640x480 with 1 Axes>"
      ]
     },
     "metadata": {},
     "output_type": "display_data"
    }
   ],
   "source": [
    "fig, ax = plt.subplots()\n",
    "ax.scatter(x, x**3)"
   ]
  },
  {
   "cell_type": "code",
   "execution_count": 70,
   "id": "f4879541",
   "metadata": {},
   "outputs": [
    {
     "data": {
      "text/plain": [
       "<matplotlib.collections.PathCollection at 0x24a94640220>"
      ]
     },
     "execution_count": 70,
     "metadata": {},
     "output_type": "execute_result"
    },
    {
     "data": {
      "image/png": "[encoded data removed]",
      "text/plain": [
       "<Figure size 640x480 with 1 Axes>"
      ]
     },
     "metadata": {},
     "output_type": "display_data"
    }
   ],
   "source": [
    "fig, ax = plt.subplots()\n",
    "ax.scatter(np.random.random(100), np.random.random(100)*2)"
   ]
  },
  {
   "cell_type": "code",
   "execution_count": 78,
   "id": "b3744cbc",
   "metadata": {},
   "outputs": [
    {
     "data": {
      "text/plain": [
       "[Text(0.5, 1.0, 'GNI PYTHON TRAINING'),\n",
       " Text(0, 0.5, 'Number of Participants'),\n",
       " Text(0.5, 0, 'Country')]"
      ]
     },
     "execution_count": 78,
     "metadata": {},
     "output_type": "execute_result"
    },
    {
     "data": {
      "image/png": "[encoded data removed]",
      "text/plain": [
       "<Figure size 640x480 with 1 Axes>"
      ]
     },
     "metadata": {},
     "output_type": "display_data"
    }
   ],
   "source": [
    "gni_country ={'USA': 4,\n",
    "            'Nigeria': 10,\n",
    "            'UK': 6,\n",
    "            'Brazil': 5}\n",
    "\n",
    "fig, ax= plt.subplots()\n",
    "ax.bar(gni_country.keys(), gni_country.values())\n",
    "ax.set(title ='GNI PYTHON TRAINING', ylabel='Number of Participants', xlabel='Country')"
   ]
  },
  {
   "cell_type": "code",
   "execution_count": 80,
   "id": "00721bd3",
   "metadata": {},
   "outputs": [
    {
     "data": {
      "text/plain": [
       "<BarContainer object of 4 artists>"
      ]
     },
     "execution_count": 80,
     "metadata": {},
     "output_type": "execute_result"
    },
    {
     "data": {
      "image/png": "[encoded data removed]",
      "text/plain": [
       "<Figure size 640x480 with 1 Axes>"
      ]
     },
     "metadata": {},
     "output_type": "display_data"
    }
   ],
   "source": [
    "fig, ax= plt.subplots()\n",
    "ax.barh(list(gni_country.keys()), list(gni_country.values()))"
   ]
  },
  {
   "cell_type": "code",
   "execution_count": 83,
   "id": "537301d2",
   "metadata": {},
   "outputs": [
    {
     "data": {
      "image/png": "[encoded data removed]",
      "text/plain": [
       "<Figure size 640x480 with 1 Axes>"
      ]
     },
     "metadata": {},
     "output_type": "display_data"
    }
   ],
   "source": [
    "x = np.random.randn(1000)\n",
    "fig, ax= plt.subplots()\n",
    "ax.hist(x);"
   ]
  },
  {
   "cell_type": "markdown",
   "id": "c15d2eed",
   "metadata": {},
   "source": [
    "# Adding visualisation in Subplot (Matplotlib)\n",
    "Youtube video: https://youtu.be/nkEqPtlyusU"
   ]
  },
  {
   "cell_type": "code",
   "execution_count": 88,
   "id": "fa3791f3",
   "metadata": {},
   "outputs": [
    {
     "data": {
      "image/png": "[encoded data removed]",
      "text/plain": [
       "<Figure size 1000x800 with 4 Axes>"
      ]
     },
     "metadata": {},
     "output_type": "display_data"
    }
   ],
   "source": [
    "fig, ax = plt.subplots(nrows=2, ncols=2, figsize=(10, 8))\n",
    "\n",
    "ax[0, 0].plot(x, x*2);\n",
    "ax[0, 1].scatter(np.random.random(100), np.random.random(100)*2);\n",
    "ax[1, 0].bar(gni_country.keys(), gni_country.values());\n",
    "ax[1, 1].hist(np.random.randn(1000));\n",
    "\n",
    "ax[0,0].set(title='Line')\n",
    "ax[0,1].set(title='Scatter')\n",
    "ax[1,0].set(title='Bar Chart')\n",
    "ax[1,1].set(title='Histogram')\n",
    "fig.suptitle(\"GNI PYTON COURSE\", fontsize=18, weight='bold')\n",
    "\n",
    "fig.savefig('images/my_plot.png')"
   ]
  }
 ],
 "metadata": {
  "kernelspec": {
   "display_name": "Python 3 (ipykernel)",
   "language": "python",
   "name": "python3"
  },
  "language_info": {
   "codemirror_mode": {
    "name": "ipython",
    "version": 3
   },
   "file_extension": ".py",
   "mimetype": "text/x-python",
   "name": "python",
   "nbconvert_exporter": "python",
   "pygments_lexer": "ipython3",
   "version": "3.12.2"
  }
 },
 "nbformat": 4,
 "nbformat_minor": 5
}
