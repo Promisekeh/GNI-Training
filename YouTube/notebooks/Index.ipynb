{
 "cells": [
  {
   "cell_type": "markdown",
   "id": "e2a2dfae",
   "metadata": {},
   "source": [
    "# Indexing\n",
    "\n",
    "Indexing means referring to or accessing an individual element in a lsi, tuple, string or any other sequence\n",
    "\n",
    "Data types that can be indexed\n",
    "* Strings\n",
    "* lists\n",
    "* Dictionaries - using keys"
   ]
  },
  {
   "cell_type": "code",
   "execution_count": 1,
   "id": "15295270",
   "metadata": {},
   "outputs": [],
   "source": [
    "my_name = \"Promise\""
   ]
  },
  {
   "cell_type": "code",
   "execution_count": 4,
   "id": "eb940eb7",
   "metadata": {},
   "outputs": [
    {
     "ename": "IndexError",
     "evalue": "string index out of range",
     "output_type": "error",
     "traceback": [
      "\u001b[1;31m---------------------------------------------------------------------------\u001b[0m",
      "\u001b[1;31mIndexError\u001b[0m                                Traceback (most recent call last)",
      "\u001b[1;32m~\\AppData\\Local\\Temp\\ipykernel_7452\\2120899096.py\u001b[0m in \u001b[0;36m<module>\u001b[1;34m\u001b[0m\n\u001b[1;32m----> 1\u001b[1;33m \u001b[0mmy_name\u001b[0m\u001b[1;33m[\u001b[0m\u001b[1;36m7\u001b[0m\u001b[1;33m]\u001b[0m\u001b[1;33m\u001b[0m\u001b[1;33m\u001b[0m\u001b[0m\n\u001b[0m",
      "\u001b[1;31mIndexError\u001b[0m: string index out of range"
     ]
    }
   ],
   "source": [
    "my_name[7]"
   ]
  },
  {
   "cell_type": "code",
   "execution_count": 5,
   "id": "3d681f91",
   "metadata": {},
   "outputs": [],
   "source": [
    "my_full_name = \"Promise Ekeh\""
   ]
  },
  {
   "cell_type": "code",
   "execution_count": 6,
   "id": "d480b2bd",
   "metadata": {},
   "outputs": [
    {
     "data": {
      "text/plain": [
       "'s'"
      ]
     },
     "execution_count": 6,
     "metadata": {},
     "output_type": "execute_result"
    }
   ],
   "source": [
    "my_full_name[5]"
   ]
  },
  {
   "cell_type": "code",
   "execution_count": 7,
   "id": "5f20c3c2",
   "metadata": {},
   "outputs": [
    {
     "data": {
      "text/plain": [
       "' '"
      ]
     },
     "execution_count": 7,
     "metadata": {},
     "output_type": "execute_result"
    }
   ],
   "source": [
    "my_full_name[7]"
   ]
  },
  {
   "cell_type": "code",
   "execution_count": 8,
   "id": "1d422ce7",
   "metadata": {},
   "outputs": [],
   "source": [
    "cars = ['toyota', 'camry', 'benz', 'volvo']"
   ]
  },
  {
   "cell_type": "code",
   "execution_count": 9,
   "id": "617f1647",
   "metadata": {},
   "outputs": [
    {
     "data": {
      "text/plain": [
       "'camry'"
      ]
     },
     "execution_count": 9,
     "metadata": {},
     "output_type": "execute_result"
    }
   ],
   "source": [
    "cars[1]"
   ]
  },
  {
   "cell_type": "code",
   "execution_count": 10,
   "id": "0042d4f3",
   "metadata": {},
   "outputs": [
    {
     "data": {
      "text/plain": [
       "'benz'"
      ]
     },
     "execution_count": 10,
     "metadata": {},
     "output_type": "execute_result"
    }
   ],
   "source": [
    "cars[2]"
   ]
  },
  {
   "cell_type": "code",
   "execution_count": 11,
   "id": "e7534dd6",
   "metadata": {},
   "outputs": [
    {
     "data": {
      "text/plain": [
       "'volvo'"
      ]
     },
     "execution_count": 11,
     "metadata": {},
     "output_type": "execute_result"
    }
   ],
   "source": [
    "cars[3]"
   ]
  },
  {
   "cell_type": "code",
   "execution_count": 12,
   "id": "b6db3115",
   "metadata": {},
   "outputs": [],
   "source": [
    "my_tuple = (1, 2, 3, 4, 5)"
   ]
  },
  {
   "cell_type": "code",
   "execution_count": 13,
   "id": "072e1b1a",
   "metadata": {},
   "outputs": [
    {
     "data": {
      "text/plain": [
       "1"
      ]
     },
     "execution_count": 13,
     "metadata": {},
     "output_type": "execute_result"
    }
   ],
   "source": [
    "my_tuple[0]"
   ]
  },
  {
   "cell_type": "code",
   "execution_count": 14,
   "id": "4283b7d3",
   "metadata": {},
   "outputs": [
    {
     "data": {
      "text/plain": [
       "3"
      ]
     },
     "execution_count": 14,
     "metadata": {},
     "output_type": "execute_result"
    }
   ],
   "source": [
    "my_tuple[2]"
   ]
  },
  {
   "cell_type": "markdown",
   "id": "b92d1f11",
   "metadata": {},
   "source": [
    "## Negative Indexing"
   ]
  },
  {
   "cell_type": "code",
   "execution_count": 15,
   "id": "b2e5f08b",
   "metadata": {},
   "outputs": [
    {
     "data": {
      "text/plain": [
       "'e'"
      ]
     },
     "execution_count": 15,
     "metadata": {},
     "output_type": "execute_result"
    }
   ],
   "source": [
    "my_name[-1]"
   ]
  },
  {
   "cell_type": "code",
   "execution_count": 16,
   "id": "c67dbc32",
   "metadata": {},
   "outputs": [
    {
     "data": {
      "text/plain": [
       "'P'"
      ]
     },
     "execution_count": 16,
     "metadata": {},
     "output_type": "execute_result"
    }
   ],
   "source": [
    "my_name[-7]"
   ]
  },
  {
   "cell_type": "code",
   "execution_count": 17,
   "id": "a27982f2",
   "metadata": {},
   "outputs": [
    {
     "data": {
      "text/plain": [
       "True"
      ]
     },
     "execution_count": 17,
     "metadata": {},
     "output_type": "execute_result"
    }
   ],
   "source": [
    "my_name[-7] == my_name[0]"
   ]
  },
  {
   "cell_type": "code",
   "execution_count": 18,
   "id": "21f76b3b",
   "metadata": {},
   "outputs": [
    {
     "data": {
      "text/plain": [
       "'benz'"
      ]
     },
     "execution_count": 18,
     "metadata": {},
     "output_type": "execute_result"
    }
   ],
   "source": [
    "cars[-2]"
   ]
  },
  {
   "cell_type": "code",
   "execution_count": 19,
   "id": "9243862a",
   "metadata": {},
   "outputs": [
    {
     "data": {
      "text/plain": [
       "3"
      ]
     },
     "execution_count": 19,
     "metadata": {},
     "output_type": "execute_result"
    }
   ],
   "source": [
    "my_tuple[-3]"
   ]
  },
  {
   "cell_type": "markdown",
   "id": "95931c05",
   "metadata": {},
   "source": [
    "# Slicing\n",
    "\n",
    "Slicing is used to get a range of items in a list/string or tuple\n",
    "\n",
    "item[start:stop]"
   ]
  },
  {
   "cell_type": "code",
   "execution_count": 20,
   "id": "23b43b4f",
   "metadata": {},
   "outputs": [
    {
     "data": {
      "text/plain": [
       "'r'"
      ]
     },
     "execution_count": 20,
     "metadata": {},
     "output_type": "execute_result"
    }
   ],
   "source": [
    "my_name[1]"
   ]
  },
  {
   "cell_type": "code",
   "execution_count": 21,
   "id": "f5c5a84a",
   "metadata": {},
   "outputs": [
    {
     "data": {
      "text/plain": [
       "'romis'"
      ]
     },
     "execution_count": 21,
     "metadata": {},
     "output_type": "execute_result"
    }
   ],
   "source": [
    "my_name[1:6]"
   ]
  },
  {
   "cell_type": "code",
   "execution_count": 22,
   "id": "6a22650e",
   "metadata": {},
   "outputs": [
    {
     "data": {
      "text/plain": [
       "'omi'"
      ]
     },
     "execution_count": 22,
     "metadata": {},
     "output_type": "execute_result"
    }
   ],
   "source": [
    "my_name[2:5]"
   ]
  },
  {
   "cell_type": "code",
   "execution_count": 23,
   "id": "6b5eec76",
   "metadata": {},
   "outputs": [
    {
     "data": {
      "text/plain": [
       "'Promi'"
      ]
     },
     "execution_count": 23,
     "metadata": {},
     "output_type": "execute_result"
    }
   ],
   "source": [
    "my_name[0:5]"
   ]
  },
  {
   "cell_type": "code",
   "execution_count": 24,
   "id": "e082df9b",
   "metadata": {},
   "outputs": [
    {
     "data": {
      "text/plain": [
       "'Promi'"
      ]
     },
     "execution_count": 24,
     "metadata": {},
     "output_type": "execute_result"
    }
   ],
   "source": [
    "my_name[:5]"
   ]
  },
  {
   "cell_type": "code",
   "execution_count": 25,
   "id": "942c3d79",
   "metadata": {},
   "outputs": [
    {
     "data": {
      "text/plain": [
       "'mise'"
      ]
     },
     "execution_count": 25,
     "metadata": {},
     "output_type": "execute_result"
    }
   ],
   "source": [
    "my_name[3:]"
   ]
  },
  {
   "cell_type": "code",
   "execution_count": 26,
   "id": "ff9bcf30",
   "metadata": {},
   "outputs": [
    {
     "data": {
      "text/plain": [
       "'romis'"
      ]
     },
     "execution_count": 26,
     "metadata": {},
     "output_type": "execute_result"
    }
   ],
   "source": [
    "my_name[-6:-1]"
   ]
  },
  {
   "cell_type": "code",
   "execution_count": 27,
   "id": "dc4f3c86",
   "metadata": {},
   "outputs": [
    {
     "data": {
      "text/plain": [
       "'Promis'"
      ]
     },
     "execution_count": 27,
     "metadata": {},
     "output_type": "execute_result"
    }
   ],
   "source": [
    "my_name[:-1]"
   ]
  },
  {
   "cell_type": "code",
   "execution_count": 28,
   "id": "9d6acc4f",
   "metadata": {},
   "outputs": [
    {
     "data": {
      "text/plain": [
       "['camry', 'benz', 'volvo']"
      ]
     },
     "execution_count": 28,
     "metadata": {},
     "output_type": "execute_result"
    }
   ],
   "source": [
    "cars[1:4]"
   ]
  },
  {
   "cell_type": "code",
   "execution_count": 29,
   "id": "1ee00b58",
   "metadata": {},
   "outputs": [
    {
     "data": {
      "text/plain": [
       "['camry', 'benz', 'volvo']"
      ]
     },
     "execution_count": 29,
     "metadata": {},
     "output_type": "execute_result"
    }
   ],
   "source": [
    "cars[1:5]"
   ]
  },
  {
   "cell_type": "code",
   "execution_count": 30,
   "id": "533eee10",
   "metadata": {},
   "outputs": [
    {
     "data": {
      "text/plain": [
       "['toyota', 'camry', 'benz', 'volvo']"
      ]
     },
     "execution_count": 30,
     "metadata": {},
     "output_type": "execute_result"
    }
   ],
   "source": [
    "cars[::]"
   ]
  },
  {
   "cell_type": "code",
   "execution_count": 31,
   "id": "eec0d24b",
   "metadata": {},
   "outputs": [
    {
     "data": {
      "text/plain": [
       "['toyota', 'camry', 'benz']"
      ]
     },
     "execution_count": 31,
     "metadata": {},
     "output_type": "execute_result"
    }
   ],
   "source": [
    "cars[-4:-1]"
   ]
  },
  {
   "cell_type": "code",
   "execution_count": null,
   "id": "ec58410b",
   "metadata": {},
   "outputs": [],
   "source": []
  }
 ],
 "metadata": {
  "kernelspec": {
   "display_name": "Python 3 (ipykernel)",
   "language": "python",
   "name": "python3"
  },
  "language_info": {
   "codemirror_mode": {
    "name": "ipython",
    "version": 3
   },
   "file_extension": ".py",
   "mimetype": "text/x-python",
   "name": "python",
   "nbconvert_exporter": "python",
   "pygments_lexer": "ipython3",
   "version": "3.9.13"
  }
 },
 "nbformat": 4,
 "nbformat_minor": 5
}
