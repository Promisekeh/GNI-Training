{
 "cells": [
  {
   "cell_type": "markdown",
   "id": "84d12fc5",
   "metadata": {},
   "source": [
    "# Dictionary Methods\n",
    "\n",
    "Youtube Video: https://youtu.be/xasH-htJ2Ew?si=kxC31JRLNqK9jiqG"
   ]
  },
  {
   "cell_type": "code",
   "execution_count": 1,
   "id": "f1bfe6b2",
   "metadata": {},
   "outputs": [],
   "source": [
    "my_dict = {'First_Name': 'Promise',\n",
    "          'Surname': 'Ekeh',\n",
    "          'Nationality': 'Nigerian'}"
   ]
  },
  {
   "cell_type": "code",
   "execution_count": 2,
   "id": "fcf49187",
   "metadata": {},
   "outputs": [
    {
     "data": {
      "text/plain": [
       "3"
      ]
     },
     "execution_count": 2,
     "metadata": {},
     "output_type": "execute_result"
    }
   ],
   "source": [
    "len(my_dict)"
   ]
  },
  {
   "cell_type": "code",
   "execution_count": 3,
   "id": "ed80a1ae",
   "metadata": {},
   "outputs": [
    {
     "data": {
      "text/plain": [
       "dict_keys(['First_Name', 'Surname', 'Nationality'])"
      ]
     },
     "execution_count": 3,
     "metadata": {},
     "output_type": "execute_result"
    }
   ],
   "source": [
    "my_dict.keys()"
   ]
  },
  {
   "cell_type": "code",
   "execution_count": 4,
   "id": "b3e570ae",
   "metadata": {},
   "outputs": [
    {
     "data": {
      "text/plain": [
       "dict_items([('First_Name', 'Promise'), ('Surname', 'Ekeh'), ('Nationality', 'Nigerian')])"
      ]
     },
     "execution_count": 4,
     "metadata": {},
     "output_type": "execute_result"
    }
   ],
   "source": [
    "my_dict.items()"
   ]
  },
  {
   "cell_type": "code",
   "execution_count": 5,
   "id": "18d51c1b",
   "metadata": {},
   "outputs": [
    {
     "data": {
      "text/plain": [
       "dict_values(['Promise', 'Ekeh', 'Nigerian'])"
      ]
     },
     "execution_count": 5,
     "metadata": {},
     "output_type": "execute_result"
    }
   ],
   "source": [
    "my_dict.values()"
   ]
  },
  {
   "cell_type": "code",
   "execution_count": 6,
   "id": "4be69816",
   "metadata": {},
   "outputs": [],
   "source": [
    "my_dict.update({'height_cm': 150})"
   ]
  },
  {
   "cell_type": "code",
   "execution_count": 7,
   "id": "16b77b7d",
   "metadata": {},
   "outputs": [
    {
     "data": {
      "text/plain": [
       "{'First_Name': 'Promise',\n",
       " 'Surname': 'Ekeh',\n",
       " 'Nationality': 'Nigerian',\n",
       " 'height_cm': 150}"
      ]
     },
     "execution_count": 7,
     "metadata": {},
     "output_type": "execute_result"
    }
   ],
   "source": [
    "my_dict"
   ]
  },
  {
   "cell_type": "markdown",
   "id": "0eb7d158",
   "metadata": {},
   "source": [
    "## Indexing a dictionary\n",
    "you index a dictionary using the key"
   ]
  },
  {
   "cell_type": "code",
   "execution_count": 9,
   "id": "43fc7537",
   "metadata": {},
   "outputs": [
    {
     "data": {
      "text/plain": [
       "'Promise'"
      ]
     },
     "execution_count": 9,
     "metadata": {},
     "output_type": "execute_result"
    }
   ],
   "source": [
    "my_dict['First_Name']"
   ]
  },
  {
   "cell_type": "code",
   "execution_count": 10,
   "id": "5b064569",
   "metadata": {},
   "outputs": [
    {
     "data": {
      "text/plain": [
       "'Ekeh'"
      ]
     },
     "execution_count": 10,
     "metadata": {},
     "output_type": "execute_result"
    }
   ],
   "source": [
    "# To remove item in a dictionary\n",
    "\n",
    "my_dict.pop('Surname')"
   ]
  },
  {
   "cell_type": "code",
   "execution_count": 11,
   "id": "059049cb",
   "metadata": {},
   "outputs": [
    {
     "data": {
      "text/plain": [
       "{'First_Name': 'Promise', 'Nationality': 'Nigerian', 'height_cm': 150}"
      ]
     },
     "execution_count": 11,
     "metadata": {},
     "output_type": "execute_result"
    }
   ],
   "source": [
    "my_dict"
   ]
  },
  {
   "cell_type": "code",
   "execution_count": 15,
   "id": "abbdd2d7",
   "metadata": {},
   "outputs": [],
   "source": [
    "# Dictionary can contain dictionaries it's called nested dictionaries\n",
    "\n",
    "subscribers = {1: {'name': 'subscriber 1', 'age': 25, 'country': 'USA'},\n",
    "               2: {'name': 'John Luke', 'age': 26, 'country': 'UK', 'school': 'imperial college'},\n",
    "               3: {'name': 'Gabriel', 'country': 'Nigeria'}\n",
    "\n",
    "}"
   ]
  },
  {
   "cell_type": "code",
   "execution_count": 16,
   "id": "66b89baf",
   "metadata": {},
   "outputs": [
    {
     "data": {
      "text/plain": [
       "{'name': 'subscriber 1', 'age': 25, 'country': 'USA'}"
      ]
     },
     "execution_count": 16,
     "metadata": {},
     "output_type": "execute_result"
    }
   ],
   "source": [
    "subscribers[1]"
   ]
  },
  {
   "cell_type": "code",
   "execution_count": 17,
   "id": "c72176b5",
   "metadata": {},
   "outputs": [
    {
     "data": {
      "text/plain": [
       "{'name': 'Gabriel', 'country': 'Nigeria'}"
      ]
     },
     "execution_count": 17,
     "metadata": {},
     "output_type": "execute_result"
    }
   ],
   "source": [
    "subscribers[3]"
   ]
  },
  {
   "cell_type": "code",
   "execution_count": null,
   "id": "bcaa8c4d",
   "metadata": {},
   "outputs": [],
   "source": []
  }
 ],
 "metadata": {
  "kernelspec": {
   "display_name": "Python 3 (ipykernel)",
   "language": "python",
   "name": "python3"
  },
  "language_info": {
   "codemirror_mode": {
    "name": "ipython",
    "version": 3
   },
   "file_extension": ".py",
   "mimetype": "text/x-python",
   "name": "python",
   "nbconvert_exporter": "python",
   "pygments_lexer": "ipython3",
   "version": "3.9.13"
  }
 },
 "nbformat": 4,
 "nbformat_minor": 5
}
