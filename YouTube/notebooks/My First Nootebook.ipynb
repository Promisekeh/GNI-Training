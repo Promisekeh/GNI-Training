{
 "cells": [
  {
   "cell_type": "markdown",
   "id": "7c446037",
   "metadata": {},
   "source": [
    "# Learning a Language\n",
    "\n",
    "* Terms\n",
    "* Data Types\n",
    "* Actions (Functions)\n",
    "* Best Practices"
   ]
  },
  {
   "cell_type": "markdown",
   "id": "c2349bb0",
   "metadata": {},
   "source": [
    "## Variables\n",
    "* Variables are used to store information\n",
    "* Assigning/creating a variable is also called 'Variable Declaration'\n",
    "* You can use letters, digits & underscore in variable names\n",
    "* it is case sensistive"
   ]
  },
  {
   "cell_type": "markdown",
   "id": "43fdd1a5",
   "metadata": {},
   "source": [
    "Youtube video\n",
    "\n",
    "\n",
    "https://youtu.be/ydau2STMB80?si=E7ZJTw0mJVhEgscv"
   ]
  },
  {
   "cell_type": "code",
   "execution_count": 1,
   "id": "60c56542",
   "metadata": {},
   "outputs": [],
   "source": [
    "x = 2"
   ]
  },
  {
   "cell_type": "code",
   "execution_count": 2,
   "id": "4587329c",
   "metadata": {},
   "outputs": [
    {
     "data": {
      "text/plain": [
       "2"
      ]
     },
     "execution_count": 2,
     "metadata": {},
     "output_type": "execute_result"
    }
   ],
   "source": [
    "x"
   ]
  },
  {
   "cell_type": "code",
   "execution_count": 3,
   "id": "5d5ae161",
   "metadata": {},
   "outputs": [],
   "source": [
    "x = 12 + 5 "
   ]
  },
  {
   "cell_type": "code",
   "execution_count": 4,
   "id": "353d0694",
   "metadata": {},
   "outputs": [
    {
     "data": {
      "text/plain": [
       "17"
      ]
     },
     "execution_count": 4,
     "metadata": {},
     "output_type": "execute_result"
    }
   ],
   "source": [
    "x"
   ]
  },
  {
   "cell_type": "code",
   "execution_count": 5,
   "id": "97e4dc0e",
   "metadata": {},
   "outputs": [
    {
     "data": {
      "text/plain": [
       "119"
      ]
     },
     "execution_count": 5,
     "metadata": {},
     "output_type": "execute_result"
    }
   ],
   "source": [
    "y = 7\n",
    "z = x* y\n",
    "z"
   ]
  },
  {
   "cell_type": "code",
   "execution_count": 6,
   "id": "bd32f807",
   "metadata": {},
   "outputs": [
    {
     "ename": "NameError",
     "evalue": "name 'Y' is not defined",
     "output_type": "error",
     "traceback": [
      "\u001b[1;31m---------------------------------------------------------------------------\u001b[0m",
      "\u001b[1;31mNameError\u001b[0m                                 Traceback (most recent call last)",
      "Input \u001b[1;32mIn [6]\u001b[0m, in \u001b[0;36m<cell line: 1>\u001b[1;34m()\u001b[0m\n\u001b[1;32m----> 1\u001b[0m \u001b[43mY\u001b[49m\n",
      "\u001b[1;31mNameError\u001b[0m: name 'Y' is not defined"
     ]
    }
   ],
   "source": [
    "Y"
   ]
  },
  {
   "cell_type": "code",
   "execution_count": 7,
   "id": "2adf4ffe",
   "metadata": {},
   "outputs": [
    {
     "data": {
      "text/plain": [
       "7"
      ]
     },
     "execution_count": 7,
     "metadata": {},
     "output_type": "execute_result"
    }
   ],
   "source": [
    "y"
   ]
  },
  {
   "cell_type": "code",
   "execution_count": 8,
   "id": "b6052de2",
   "metadata": {},
   "outputs": [],
   "source": [
    "my_name = 'Promise'"
   ]
  },
  {
   "cell_type": "code",
   "execution_count": 9,
   "id": "229eec58",
   "metadata": {},
   "outputs": [],
   "source": [
    "my_2nd_name = 'Precious'"
   ]
  },
  {
   "cell_type": "code",
   "execution_count": 10,
   "id": "9f1b21d1",
   "metadata": {},
   "outputs": [
    {
     "data": {
      "text/plain": [
       "'Promise'"
      ]
     },
     "execution_count": 10,
     "metadata": {},
     "output_type": "execute_result"
    }
   ],
   "source": [
    "my_name"
   ]
  },
  {
   "cell_type": "markdown",
   "id": "f695a77b",
   "metadata": {},
   "source": [
    "## Data Types\n",
    "* Integers\n",
    "* Floats\n",
    "* Strings\n",
    "* Bool\n",
    "* List\n",
    "* tuple\n",
    "* Set\n",
    "* Dictionary"
   ]
  },
  {
   "cell_type": "code",
   "execution_count": 11,
   "id": "f805a43d",
   "metadata": {},
   "outputs": [
    {
     "data": {
      "text/plain": [
       "int"
      ]
     },
     "execution_count": 11,
     "metadata": {},
     "output_type": "execute_result"
    }
   ],
   "source": [
    "# Integers are numbers\n",
    "\n",
    "x =2\n",
    "\n",
    "type(x)"
   ]
  },
  {
   "cell_type": "code",
   "execution_count": 13,
   "id": "8bdbcbd3",
   "metadata": {},
   "outputs": [
    {
     "data": {
      "text/plain": [
       "int"
      ]
     },
     "execution_count": 13,
     "metadata": {},
     "output_type": "execute_result"
    }
   ],
   "source": [
    "type(10)"
   ]
  },
  {
   "cell_type": "code",
   "execution_count": 14,
   "id": "c4bab4b1",
   "metadata": {},
   "outputs": [
    {
     "data": {
      "text/plain": [
       "float"
      ]
     },
     "execution_count": 14,
     "metadata": {},
     "output_type": "execute_result"
    }
   ],
   "source": [
    "# Floats are decimals\n",
    "\n",
    "y = 12.0\n",
    "type(y)"
   ]
  },
  {
   "cell_type": "code",
   "execution_count": 16,
   "id": "dadda9c1",
   "metadata": {},
   "outputs": [
    {
     "data": {
      "text/plain": [
       "str"
      ]
     },
     "execution_count": 16,
     "metadata": {},
     "output_type": "execute_result"
    }
   ],
   "source": [
    "# strings are letters\n",
    "# They are specified using single or double quotations\n",
    "\n",
    "my_name = 'promise'\n",
    "my_surname = \"ekeh\"\n",
    "\n",
    "type(my_name)\n",
    "type(my_surname)"
   ]
  },
  {
   "cell_type": "code",
   "execution_count": 17,
   "id": "fd9832c6",
   "metadata": {},
   "outputs": [],
   "source": [
    "# Boolean /Bool are true or false\n",
    "\n",
    "z = True\n",
    "w = False"
   ]
  },
  {
   "cell_type": "code",
   "execution_count": 18,
   "id": "848c9490",
   "metadata": {},
   "outputs": [
    {
     "data": {
      "text/plain": [
       "bool"
      ]
     },
     "execution_count": 18,
     "metadata": {},
     "output_type": "execute_result"
    }
   ],
   "source": [
    "type(z)"
   ]
  },
  {
   "cell_type": "code",
   "execution_count": 19,
   "id": "2943a3a5",
   "metadata": {},
   "outputs": [
    {
     "data": {
      "text/plain": [
       "bool"
      ]
     },
     "execution_count": 19,
     "metadata": {},
     "output_type": "execute_result"
    }
   ],
   "source": [
    "type(w)"
   ]
  },
  {
   "cell_type": "code",
   "execution_count": 20,
   "id": "97aac938",
   "metadata": {},
   "outputs": [
    {
     "data": {
      "text/plain": [
       "list"
      ]
     },
     "execution_count": 20,
     "metadata": {},
     "output_type": "execute_result"
    }
   ],
   "source": [
    "# lists are used to store multiple items in a single variable\n",
    "# Used to store collection of data\n",
    "# They are created using square brackets []\n",
    "\n",
    "my_list = [1, 2, 4, 5, 7]\n",
    "type(my_list)"
   ]
  },
  {
   "cell_type": "code",
   "execution_count": 22,
   "id": "8b7e1565",
   "metadata": {},
   "outputs": [
    {
     "data": {
      "text/plain": [
       "tuple"
      ]
     },
     "execution_count": 22,
     "metadata": {},
     "output_type": "execute_result"
    }
   ],
   "source": [
    "# Tuples are used to store multiple items\n",
    "# there are created with curved/round brackets ()\n",
    "# They are immutable i.e. cannot be changed\n",
    "\n",
    "my_tuple = (1, 2, 4, 5, 7)\n",
    "type(my_tuple)"
   ]
  },
  {
   "cell_type": "code",
   "execution_count": 23,
   "id": "54a3bd2f",
   "metadata": {},
   "outputs": [
    {
     "data": {
      "text/plain": [
       "set"
      ]
     },
     "execution_count": 23,
     "metadata": {},
     "output_type": "execute_result"
    }
   ],
   "source": [
    "# sets are also used to store multiple items\n",
    "# sets are unordered/unindexed and unchangeable\n",
    "# They are created using curly brackets\n",
    "\n",
    "my_set = {'james', 'john', 'mathew', 'luke'}\n",
    "type(my_set)"
   ]
  },
  {
   "cell_type": "code",
   "execution_count": 25,
   "id": "8cb9a471",
   "metadata": {},
   "outputs": [
    {
     "data": {
      "text/plain": [
       "4"
      ]
     },
     "execution_count": 25,
     "metadata": {},
     "output_type": "execute_result"
    }
   ],
   "source": [
    "my_list[2]"
   ]
  },
  {
   "cell_type": "code",
   "execution_count": 27,
   "id": "a820581c",
   "metadata": {},
   "outputs": [
    {
     "data": {
      "text/plain": [
       "7"
      ]
     },
     "execution_count": 27,
     "metadata": {},
     "output_type": "execute_result"
    }
   ],
   "source": [
    "my_tuple[4]"
   ]
  },
  {
   "cell_type": "code",
   "execution_count": 29,
   "id": "b6875ec0",
   "metadata": {},
   "outputs": [
    {
     "ename": "TypeError",
     "evalue": "'set' object is not subscriptable",
     "output_type": "error",
     "traceback": [
      "\u001b[1;31m---------------------------------------------------------------------------\u001b[0m",
      "\u001b[1;31mTypeError\u001b[0m                                 Traceback (most recent call last)",
      "Input \u001b[1;32mIn [29]\u001b[0m, in \u001b[0;36m<cell line: 1>\u001b[1;34m()\u001b[0m\n\u001b[1;32m----> 1\u001b[0m \u001b[43mmy_set\u001b[49m\u001b[43m[\u001b[49m\u001b[38;5;241;43m2\u001b[39;49m\u001b[43m]\u001b[49m\n",
      "\u001b[1;31mTypeError\u001b[0m: 'set' object is not subscriptable"
     ]
    }
   ],
   "source": [
    "my_set[2]"
   ]
  },
  {
   "cell_type": "code",
   "execution_count": 30,
   "id": "52d9a994",
   "metadata": {},
   "outputs": [],
   "source": [
    "# Dictinaries are used to store multiple items in key:value pair\n",
    "# They are ordered, changeable but don't allow duplicates\n",
    "# Created using curly brackets {}\n",
    "\n",
    "\n",
    "my_dict = {'First_Name': 'Promise',\n",
    "          'Surname': 'Ekeh',\n",
    "          'Nationality': 'Nigerian'}"
   ]
  },
  {
   "cell_type": "code",
   "execution_count": 31,
   "id": "03543f51",
   "metadata": {},
   "outputs": [
    {
     "data": {
      "text/plain": [
       "dict"
      ]
     },
     "execution_count": 31,
     "metadata": {},
     "output_type": "execute_result"
    }
   ],
   "source": [
    "type(my_dict)"
   ]
  },
  {
   "cell_type": "code",
   "execution_count": 32,
   "id": "f37ed877",
   "metadata": {},
   "outputs": [
    {
     "data": {
      "text/plain": [
       "{'First_Name': 'Promise', 'Surname': 'Ekeh', 'Nationality': 'Nigerian'}"
      ]
     },
     "execution_count": 32,
     "metadata": {},
     "output_type": "execute_result"
    }
   ],
   "source": [
    "my_dict"
   ]
  },
  {
   "cell_type": "markdown",
   "id": "2c3c4339",
   "metadata": {},
   "source": [
    "## Arithmetic Operations\n",
    "* Addition\n",
    "* Subtraction\n",
    "* Division\n",
    "* Multiplication\n",
    "\n",
    "\n",
    "https://youtu.be/72ZdY8qZeu0?si=wmBy-9Ngx8Un0puy"
   ]
  },
  {
   "cell_type": "code",
   "execution_count": 35,
   "id": "fce7704e",
   "metadata": {},
   "outputs": [
    {
     "data": {
      "text/plain": [
       "13"
      ]
     },
     "execution_count": 35,
     "metadata": {},
     "output_type": "execute_result"
    }
   ],
   "source": [
    "x = 3\n",
    "y = 10\n",
    "z = x + y\n",
    "z"
   ]
  },
  {
   "cell_type": "code",
   "execution_count": 36,
   "id": "2c8c3927",
   "metadata": {},
   "outputs": [
    {
     "data": {
      "text/plain": [
       "30"
      ]
     },
     "execution_count": 36,
     "metadata": {},
     "output_type": "execute_result"
    }
   ],
   "source": [
    "x * y"
   ]
  },
  {
   "cell_type": "code",
   "execution_count": 37,
   "id": "8d27a8f0",
   "metadata": {},
   "outputs": [
    {
     "data": {
      "text/plain": [
       "-7"
      ]
     },
     "execution_count": 37,
     "metadata": {},
     "output_type": "execute_result"
    }
   ],
   "source": [
    "x -y"
   ]
  },
  {
   "cell_type": "code",
   "execution_count": 38,
   "id": "70d48654",
   "metadata": {},
   "outputs": [
    {
     "data": {
      "text/plain": [
       "3.3333333333333335"
      ]
     },
     "execution_count": 38,
     "metadata": {},
     "output_type": "execute_result"
    }
   ],
   "source": [
    "y/x"
   ]
  },
  {
   "cell_type": "code",
   "execution_count": 39,
   "id": "4c21538f",
   "metadata": {},
   "outputs": [
    {
     "data": {
      "text/plain": [
       "3"
      ]
     },
     "execution_count": 39,
     "metadata": {},
     "output_type": "execute_result"
    }
   ],
   "source": [
    "y//x"
   ]
  },
  {
   "cell_type": "code",
   "execution_count": 42,
   "id": "e4b06e3d",
   "metadata": {},
   "outputs": [
    {
     "data": {
      "text/plain": [
       "2"
      ]
     },
     "execution_count": 42,
     "metadata": {},
     "output_type": "execute_result"
    }
   ],
   "source": [
    "10//4"
   ]
  },
  {
   "cell_type": "code",
   "execution_count": 46,
   "id": "4e2618d1",
   "metadata": {},
   "outputs": [
    {
     "data": {
      "text/plain": [
       "1"
      ]
     },
     "execution_count": 46,
     "metadata": {},
     "output_type": "execute_result"
    }
   ],
   "source": [
    "#remainder\n",
    "y%x"
   ]
  },
  {
   "cell_type": "code",
   "execution_count": 44,
   "id": "76ac6aa4",
   "metadata": {},
   "outputs": [
    {
     "data": {
      "text/plain": [
       "2.5"
      ]
     },
     "execution_count": 44,
     "metadata": {},
     "output_type": "execute_result"
    }
   ],
   "source": [
    "y/4"
   ]
  },
  {
   "cell_type": "code",
   "execution_count": 47,
   "id": "40488d95",
   "metadata": {},
   "outputs": [
    {
     "data": {
      "text/plain": [
       "1000"
      ]
     },
     "execution_count": 47,
     "metadata": {},
     "output_type": "execute_result"
    }
   ],
   "source": [
    "y ** x"
   ]
  },
  {
   "cell_type": "code",
   "execution_count": 49,
   "id": "5111eb18",
   "metadata": {},
   "outputs": [
    {
     "data": {
      "text/plain": [
       "'promise ekeh'"
      ]
     },
     "execution_count": 49,
     "metadata": {},
     "output_type": "execute_result"
    }
   ],
   "source": [
    "## Adding strings\n",
    "my_name + ' ' + my_surname"
   ]
  },
  {
   "cell_type": "code",
   "execution_count": 52,
   "id": "95a9913c",
   "metadata": {},
   "outputs": [
    {
     "data": {
      "text/plain": [
       "'promise 10'"
      ]
     },
     "execution_count": 52,
     "metadata": {},
     "output_type": "execute_result"
    }
   ],
   "source": [
    "my_name + ' ' + str(y)"
   ]
  },
  {
   "cell_type": "code",
   "execution_count": 55,
   "id": "02366ddb",
   "metadata": {},
   "outputs": [],
   "source": [
    "second_list = ['cat', 'dog', 'snake']"
   ]
  },
  {
   "cell_type": "code",
   "execution_count": 56,
   "id": "2f42ed12",
   "metadata": {},
   "outputs": [
    {
     "data": {
      "text/plain": [
       "[1, 2, 4, 5, 7, 'cat', 'dog', 'snake']"
      ]
     },
     "execution_count": 56,
     "metadata": {},
     "output_type": "execute_result"
    }
   ],
   "source": [
    "my_list + second_list"
   ]
  },
  {
   "cell_type": "markdown",
   "id": "e3b9cc0b",
   "metadata": {},
   "source": [
    "### Double equality sign =="
   ]
  },
  {
   "cell_type": "code",
   "execution_count": 57,
   "id": "dc5c79af",
   "metadata": {},
   "outputs": [
    {
     "data": {
      "text/plain": [
       "False"
      ]
     },
     "execution_count": 57,
     "metadata": {},
     "output_type": "execute_result"
    }
   ],
   "source": [
    " x == 7"
   ]
  },
  {
   "cell_type": "code",
   "execution_count": 58,
   "id": "70a43d17",
   "metadata": {},
   "outputs": [
    {
     "data": {
      "text/plain": [
       "False"
      ]
     },
     "execution_count": 58,
     "metadata": {},
     "output_type": "execute_result"
    }
   ],
   "source": [
    " my_name == 'Promise'"
   ]
  },
  {
   "cell_type": "code",
   "execution_count": 59,
   "id": "4a1e070d",
   "metadata": {},
   "outputs": [
    {
     "data": {
      "text/plain": [
       "True"
      ]
     },
     "execution_count": 59,
     "metadata": {},
     "output_type": "execute_result"
    }
   ],
   "source": [
    "my_name == 'promise'"
   ]
  },
  {
   "cell_type": "markdown",
   "id": "5468b375",
   "metadata": {},
   "source": [
    "### Maths Functions"
   ]
  },
  {
   "cell_type": "code",
   "execution_count": 64,
   "id": "162f415b",
   "metadata": {},
   "outputs": [
    {
     "data": {
      "text/plain": [
       "35"
      ]
     },
     "execution_count": 64,
     "metadata": {},
     "output_type": "execute_result"
    }
   ],
   "source": [
    "round(34.6)"
   ]
  },
  {
   "cell_type": "code",
   "execution_count": 66,
   "id": "ede51e64",
   "metadata": {},
   "outputs": [
    {
     "data": {
      "text/plain": [
       "40"
      ]
     },
     "execution_count": 66,
     "metadata": {},
     "output_type": "execute_result"
    }
   ],
   "source": [
    "abs(-40)"
   ]
  },
  {
   "cell_type": "code",
   "execution_count": 69,
   "id": "a8fde8f0",
   "metadata": {},
   "outputs": [],
   "source": [
    "import math"
   ]
  },
  {
   "cell_type": "code",
   "execution_count": 70,
   "id": "15430dd7",
   "metadata": {},
   "outputs": [
    {
     "data": {
      "text/plain": [
       "7.0"
      ]
     },
     "execution_count": 70,
     "metadata": {},
     "output_type": "execute_result"
    }
   ],
   "source": [
    "math.sqrt(49)"
   ]
  },
  {
   "cell_type": "markdown",
   "id": "2f739df7",
   "metadata": {},
   "source": [
    "### Indexing"
   ]
  },
  {
   "cell_type": "code",
   "execution_count": null,
   "id": "ddbd102b",
   "metadata": {},
   "outputs": [],
   "source": []
  }
 ],
 "metadata": {
  "kernelspec": {
   "display_name": "Python 3",
   "language": "python",
   "name": "python3"
  },
  "language_info": {
   "codemirror_mode": {
    "name": "ipython",
    "version": 3
   },
   "file_extension": ".py",
   "mimetype": "text/x-python",
   "name": "python",
   "nbconvert_exporter": "python",
   "pygments_lexer": "ipython3",
   "version": "3.12.2"
  },
  "vscode": {
   "interpreter": {
    "hash": "05cb7ba86d661f17298216f7a2406a4ce380e0ef535caa6d933a0c5b0b863f0c"
   }
  }
 },
 "nbformat": 4,
 "nbformat_minor": 5
}
