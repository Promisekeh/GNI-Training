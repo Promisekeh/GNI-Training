{
 "cells": [
  {
   "cell_type": "markdown",
   "id": "92978c99",
   "metadata": {},
   "source": [
    "# Python Methods/ actions\n",
    "\n",
    "* strings\n",
    "* lists\n",
    "* sets\n",
    "* dictionaries\n",
    "* tuples\n"
   ]
  },
  {
   "cell_type": "markdown",
   "id": "0b55c2dc",
   "metadata": {},
   "source": [
    "## strings"
   ]
  },
  {
   "cell_type": "code",
   "execution_count": 1,
   "id": "e7a706e2",
   "metadata": {},
   "outputs": [],
   "source": [
    "my_name = 'promise ekeh'"
   ]
  },
  {
   "cell_type": "code",
   "execution_count": 2,
   "id": "68a2b1a6",
   "metadata": {},
   "outputs": [
    {
     "data": {
      "text/plain": [
       "12"
      ]
     },
     "execution_count": 2,
     "metadata": {},
     "output_type": "execute_result"
    }
   ],
   "source": [
    "#To know how long the string is use the len function\n",
    "\n",
    "len(my_name)"
   ]
  },
  {
   "cell_type": "code",
   "execution_count": 4,
   "id": "c7775bf6",
   "metadata": {},
   "outputs": [
    {
     "ename": "IndexError",
     "evalue": "string index out of range",
     "output_type": "error",
     "traceback": [
      "\u001b[1;31m---------------------------------------------------------------------------\u001b[0m",
      "\u001b[1;31mIndexError\u001b[0m                                Traceback (most recent call last)",
      "\u001b[1;32m~\\AppData\\Local\\Temp\\ipykernel_42360\\3135017324.py\u001b[0m in \u001b[0;36m<module>\u001b[1;34m\u001b[0m\n\u001b[1;32m----> 1\u001b[1;33m \u001b[0mmy_name\u001b[0m\u001b[1;33m[\u001b[0m\u001b[1;36m12\u001b[0m\u001b[1;33m]\u001b[0m\u001b[1;33m\u001b[0m\u001b[1;33m\u001b[0m\u001b[0m\n\u001b[0m",
      "\u001b[1;31mIndexError\u001b[0m: string index out of range"
     ]
    }
   ],
   "source": [
    "my_name[12]"
   ]
  },
  {
   "cell_type": "code",
   "execution_count": 6,
   "id": "a3b43552",
   "metadata": {},
   "outputs": [
    {
     "data": {
      "text/plain": [
       "True"
      ]
     },
     "execution_count": 6,
     "metadata": {},
     "output_type": "execute_result"
    }
   ],
   "source": [
    "#check if item in a string\n",
    "'p'in my_name"
   ]
  },
  {
   "cell_type": "code",
   "execution_count": 7,
   "id": "69200b7b",
   "metadata": {},
   "outputs": [
    {
     "data": {
      "text/plain": [
       "False"
      ]
     },
     "execution_count": 7,
     "metadata": {},
     "output_type": "execute_result"
    }
   ],
   "source": [
    "#check if item not in string \n",
    "'p' not in my_name"
   ]
  },
  {
   "cell_type": "code",
   "execution_count": 8,
   "id": "c22d8a8b",
   "metadata": {},
   "outputs": [
    {
     "data": {
      "text/plain": [
       "'PROMISE EKEH'"
      ]
     },
     "execution_count": 8,
     "metadata": {},
     "output_type": "execute_result"
    }
   ],
   "source": [
    "#change string to upper case\n",
    "my_name.upper()"
   ]
  },
  {
   "cell_type": "code",
   "execution_count": 9,
   "id": "3a76999d",
   "metadata": {},
   "outputs": [
    {
     "data": {
      "text/plain": [
       "'promise ekeh'"
      ]
     },
     "execution_count": 9,
     "metadata": {},
     "output_type": "execute_result"
    }
   ],
   "source": [
    "my_name"
   ]
  },
  {
   "cell_type": "code",
   "execution_count": 10,
   "id": "fad2b4c5",
   "metadata": {},
   "outputs": [],
   "source": [
    "upper_case = my_name.upper()"
   ]
  },
  {
   "cell_type": "code",
   "execution_count": 11,
   "id": "c16e6d72",
   "metadata": {},
   "outputs": [
    {
     "data": {
      "text/plain": [
       "'PROMISE EKEH'"
      ]
     },
     "execution_count": 11,
     "metadata": {},
     "output_type": "execute_result"
    }
   ],
   "source": [
    "upper_case"
   ]
  },
  {
   "cell_type": "code",
   "execution_count": 12,
   "id": "f7eb78ad",
   "metadata": {},
   "outputs": [
    {
     "data": {
      "text/plain": [
       "'promise ekeh'"
      ]
     },
     "execution_count": 12,
     "metadata": {},
     "output_type": "execute_result"
    }
   ],
   "source": [
    "upper_case.lower()"
   ]
  },
  {
   "cell_type": "code",
   "execution_count": 13,
   "id": "8ecc7679",
   "metadata": {},
   "outputs": [
    {
     "data": {
      "text/plain": [
       "'promise ekeh'"
      ]
     },
     "execution_count": 13,
     "metadata": {},
     "output_type": "execute_result"
    }
   ],
   "source": [
    "#Remove white spaces\n",
    "my_name.strip()"
   ]
  },
  {
   "cell_type": "code",
   "execution_count": 14,
   "id": "acaf56c5",
   "metadata": {},
   "outputs": [],
   "source": [
    "my_name = ' Promise ekeh '"
   ]
  },
  {
   "cell_type": "code",
   "execution_count": 16,
   "id": "372ada51",
   "metadata": {},
   "outputs": [],
   "source": [
    "#Remove white spaces\n",
    "my_name =my_name.strip()"
   ]
  },
  {
   "cell_type": "code",
   "execution_count": 17,
   "id": "722ab02d",
   "metadata": {},
   "outputs": [
    {
     "data": {
      "text/plain": [
       "'Promise_ekeh'"
      ]
     },
     "execution_count": 17,
     "metadata": {},
     "output_type": "execute_result"
    }
   ],
   "source": [
    "my_name.replace(' ', '_')"
   ]
  },
  {
   "cell_type": "code",
   "execution_count": 18,
   "id": "2fe21cdf",
   "metadata": {},
   "outputs": [
    {
     "data": {
      "text/plain": [
       "'Promisa akah'"
      ]
     },
     "execution_count": 18,
     "metadata": {},
     "output_type": "execute_result"
    }
   ],
   "source": [
    "my_name.replace('e', 'a')"
   ]
  },
  {
   "cell_type": "code",
   "execution_count": 21,
   "id": "fe287d21",
   "metadata": {},
   "outputs": [
    {
     "data": {
      "text/plain": [
       "['Promis', ' ', 'k', 'h']"
      ]
     },
     "execution_count": 21,
     "metadata": {},
     "output_type": "execute_result"
    }
   ],
   "source": [
    "my_name.split('e')"
   ]
  },
  {
   "cell_type": "code",
   "execution_count": 22,
   "id": "89be9ec8",
   "metadata": {},
   "outputs": [],
   "source": [
    "#Concatenate: adding two strings\n",
    "\n",
    "fruits = 'apple'\n"
   ]
  },
  {
   "cell_type": "code",
   "execution_count": 23,
   "id": "94ed2ed0",
   "metadata": {},
   "outputs": [
    {
     "data": {
      "text/plain": [
       "'Promise ekehapple'"
      ]
     },
     "execution_count": 23,
     "metadata": {},
     "output_type": "execute_result"
    }
   ],
   "source": [
    "my_name + fruits"
   ]
  },
  {
   "cell_type": "markdown",
   "id": "2b0cb849",
   "metadata": {},
   "source": [
    "## Lists"
   ]
  },
  {
   "cell_type": "code",
   "execution_count": 39,
   "id": "a07e5cce",
   "metadata": {},
   "outputs": [],
   "source": [
    "fruits = ['apple', 'mango', 'pear', 'cherry', 'strawberry', 'grape']"
   ]
  },
  {
   "cell_type": "code",
   "execution_count": 25,
   "id": "86957b5e",
   "metadata": {},
   "outputs": [
    {
     "data": {
      "text/plain": [
       "6"
      ]
     },
     "execution_count": 25,
     "metadata": {},
     "output_type": "execute_result"
    }
   ],
   "source": [
    "#length of list\n",
    "len(fruits)"
   ]
  },
  {
   "cell_type": "code",
   "execution_count": 26,
   "id": "32d767be",
   "metadata": {},
   "outputs": [
    {
     "data": {
      "text/plain": [
       "True"
      ]
     },
     "execution_count": 26,
     "metadata": {},
     "output_type": "execute_result"
    }
   ],
   "source": [
    "'cherry' in fruits"
   ]
  },
  {
   "cell_type": "code",
   "execution_count": 27,
   "id": "47632600",
   "metadata": {},
   "outputs": [
    {
     "data": {
      "text/plain": [
       "False"
      ]
     },
     "execution_count": 27,
     "metadata": {},
     "output_type": "execute_result"
    }
   ],
   "source": [
    "'pineapple' in fruits"
   ]
  },
  {
   "cell_type": "code",
   "execution_count": 28,
   "id": "8338d16e",
   "metadata": {},
   "outputs": [
    {
     "data": {
      "text/plain": [
       "False"
      ]
     },
     "execution_count": 28,
     "metadata": {},
     "output_type": "execute_result"
    }
   ],
   "source": [
    "'Apple' in fruits"
   ]
  },
  {
   "cell_type": "code",
   "execution_count": 29,
   "id": "55ba7ce5",
   "metadata": {},
   "outputs": [
    {
     "data": {
      "text/plain": [
       "'cherry'"
      ]
     },
     "execution_count": 29,
     "metadata": {},
     "output_type": "execute_result"
    }
   ],
   "source": [
    "# change item in list\n",
    "\n",
    "fruits[3]"
   ]
  },
  {
   "cell_type": "code",
   "execution_count": 30,
   "id": "8d155ad5",
   "metadata": {},
   "outputs": [],
   "source": [
    "fruits[3] = 'carrots'"
   ]
  },
  {
   "cell_type": "code",
   "execution_count": 31,
   "id": "5f173a0a",
   "metadata": {},
   "outputs": [
    {
     "data": {
      "text/plain": [
       "['apple', 'mango', 'pear', 'carrots', 'strawberry', 'grape']"
      ]
     },
     "execution_count": 31,
     "metadata": {},
     "output_type": "execute_result"
    }
   ],
   "source": [
    "fruits"
   ]
  },
  {
   "cell_type": "code",
   "execution_count": 47,
   "id": "8f5d25ae",
   "metadata": {},
   "outputs": [
    {
     "data": {
      "text/plain": [
       "['apple', 'carrot', 'mango', 'pear', 'cherry', 'strawberry', 'grape']"
      ]
     },
     "execution_count": 47,
     "metadata": {},
     "output_type": "execute_result"
    }
   ],
   "source": [
    "#insert item to a particular index\n",
    "fruits = ['apple', 'mango', 'pear', 'cherry', 'strawberry', 'grape']\n",
    "\n",
    "fruits.insert(1, 'carrot')\n",
    "fruits"
   ]
  },
  {
   "cell_type": "code",
   "execution_count": 41,
   "id": "65a50136",
   "metadata": {},
   "outputs": [
    {
     "data": {
      "text/plain": [
       "['apple', 'carrot', 'mango', 'pear', 'cherry', 'strawberry', 'grape', 'green']"
      ]
     },
     "execution_count": 41,
     "metadata": {},
     "output_type": "execute_result"
    }
   ],
   "source": [
    "#add items to the end of a list\n",
    "fruits.append('green')\n",
    "fruits"
   ]
  },
  {
   "cell_type": "code",
   "execution_count": 42,
   "id": "5d3100cb",
   "metadata": {},
   "outputs": [
    {
     "data": {
      "text/plain": [
       "['apple',\n",
       " 'carrot',\n",
       " 'mango',\n",
       " 'pear',\n",
       " 'cherry',\n",
       " 'strawberry',\n",
       " 'grape',\n",
       " 'green',\n",
       " 'rice',\n",
       " 'bean',\n",
       " 'plantain']"
      ]
     },
     "execution_count": 42,
     "metadata": {},
     "output_type": "execute_result"
    }
   ],
   "source": [
    "#add list to another list\n",
    "\n",
    "fruits.extend(['rice', 'bean', 'plantain'])\n",
    "fruits"
   ]
  },
  {
   "cell_type": "code",
   "execution_count": 43,
   "id": "3b5e49f4",
   "metadata": {},
   "outputs": [
    {
     "data": {
      "text/plain": [
       "['apple',\n",
       " 'carrot',\n",
       " 'mango',\n",
       " 'pear',\n",
       " 'cherry',\n",
       " 'strawberry',\n",
       " 'grape',\n",
       " 'rice',\n",
       " 'bean',\n",
       " 'plantain']"
      ]
     },
     "execution_count": 43,
     "metadata": {},
     "output_type": "execute_result"
    }
   ],
   "source": [
    "#Remove items from list\n",
    "fruits.remove('green')\n",
    "fruits"
   ]
  },
  {
   "cell_type": "code",
   "execution_count": 44,
   "id": "c4460539",
   "metadata": {},
   "outputs": [
    {
     "data": {
      "text/plain": [
       "'cherry'"
      ]
     },
     "execution_count": 44,
     "metadata": {},
     "output_type": "execute_result"
    }
   ],
   "source": [
    "fruits[4]"
   ]
  },
  {
   "cell_type": "code",
   "execution_count": 45,
   "id": "990c8f3e",
   "metadata": {},
   "outputs": [
    {
     "data": {
      "text/plain": [
       "['apple',\n",
       " 'carrot',\n",
       " 'mango',\n",
       " 'pear',\n",
       " 'strawberry',\n",
       " 'grape',\n",
       " 'rice',\n",
       " 'bean',\n",
       " 'plantain']"
      ]
     },
     "execution_count": 45,
     "metadata": {},
     "output_type": "execute_result"
    }
   ],
   "source": [
    "# remove item using index\n",
    "fruits.pop(4)\n",
    "fruits"
   ]
  },
  {
   "cell_type": "code",
   "execution_count": 50,
   "id": "c2eccc95",
   "metadata": {},
   "outputs": [],
   "source": [
    "# sort list\n",
    "\n",
    "fruits = ['apple', 'mango', 'pear', 'cherry', 'strawberry', 'grape']\n",
    "\n",
    "fruits.sort()"
   ]
  },
  {
   "cell_type": "code",
   "execution_count": 51,
   "id": "c8c9d70d",
   "metadata": {},
   "outputs": [
    {
     "data": {
      "text/plain": [
       "['apple', 'cherry', 'grape', 'mango', 'pear', 'strawberry']"
      ]
     },
     "execution_count": 51,
     "metadata": {},
     "output_type": "execute_result"
    }
   ],
   "source": [
    "fruits"
   ]
  },
  {
   "cell_type": "code",
   "execution_count": 52,
   "id": "bf0abd01",
   "metadata": {},
   "outputs": [],
   "source": [
    "fruits.sort(reverse=True)"
   ]
  },
  {
   "cell_type": "code",
   "execution_count": 53,
   "id": "28ea4fb4",
   "metadata": {},
   "outputs": [
    {
     "data": {
      "text/plain": [
       "['strawberry', 'pear', 'mango', 'grape', 'cherry', 'apple']"
      ]
     },
     "execution_count": 53,
     "metadata": {},
     "output_type": "execute_result"
    }
   ],
   "source": [
    "fruits"
   ]
  },
  {
   "cell_type": "code",
   "execution_count": 54,
   "id": "29b47081",
   "metadata": {},
   "outputs": [
    {
     "data": {
      "text/plain": [
       "[]"
      ]
     },
     "execution_count": 54,
     "metadata": {},
     "output_type": "execute_result"
    }
   ],
   "source": [
    "#clear list\n",
    "fruits.clear()\n",
    "fruits"
   ]
  },
  {
   "cell_type": "code",
   "execution_count": 55,
   "id": "ad2ea12b",
   "metadata": {},
   "outputs": [
    {
     "ename": "NameError",
     "evalue": "name 'fruit' is not defined",
     "output_type": "error",
     "traceback": [
      "\u001b[1;31m---------------------------------------------------------------------------\u001b[0m",
      "\u001b[1;31mNameError\u001b[0m                                 Traceback (most recent call last)",
      "\u001b[1;32m~\\AppData\\Local\\Temp\\ipykernel_42360\\4259568304.py\u001b[0m in \u001b[0;36m<module>\u001b[1;34m\u001b[0m\n\u001b[0;32m      1\u001b[0m \u001b[1;31m# delete list\u001b[0m\u001b[1;33m\u001b[0m\u001b[1;33m\u001b[0m\u001b[0m\n\u001b[0;32m      2\u001b[0m \u001b[1;33m\u001b[0m\u001b[0m\n\u001b[1;32m----> 3\u001b[1;33m \u001b[1;32mdel\u001b[0m \u001b[0mfruit\u001b[0m\u001b[1;33m\u001b[0m\u001b[1;33m\u001b[0m\u001b[0m\n\u001b[0m\u001b[0;32m      4\u001b[0m \u001b[0mfruit\u001b[0m\u001b[1;33m\u001b[0m\u001b[1;33m\u001b[0m\u001b[0m\n",
      "\u001b[1;31mNameError\u001b[0m: name 'fruit' is not defined"
     ]
    }
   ],
   "source": [
    "# delete list\n",
    "\n",
    "del fruit\n",
    "fruit"
   ]
  },
  {
   "cell_type": "markdown",
   "id": "a65275d7",
   "metadata": {},
   "source": [
    "## Dictionary Methods"
   ]
  },
  {
   "cell_type": "code",
   "execution_count": 56,
   "id": "a586ec6d",
   "metadata": {},
   "outputs": [],
   "source": [
    "my_dict = {'First_Name': 'Promise',\n",
    "          'Surname': 'Ekeh',\n",
    "          'Nationality': 'Nigerian'}"
   ]
  },
  {
   "cell_type": "code",
   "execution_count": 58,
   "id": "a2381a52",
   "metadata": {},
   "outputs": [
    {
     "data": {
      "text/plain": [
       "3"
      ]
     },
     "execution_count": 58,
     "metadata": {},
     "output_type": "execute_result"
    }
   ],
   "source": [
    "len(my_dict)"
   ]
  },
  {
   "cell_type": "code",
   "execution_count": 59,
   "id": "857906e8",
   "metadata": {},
   "outputs": [
    {
     "data": {
      "text/plain": [
       "dict_keys(['First_Name', 'Surname', 'Nationality'])"
      ]
     },
     "execution_count": 59,
     "metadata": {},
     "output_type": "execute_result"
    }
   ],
   "source": [
    "my_dict.keys()"
   ]
  },
  {
   "cell_type": "code",
   "execution_count": 60,
   "id": "52f5ee8b",
   "metadata": {},
   "outputs": [
    {
     "data": {
      "text/plain": [
       "dict_values(['Promise', 'Ekeh', 'Nigerian'])"
      ]
     },
     "execution_count": 60,
     "metadata": {},
     "output_type": "execute_result"
    }
   ],
   "source": [
    "my_dict.values()"
   ]
  },
  {
   "cell_type": "code",
   "execution_count": 65,
   "id": "25894252",
   "metadata": {},
   "outputs": [
    {
     "data": {
      "text/plain": [
       "{'First_Name': 'Promise',\n",
       " 'Surname': 'Ekeh',\n",
       " 'Nationality': 'Nigerian',\n",
       " 'height_cm': 170}"
      ]
     },
     "execution_count": 65,
     "metadata": {},
     "output_type": "execute_result"
    }
   ],
   "source": [
    "my_dict.update({'height_cm': 170})\n",
    "my_dict"
   ]
  },
  {
   "cell_type": "code",
   "execution_count": 66,
   "id": "44f9a017",
   "metadata": {},
   "outputs": [],
   "source": [
    "my_dict.update({'height_cm': 150})"
   ]
  },
  {
   "cell_type": "code",
   "execution_count": 67,
   "id": "54cefcf7",
   "metadata": {},
   "outputs": [
    {
     "data": {
      "text/plain": [
       "{'First_Name': 'Promise',\n",
       " 'Surname': 'Ekeh',\n",
       " 'Nationality': 'Nigerian',\n",
       " 'height_cm': 150}"
      ]
     },
     "execution_count": 67,
     "metadata": {},
     "output_type": "execute_result"
    }
   ],
   "source": [
    "my_dict"
   ]
  },
  {
   "cell_type": "code",
   "execution_count": 68,
   "id": "80248989",
   "metadata": {},
   "outputs": [
    {
     "data": {
      "text/plain": [
       "'Promise'"
      ]
     },
     "execution_count": 68,
     "metadata": {},
     "output_type": "execute_result"
    }
   ],
   "source": [
    "my_dict['First_Name']"
   ]
  },
  {
   "cell_type": "code",
   "execution_count": 69,
   "id": "0566b191",
   "metadata": {},
   "outputs": [
    {
     "data": {
      "text/plain": [
       "{'First_Name': 'Promise', 'Nationality': 'Nigerian', 'height_cm': 150}"
      ]
     },
     "execution_count": 69,
     "metadata": {},
     "output_type": "execute_result"
    }
   ],
   "source": [
    "# To remove item in a dictionary\n",
    "\n",
    "my_dict.pop('Surname')\n",
    "\n",
    "my_dict"
   ]
  },
  {
   "cell_type": "code",
   "execution_count": 76,
   "id": "feda2d21",
   "metadata": {},
   "outputs": [
    {
     "data": {
      "text/plain": [
       "{1: {'name': 'subscriber 1', 'age': 25, 'country': 'USA'},\n",
       " 2: {'name': 'John Luke',\n",
       "  'age': 26,\n",
       "  'country': 'UK',\n",
       "  'school': 'imperial college'},\n",
       " 3: {'name': 'Gabriel', 'country': 'Nigeria'}}"
      ]
     },
     "execution_count": 76,
     "metadata": {},
     "output_type": "execute_result"
    }
   ],
   "source": [
    "# Dictionary can contain dictionaries it's called nested dictionaries\n",
    "\n",
    "subscribers = {1: {'name': 'subscriber 1', 'age': 25, 'country': 'USA'},\n",
    "               2: {'name': 'John Luke', 'age': 26, 'country': 'UK', 'school': 'imperial college'},\n",
    "               3: {'name': 'Gabriel', 'country': 'Nigeria'}\n",
    "              }\n",
    "\n",
    "subscribers"
   ]
  },
  {
   "cell_type": "code",
   "execution_count": 1,
   "id": "ac4d418c",
   "metadata": {},
   "outputs": [
    {
     "data": {
      "text/plain": [
       "{'subscriber_1': {'name': 'subscriber 1', 'age': 25, 'country': 'USA'},\n",
       " 'subscriber_2': {'name': 'John Luke',\n",
       "  'age': 26,\n",
       "  'country': 'UK',\n",
       "  'school': 'imperial college'},\n",
       " 'subscriber_3': {'name': 'Gabriel', 'country': 'Nigeria'}}"
      ]
     },
     "execution_count": 1,
     "metadata": {},
     "output_type": "execute_result"
    }
   ],
   "source": [
    "# Dictionary can contain dictionaries it's called nested dictionaries\n",
    "\n",
    "subscribers = {'subscriber_1': {'name': 'subscriber 1', 'age': 25, 'country': 'USA'},\n",
    "               'subscriber_2': {'name': 'John Luke', 'age': 26, 'country': 'UK', 'school': 'imperial college'},\n",
    "               'subscriber_3': {'name': 'Gabriel', 'country': 'Nigeria'} \n",
    "}\n",
    "subscribers"
   ]
  },
  {
   "cell_type": "code",
   "execution_count": null,
   "id": "d42fe8e9",
   "metadata": {},
   "outputs": [],
   "source": []
  }
 ],
 "metadata": {
  "kernelspec": {
   "display_name": "Python 3 (ipykernel)",
   "language": "python",
   "name": "python3"
  },
  "language_info": {
   "codemirror_mode": {
    "name": "ipython",
    "version": 3
   },
   "file_extension": ".py",
   "mimetype": "text/x-python",
   "name": "python",
   "nbconvert_exporter": "python",
   "pygments_lexer": "ipython3",
   "version": "3.9.13"
  }
 },
 "nbformat": 4,
 "nbformat_minor": 5
}
