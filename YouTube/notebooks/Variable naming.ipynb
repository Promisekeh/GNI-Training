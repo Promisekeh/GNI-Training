{
 "cells": [
  {
   "cell_type": "markdown",
   "id": "e53dd945",
   "metadata": {},
   "source": [
    "# Variables\n",
    "\n",
    "## Naming Multi word variables\n",
    "\n",
    "Ways to name multi word variable\n",
    "* Camel Case\n",
    "* Pascal Case\n",
    "* Snale case"
   ]
  },
  {
   "cell_type": "markdown",
   "id": "56f9e857",
   "metadata": {},
   "source": [
    "https://youtu.be/v2Z6y8hGm2k?si=xJlZ-YMcOhiHMps5"
   ]
  },
  {
   "cell_type": "markdown",
   "id": "81b459b9",
   "metadata": {},
   "source": [
    "### Camel Case\n",
    "Each work except the first starts with capital letter"
   ]
  },
  {
   "cell_type": "code",
   "execution_count": 4,
   "id": "56bb472b",
   "metadata": {},
   "outputs": [],
   "source": [
    "myFirstName = 'Promise'\n"
   ]
  },
  {
   "cell_type": "code",
   "execution_count": 5,
   "id": "fefe6ead",
   "metadata": {},
   "outputs": [],
   "source": [
    "bulletItems = []\n"
   ]
  },
  {
   "cell_type": "code",
   "execution_count": 6,
   "id": "e4162d86",
   "metadata": {},
   "outputs": [],
   "source": [
    "dictOfItems = {}"
   ]
  },
  {
   "cell_type": "markdown",
   "id": "e1029740",
   "metadata": {},
   "source": [
    "### Paschal\n",
    "Each word starts with capital letter\n"
   ]
  },
  {
   "cell_type": "code",
   "execution_count": 7,
   "id": "1258f78d",
   "metadata": {},
   "outputs": [],
   "source": [
    "MyFirstName = ''"
   ]
  },
  {
   "cell_type": "code",
   "execution_count": 8,
   "id": "8a07dfed",
   "metadata": {},
   "outputs": [],
   "source": [
    "ThisVariableName = ''"
   ]
  },
  {
   "cell_type": "code",
   "execution_count": 9,
   "id": "450381ec",
   "metadata": {},
   "outputs": [],
   "source": [
    "EvenNumbers = [2, 4, 6, 8]"
   ]
  },
  {
   "cell_type": "markdown",
   "id": "ac35b228",
   "metadata": {},
   "source": [
    "### Snake Case\n",
    "\n",
    "each waord separated by underscore"
   ]
  },
  {
   "cell_type": "code",
   "execution_count": 10,
   "id": "43cf3b85",
   "metadata": {},
   "outputs": [],
   "source": [
    "my_first_name = 'Promsie'"
   ]
  },
  {
   "cell_type": "code",
   "execution_count": 11,
   "id": "cf7bed4a",
   "metadata": {},
   "outputs": [],
   "source": [
    "even_numbers = [2, 4, 6]"
   ]
  },
  {
   "cell_type": "markdown",
   "id": "17948c1f",
   "metadata": {},
   "source": [
    "# Importance\n",
    "\n",
    "* code easily understandable\n",
    "* python doesn't accept spaces in variable names"
   ]
  },
  {
   "cell_type": "code",
   "execution_count": null,
   "id": "c743c39a",
   "metadata": {},
   "outputs": [],
   "source": []
  }
 ],
 "metadata": {
  "kernelspec": {
   "display_name": "Python 3 (ipykernel)",
   "language": "python",
   "name": "python3"
  },
  "language_info": {
   "codemirror_mode": {
    "name": "ipython",
    "version": 3
   },
   "file_extension": ".py",
   "mimetype": "text/x-python",
   "name": "python",
   "nbconvert_exporter": "python",
   "pygments_lexer": "ipython3",
   "version": "3.9.13"
  }
 },
 "nbformat": 4,
 "nbformat_minor": 5
}
