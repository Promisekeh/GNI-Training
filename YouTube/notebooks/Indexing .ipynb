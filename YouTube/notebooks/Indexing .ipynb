{
 "cells": [
  {
   "attachments": {},
   "cell_type": "markdown",
   "id": "7ac4941b",
   "metadata": {},
   "source": [
    "## Index\n",
    "“Indexing” means referring to an element of an iterable by its position within the iterable.\n",
    "\n",
    "In Python, indexing refers to the act of accessing individual elements of a list, tuple, or any other sequence\n",
    "\n",
    "Indexing is important because it allows us to call a portion of a data structure quite effortlessly in order to work with components inside of a structure individually\n",
    "\n",
    "to retrieve an element of the list, we use the index operator ([])\n",
    "\n",
    "Data Types that are indexed\n",
    "* Strings\n",
    "* List\n",
    "* Dict - We can index a dictionary using a corresponding dictionary key\n",
    "\n",
    "\n",
    "Youtube video: https://youtu.be/TR6YFH2GNek?si=SSkWwD2DtBITYUG8\n"
   ]
  },
  {
   "cell_type": "code",
   "execution_count": 1,
   "id": "1a28a744",
   "metadata": {},
   "outputs": [],
   "source": [
    "my_name = 'Promise'"
   ]
  },
  {
   "cell_type": "code",
   "execution_count": 2,
   "id": "1cc13cd5",
   "metadata": {},
   "outputs": [
    {
     "data": {
      "text/plain": [
       "'e'"
      ]
     },
     "execution_count": 2,
     "metadata": {},
     "output_type": "execute_result"
    }
   ],
   "source": [
    "my_name[6]"
   ]
  },
  {
   "cell_type": "code",
   "execution_count": 3,
   "id": "cb951d1b",
   "metadata": {},
   "outputs": [
    {
     "data": {
      "text/plain": [
       "3"
      ]
     },
     "execution_count": 3,
     "metadata": {},
     "output_type": "execute_result"
    }
   ],
   "source": [
    "my_name.index('m')"
   ]
  },
  {
   "cell_type": "code",
   "execution_count": 5,
   "id": "2cdc26ab",
   "metadata": {},
   "outputs": [],
   "source": [
    "my_full_name = 'Promise Ekeh'"
   ]
  },
  {
   "cell_type": "code",
   "execution_count": 6,
   "id": "842eec58",
   "metadata": {},
   "outputs": [
    {
     "data": {
      "text/plain": [
       "' '"
      ]
     },
     "execution_count": 6,
     "metadata": {},
     "output_type": "execute_result"
    }
   ],
   "source": [
    "my_full_name[7]"
   ]
  },
  {
   "cell_type": "code",
   "execution_count": 19,
   "id": "1135a684",
   "metadata": {},
   "outputs": [],
   "source": [
    "fruits = ['cherry', 'orange', 'mango', 'pawpaw', 'apple', 'pineapple', 'lemon', 'pear']"
   ]
  },
  {
   "cell_type": "code",
   "execution_count": 15,
   "id": "db4d8402",
   "metadata": {},
   "outputs": [
    {
     "data": {
      "text/plain": [
       "8"
      ]
     },
     "execution_count": 15,
     "metadata": {},
     "output_type": "execute_result"
    }
   ],
   "source": [
    "len(fruits)"
   ]
  },
  {
   "cell_type": "code",
   "execution_count": 14,
   "id": "7767786b",
   "metadata": {},
   "outputs": [],
   "source": [
    "fruits_dict ={'cherry': 7, 'orange': 8, 'mango': 5, 'pawpaw': 3, 'apple': 15, 'pineapple': 1, 'lemon': 2, 'pear': 4}"
   ]
  },
  {
   "cell_type": "code",
   "execution_count": 21,
   "id": "286e1e81",
   "metadata": {},
   "outputs": [
    {
     "data": {
      "text/plain": [
       "'lemon'"
      ]
     },
     "execution_count": 21,
     "metadata": {},
     "output_type": "execute_result"
    }
   ],
   "source": [
    "fruits[6]"
   ]
  },
  {
   "cell_type": "markdown",
   "id": "860b14dd",
   "metadata": {},
   "source": [
    "# Negative Indexing"
   ]
  },
  {
   "cell_type": "code",
   "execution_count": 25,
   "id": "68754bff",
   "metadata": {},
   "outputs": [
    {
     "data": {
      "text/plain": [
       "'pear'"
      ]
     },
     "execution_count": 25,
     "metadata": {},
     "output_type": "execute_result"
    }
   ],
   "source": [
    "fruits[-1]"
   ]
  },
  {
   "attachments": {},
   "cell_type": "markdown",
   "id": "bb517ba4",
   "metadata": {},
   "source": [
    "## Slicing\n",
    "You can also use indexing to get a range of elements from a list, known as slicing. For example:\n",
    "\n",
    " “Slicing” means getting a subset of elements from an iterable based on their indices.\n",
    "A slice is a subset of list elements. In the case of lists, a single slice will always be of contiguous elements. Slice notation takes the form\n",
    "\n",
    "- item[start:stop]\n",
    "-"
   ]
  },
  {
   "cell_type": "code",
   "execution_count": 22,
   "id": "7438a57c",
   "metadata": {},
   "outputs": [
    {
     "data": {
      "text/plain": [
       "['mango', 'pawpaw', 'apple', 'pineapple']"
      ]
     },
     "execution_count": 22,
     "metadata": {},
     "output_type": "execute_result"
    }
   ],
   "source": [
    "fruits[2:6]"
   ]
  },
  {
   "cell_type": "code",
   "execution_count": 26,
   "id": "dbf641d8",
   "metadata": {},
   "outputs": [
    {
     "data": {
      "text/plain": [
       "['cheryy', 'orange', 'mango', 'pawpaw', 'apple', 'pineapple']"
      ]
     },
     "execution_count": 26,
     "metadata": {},
     "output_type": "execute_result"
    }
   ],
   "source": [
    "fruits[:6]"
   ]
  },
  {
   "cell_type": "code",
   "execution_count": 27,
   "id": "301ccddb",
   "metadata": {},
   "outputs": [
    {
     "data": {
      "text/plain": [
       "['pawpaw', 'apple', 'pineapple', 'lemon', 'pear']"
      ]
     },
     "execution_count": 27,
     "metadata": {},
     "output_type": "execute_result"
    }
   ],
   "source": [
    "fruits[3:]"
   ]
  },
  {
   "cell_type": "code",
   "execution_count": 29,
   "id": "a3d56625",
   "metadata": {},
   "outputs": [
    {
     "data": {
      "text/plain": [
       "['mango', 'pawpaw', 'apple', 'pineapple', 'lemon', 'pear']"
      ]
     },
     "execution_count": 29,
     "metadata": {},
     "output_type": "execute_result"
    }
   ],
   "source": [
    "fruits[-6:]"
   ]
  },
  {
   "cell_type": "markdown",
   "id": "a2f21be9",
   "metadata": {},
   "source": [
    "### Python Iterators/Operators\n",
    "\n",
    "Conditions\n",
    "- Equals: a == b\n",
    "- Not Equals: a != b\n",
    "- Less than: a < b\n",
    "- Less than or equal to: a <= b\n",
    "- Greater than: a > b\n",
    "- Greater than or equal to: a >= b\n",
    "\n",
    "\n",
    "These conditions can be used in several ways, most commonly in \"if statements\" and loops.\n",
    "\n",
    "#### if statements\n",
    "if, elif, else\n",
    "multiple conditions ( and, or)\n",
    "nested if\n",
    "\n"
   ]
  },
  {
   "cell_type": "code",
   "execution_count": null,
   "id": "bb26f29a",
   "metadata": {},
   "outputs": [],
   "source": []
  },
  {
   "cell_type": "markdown",
   "id": "9395e9d6",
   "metadata": {},
   "source": [
    "#### Python Loops\n",
    "* while\n",
    "    With the while loop we can execute a set of statements as long as a condition is true.\n",
    "* for\n",
    "    A for loop is used for iterating over a sequence (that is either a list, a tuple, a dictionary, a set, or a string).\n",
    "\n",
    "This is less like the for keyword in other programming languages, and works more like an iterator method as found in other object-orientated programming languages.\n",
    "\n",
    "With the for loop we can execute a set of statements, once for each item in a list, tuple, set etc\n",
    "\n",
    "*break and continue in for or while loop\n",
    "* nested loops"
   ]
  },
  {
   "cell_type": "code",
   "execution_count": null,
   "id": "5d81a7a8",
   "metadata": {},
   "outputs": [],
   "source": []
  }
 ],
 "metadata": {
  "kernelspec": {
   "display_name": "python_env",
   "language": "python",
   "name": "python3"
  },
  "language_info": {
   "codemirror_mode": {
    "name": "ipython",
    "version": 3
   },
   "file_extension": ".py",
   "mimetype": "text/x-python",
   "name": "python",
   "nbconvert_exporter": "python",
   "pygments_lexer": "ipython3",
   "version": "3.9.13"
  },
  "vscode": {
   "interpreter": {
    "hash": "f791c376c7e6fab72abd90932b90374cf4dda93cb226ee26e3ef6c3ff377eadc"
   }
  }
 },
 "nbformat": 4,
 "nbformat_minor": 5
}
