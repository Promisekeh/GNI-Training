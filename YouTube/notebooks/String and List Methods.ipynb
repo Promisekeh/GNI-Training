{
 "cells": [
  {
   "cell_type": "markdown",
   "id": "bef60ec4",
   "metadata": {},
   "source": [
    "# Python Methods\n",
    "\n",
    "* Strings\n",
    "* Lists\n",
    "* Dictionaries\n",
    "* Sets\n",
    "* Tuples"
   ]
  },
  {
   "cell_type": "markdown",
   "id": "02c19035",
   "metadata": {},
   "source": [
    "## Strings\n",
    "\n",
    "https://youtu.be/ZDWj-JajO3k?si=IUa5ztpPWQzYgkV7"
   ]
  },
  {
   "cell_type": "code",
   "execution_count": 1,
   "id": "4660cb65",
   "metadata": {},
   "outputs": [],
   "source": [
    "my_name = 'promise ekeh'"
   ]
  },
  {
   "cell_type": "code",
   "execution_count": 2,
   "id": "f5abc9e2",
   "metadata": {},
   "outputs": [
    {
     "data": {
      "text/plain": [
       "12"
      ]
     },
     "execution_count": 2,
     "metadata": {},
     "output_type": "execute_result"
    }
   ],
   "source": [
    "# 1. To know number of items in a string use the 'len' function\n",
    "\n",
    "len(my_name)"
   ]
  },
  {
   "cell_type": "code",
   "execution_count": 3,
   "id": "ddd7939d",
   "metadata": {},
   "outputs": [
    {
     "ename": "IndexError",
     "evalue": "string index out of range",
     "output_type": "error",
     "traceback": [
      "\u001b[1;31m---------------------------------------------------------------------------\u001b[0m",
      "\u001b[1;31mIndexError\u001b[0m                                Traceback (most recent call last)",
      "Cell \u001b[1;32mIn[3], line 1\u001b[0m\n\u001b[1;32m----> 1\u001b[0m \u001b[43mmy_name\u001b[49m\u001b[43m[\u001b[49m\u001b[38;5;241;43m12\u001b[39;49m\u001b[43m]\u001b[49m\n",
      "\u001b[1;31mIndexError\u001b[0m: string index out of range"
     ]
    }
   ],
   "source": [
    "my_name[12]"
   ]
  },
  {
   "cell_type": "code",
   "execution_count": 5,
   "id": "43e485d3",
   "metadata": {},
   "outputs": [
    {
     "data": {
      "text/plain": [
       "'h'"
      ]
     },
     "execution_count": 5,
     "metadata": {},
     "output_type": "execute_result"
    }
   ],
   "source": [
    "my_name[11]"
   ]
  },
  {
   "cell_type": "code",
   "execution_count": 6,
   "id": "42a48d59",
   "metadata": {},
   "outputs": [
    {
     "data": {
      "text/plain": [
       "True"
      ]
     },
     "execution_count": 6,
     "metadata": {},
     "output_type": "execute_result"
    }
   ],
   "source": [
    "# 2. Check in an item is in string\n",
    "\n",
    "'p' in my_name"
   ]
  },
  {
   "cell_type": "code",
   "execution_count": null,
   "id": "b583d8bb",
   "metadata": {},
   "outputs": [],
   "source": []
  },
  {
   "cell_type": "code",
   "execution_count": 7,
   "id": "45c39e9a",
   "metadata": {},
   "outputs": [
    {
     "data": {
      "text/plain": [
       "False"
      ]
     },
     "execution_count": 7,
     "metadata": {},
     "output_type": "execute_result"
    }
   ],
   "source": [
    "'P' in my_name"
   ]
  },
  {
   "cell_type": "code",
   "execution_count": 8,
   "id": "1eba3e23",
   "metadata": {},
   "outputs": [
    {
     "data": {
      "text/plain": [
       "False"
      ]
     },
     "execution_count": 8,
     "metadata": {},
     "output_type": "execute_result"
    }
   ],
   "source": [
    "# 3. Check in an item not in a string\n",
    "\n",
    "'p' not in my_name"
   ]
  },
  {
   "cell_type": "code",
   "execution_count": 9,
   "id": "2a71ec7a",
   "metadata": {},
   "outputs": [
    {
     "data": {
      "text/plain": [
       "'PROMISE EKEH'"
      ]
     },
     "execution_count": 9,
     "metadata": {},
     "output_type": "execute_result"
    }
   ],
   "source": [
    "# 4. Change string to Capital/upper case\n",
    "\n",
    "my_name.upper()"
   ]
  },
  {
   "cell_type": "code",
   "execution_count": 10,
   "id": "85bbbad7",
   "metadata": {},
   "outputs": [
    {
     "data": {
      "text/plain": [
       "'promise ekeh'"
      ]
     },
     "execution_count": 10,
     "metadata": {},
     "output_type": "execute_result"
    }
   ],
   "source": [
    "my_name"
   ]
  },
  {
   "cell_type": "code",
   "execution_count": 11,
   "id": "d05a90f7",
   "metadata": {},
   "outputs": [
    {
     "data": {
      "text/plain": [
       "'PROMISE EKEH'"
      ]
     },
     "execution_count": 11,
     "metadata": {},
     "output_type": "execute_result"
    }
   ],
   "source": [
    "upper_case = my_name.upper()\n",
    "upper_case"
   ]
  },
  {
   "cell_type": "code",
   "execution_count": 12,
   "id": "2c3c5286",
   "metadata": {},
   "outputs": [
    {
     "data": {
      "text/plain": [
       "'promise ekeh'"
      ]
     },
     "execution_count": 12,
     "metadata": {},
     "output_type": "execute_result"
    }
   ],
   "source": [
    "# 5. Change string to lowercase\n",
    "\n",
    "upper_case.lower()"
   ]
  },
  {
   "cell_type": "code",
   "execution_count": 13,
   "id": "91dc66b0",
   "metadata": {},
   "outputs": [
    {
     "data": {
      "text/plain": [
       "' promise ekeh '"
      ]
     },
     "execution_count": 13,
     "metadata": {},
     "output_type": "execute_result"
    }
   ],
   "source": [
    "# 6. Remove Whitespace\n",
    "\n",
    "my_name = ' promise ekeh '\n",
    "my_name"
   ]
  },
  {
   "cell_type": "code",
   "execution_count": 14,
   "id": "09213792",
   "metadata": {},
   "outputs": [
    {
     "data": {
      "text/plain": [
       "'promise ekeh'"
      ]
     },
     "execution_count": 14,
     "metadata": {},
     "output_type": "execute_result"
    }
   ],
   "source": [
    "my_name.strip()"
   ]
  },
  {
   "cell_type": "code",
   "execution_count": 15,
   "id": "194a6dc9",
   "metadata": {},
   "outputs": [],
   "source": [
    "my_name= my_name.strip()"
   ]
  },
  {
   "cell_type": "code",
   "execution_count": 16,
   "id": "358077d2",
   "metadata": {},
   "outputs": [
    {
     "data": {
      "text/plain": [
       "'promise_ekeh'"
      ]
     },
     "execution_count": 16,
     "metadata": {},
     "output_type": "execute_result"
    }
   ],
   "source": [
    "# 7. Changing or replacing characters in a string\n",
    "\n",
    "my_name.replace(' ', '_')"
   ]
  },
  {
   "cell_type": "code",
   "execution_count": 17,
   "id": "055541af",
   "metadata": {},
   "outputs": [
    {
     "data": {
      "text/plain": [
       "'promisa akah'"
      ]
     },
     "execution_count": 17,
     "metadata": {},
     "output_type": "execute_result"
    }
   ],
   "source": [
    "my_name.replace('e', 'a')"
   ]
  },
  {
   "cell_type": "code",
   "execution_count": 20,
   "id": "ced318a0",
   "metadata": {},
   "outputs": [
    {
     "data": {
      "text/plain": [
       "['promise', 'ekeh']"
      ]
     },
     "execution_count": 20,
     "metadata": {},
     "output_type": "execute_result"
    }
   ],
   "source": [
    "# 8. Splitting string into multiple strings\n",
    "my_name.split(' ')"
   ]
  },
  {
   "cell_type": "code",
   "execution_count": 21,
   "id": "2d2f8d22",
   "metadata": {},
   "outputs": [
    {
     "data": {
      "text/plain": [
       "['promi', 'e ekeh']"
      ]
     },
     "execution_count": 21,
     "metadata": {},
     "output_type": "execute_result"
    }
   ],
   "source": [
    "my_name.split('s')"
   ]
  },
  {
   "cell_type": "code",
   "execution_count": 22,
   "id": "d868830b",
   "metadata": {},
   "outputs": [
    {
     "data": {
      "text/plain": [
       "['promis', ' ', 'k', 'h']"
      ]
     },
     "execution_count": 22,
     "metadata": {},
     "output_type": "execute_result"
    }
   ],
   "source": [
    "my_name.split('e')"
   ]
  },
  {
   "cell_type": "code",
   "execution_count": 23,
   "id": "b74d19c1",
   "metadata": {},
   "outputs": [],
   "source": [
    "# 9. Concatenating or adding strings\n",
    "\n",
    "fruits = 'apple'"
   ]
  },
  {
   "cell_type": "code",
   "execution_count": null,
   "id": "6c862565",
   "metadata": {},
   "outputs": [],
   "source": []
  },
  {
   "cell_type": "code",
   "execution_count": 24,
   "id": "c468685a",
   "metadata": {},
   "outputs": [
    {
     "data": {
      "text/plain": [
       "'promise ekehapple'"
      ]
     },
     "execution_count": 24,
     "metadata": {},
     "output_type": "execute_result"
    }
   ],
   "source": [
    "my_name + fruits"
   ]
  },
  {
   "cell_type": "code",
   "execution_count": 25,
   "id": "8c0f00b6",
   "metadata": {},
   "outputs": [
    {
     "data": {
      "text/plain": [
       "'promise ekeh apple'"
      ]
     },
     "execution_count": 25,
     "metadata": {},
     "output_type": "execute_result"
    }
   ],
   "source": [
    "my_name + ' ' + fruits"
   ]
  },
  {
   "cell_type": "markdown",
   "id": "f3222786",
   "metadata": {},
   "source": [
    "## Lists Methods\n",
    "\n",
    "https://youtu.be/_pctFrto4CI?si=_gNL8fgu4edemGPd"
   ]
  },
  {
   "cell_type": "code",
   "execution_count": 37,
   "id": "6cdbf08e",
   "metadata": {},
   "outputs": [],
   "source": [
    "fruits = ['apple', 'mango', 'pear', 'cherry', 'strawberry', 'grape']"
   ]
  },
  {
   "cell_type": "code",
   "execution_count": 27,
   "id": "e10aa367",
   "metadata": {},
   "outputs": [
    {
     "data": {
      "text/plain": [
       "6"
      ]
     },
     "execution_count": 27,
     "metadata": {},
     "output_type": "execute_result"
    }
   ],
   "source": [
    "# 1. Length of list\n",
    "\n",
    "len(fruits)"
   ]
  },
  {
   "cell_type": "code",
   "execution_count": 28,
   "id": "34fa7013",
   "metadata": {},
   "outputs": [
    {
     "data": {
      "text/plain": [
       "True"
      ]
     },
     "execution_count": 28,
     "metadata": {},
     "output_type": "execute_result"
    }
   ],
   "source": [
    "# 2. check if an item is in list\n",
    "\n",
    "'cherry' in fruits"
   ]
  },
  {
   "cell_type": "code",
   "execution_count": 29,
   "id": "78bd8ecb",
   "metadata": {},
   "outputs": [
    {
     "data": {
      "text/plain": [
       "False"
      ]
     },
     "execution_count": 29,
     "metadata": {},
     "output_type": "execute_result"
    }
   ],
   "source": [
    "'pineapple' in fruits"
   ]
  },
  {
   "cell_type": "code",
   "execution_count": 30,
   "id": "7f6505e6",
   "metadata": {},
   "outputs": [
    {
     "data": {
      "text/plain": [
       "'cherry'"
      ]
     },
     "execution_count": 30,
     "metadata": {},
     "output_type": "execute_result"
    }
   ],
   "source": [
    "# 3. Indexing a list\n",
    "\n",
    "\n",
    "fruits[3]"
   ]
  },
  {
   "cell_type": "code",
   "execution_count": 38,
   "id": "070f584c",
   "metadata": {},
   "outputs": [],
   "source": [
    "# 4. Change item in list using index\n",
    "\n",
    "fruits[3] = 'carrot'"
   ]
  },
  {
   "cell_type": "code",
   "execution_count": 32,
   "id": "50ea420f",
   "metadata": {},
   "outputs": [
    {
     "data": {
      "text/plain": [
       "['apple', 'mango', 'pear', 'carrot', 'strawberry', 'grape']"
      ]
     },
     "execution_count": 32,
     "metadata": {},
     "output_type": "execute_result"
    }
   ],
   "source": [
    "fruits"
   ]
  },
  {
   "cell_type": "code",
   "execution_count": 33,
   "id": "e67f0817",
   "metadata": {},
   "outputs": [
    {
     "data": {
      "text/plain": [
       "'carrot'"
      ]
     },
     "execution_count": 33,
     "metadata": {},
     "output_type": "execute_result"
    }
   ],
   "source": [
    "fruits[3]"
   ]
  },
  {
   "cell_type": "code",
   "execution_count": 35,
   "id": "819a7947",
   "metadata": {},
   "outputs": [],
   "source": [
    "fruits[4:] = 'pineapple'"
   ]
  },
  {
   "cell_type": "code",
   "execution_count": 36,
   "id": "0dc02c14",
   "metadata": {},
   "outputs": [
    {
     "data": {
      "text/plain": [
       "['apple',\n",
       " 'mango',\n",
       " 'pear',\n",
       " 'carrot',\n",
       " 'p',\n",
       " 'i',\n",
       " 'n',\n",
       " 'e',\n",
       " 'a',\n",
       " 'p',\n",
       " 'p',\n",
       " 'l',\n",
       " 'e']"
      ]
     },
     "execution_count": 36,
     "metadata": {},
     "output_type": "execute_result"
    }
   ],
   "source": [
    "fruits"
   ]
  },
  {
   "cell_type": "code",
   "execution_count": 39,
   "id": "503ade95",
   "metadata": {},
   "outputs": [
    {
     "data": {
      "text/plain": [
       "['apple', 'mango', 'pear', 'carrot', 'pineaple', 'lemon']"
      ]
     },
     "execution_count": 39,
     "metadata": {},
     "output_type": "execute_result"
    }
   ],
   "source": [
    "fruits[4:]= ['pineaple', 'lemon']\n",
    "fruits"
   ]
  },
  {
   "cell_type": "code",
   "execution_count": 40,
   "id": "ba1b2915",
   "metadata": {},
   "outputs": [],
   "source": [
    "# 5 Insert Item to a particular index\n",
    "fruits.insert(1, 'carrot')"
   ]
  },
  {
   "cell_type": "code",
   "execution_count": 41,
   "id": "f24ca491",
   "metadata": {},
   "outputs": [
    {
     "data": {
      "text/plain": [
       "['apple', 'carrot', 'mango', 'pear', 'carrot', 'pineaple', 'lemon']"
      ]
     },
     "execution_count": 41,
     "metadata": {},
     "output_type": "execute_result"
    }
   ],
   "source": [
    "fruits"
   ]
  },
  {
   "cell_type": "code",
   "execution_count": 42,
   "id": "af81c5cd",
   "metadata": {},
   "outputs": [
    {
     "data": {
      "text/plain": [
       "['apple', 'carrot', 'mango', 'pear', 'carrot', 'pineaple', 'lemon', 'green']"
      ]
     },
     "execution_count": 42,
     "metadata": {},
     "output_type": "execute_result"
    }
   ],
   "source": [
    "# 6. Adding/appending items to a list\n",
    "fruits.append('green')\n",
    "fruits"
   ]
  },
  {
   "cell_type": "code",
   "execution_count": 43,
   "id": "20e93572",
   "metadata": {},
   "outputs": [
    {
     "data": {
      "text/plain": [
       "['apple',\n",
       " 'carrot',\n",
       " 'mango',\n",
       " 'pear',\n",
       " 'carrot',\n",
       " 'pineaple',\n",
       " 'lemon',\n",
       " 'green',\n",
       " 'coconut',\n",
       " 'dates',\n",
       " 'cherry']"
      ]
     },
     "execution_count": 43,
     "metadata": {},
     "output_type": "execute_result"
    }
   ],
   "source": [
    "# 7. Concatenating/Adding List to a list\n",
    "\n",
    "fruits.extend(['coconut', 'dates', 'cherry'])\n",
    "fruits"
   ]
  },
  {
   "cell_type": "code",
   "execution_count": 44,
   "id": "265605fe",
   "metadata": {},
   "outputs": [
    {
     "data": {
      "text/plain": [
       "['apple',\n",
       " 'carrot',\n",
       " 'mango',\n",
       " 'pear',\n",
       " 'carrot',\n",
       " 'pineaple',\n",
       " 'lemon',\n",
       " 'coconut',\n",
       " 'dates',\n",
       " 'cherry']"
      ]
     },
     "execution_count": 44,
     "metadata": {},
     "output_type": "execute_result"
    }
   ],
   "source": [
    "# 8. Removing item from a list\n",
    "\n",
    "fruits.remove('green')\n",
    "fruits"
   ]
  },
  {
   "cell_type": "code",
   "execution_count": 45,
   "id": "cc4d9452",
   "metadata": {},
   "outputs": [
    {
     "data": {
      "text/plain": [
       "'carrot'"
      ]
     },
     "execution_count": 45,
     "metadata": {},
     "output_type": "execute_result"
    }
   ],
   "source": [
    "fruits[4]"
   ]
  },
  {
   "cell_type": "code",
   "execution_count": 46,
   "id": "bb04bc9d",
   "metadata": {},
   "outputs": [
    {
     "data": {
      "text/plain": [
       "['apple',\n",
       " 'carrot',\n",
       " 'mango',\n",
       " 'pear',\n",
       " 'pineaple',\n",
       " 'lemon',\n",
       " 'coconut',\n",
       " 'dates',\n",
       " 'cherry']"
      ]
     },
     "execution_count": 46,
     "metadata": {},
     "output_type": "execute_result"
    }
   ],
   "source": [
    "# 9. removing item using index\n",
    "\n",
    "fruits.pop(4)\n",
    "fruits"
   ]
  },
  {
   "cell_type": "code",
   "execution_count": 47,
   "id": "d7fdea10",
   "metadata": {},
   "outputs": [
    {
     "data": {
      "text/plain": [
       "['apple',\n",
       " 'carrot',\n",
       " 'cherry',\n",
       " 'coconut',\n",
       " 'dates',\n",
       " 'lemon',\n",
       " 'mango',\n",
       " 'pear',\n",
       " 'pineaple']"
      ]
     },
     "execution_count": 47,
     "metadata": {},
     "output_type": "execute_result"
    }
   ],
   "source": [
    "# 10 Sorting List\n",
    "\n",
    "fruits.sort()\n",
    "fruits"
   ]
  },
  {
   "cell_type": "code",
   "execution_count": 48,
   "id": "7cb412b3",
   "metadata": {},
   "outputs": [
    {
     "data": {
      "text/plain": [
       "['pineaple',\n",
       " 'pear',\n",
       " 'mango',\n",
       " 'lemon',\n",
       " 'dates',\n",
       " 'coconut',\n",
       " 'cherry',\n",
       " 'carrot',\n",
       " 'apple']"
      ]
     },
     "execution_count": 48,
     "metadata": {},
     "output_type": "execute_result"
    }
   ],
   "source": [
    "fruits.sort(reverse = True)\n",
    "fruits"
   ]
  },
  {
   "cell_type": "code",
   "execution_count": 49,
   "id": "8842c654",
   "metadata": {},
   "outputs": [
    {
     "data": {
      "text/plain": [
       "[]"
      ]
     },
     "execution_count": 49,
     "metadata": {},
     "output_type": "execute_result"
    }
   ],
   "source": [
    "# 11 Clear List\n",
    "fruits.clear()\n",
    "fruits"
   ]
  },
  {
   "cell_type": "code",
   "execution_count": 50,
   "id": "2df8461b",
   "metadata": {},
   "outputs": [
    {
     "ename": "NameError",
     "evalue": "name 'fruits' is not defined",
     "output_type": "error",
     "traceback": [
      "\u001b[1;31m---------------------------------------------------------------------------\u001b[0m",
      "\u001b[1;31mNameError\u001b[0m                                 Traceback (most recent call last)",
      "Cell \u001b[1;32mIn[50], line 4\u001b[0m\n\u001b[0;32m      1\u001b[0m \u001b[38;5;66;03m# delete variable\u001b[39;00m\n\u001b[0;32m      2\u001b[0m \u001b[38;5;28;01mdel\u001b[39;00m fruits\n\u001b[1;32m----> 4\u001b[0m \u001b[43mfruits\u001b[49m\n",
      "\u001b[1;31mNameError\u001b[0m: name 'fruits' is not defined"
     ]
    }
   ],
   "source": [
    "# delete variable\n",
    "del fruits\n",
    "\n",
    "fruits"
   ]
  },
  {
   "cell_type": "code",
   "execution_count": null,
   "id": "50ceeeb5",
   "metadata": {},
   "outputs": [],
   "source": []
  }
 ],
 "metadata": {
  "kernelspec": {
   "display_name": "Python 3 (ipykernel)",
   "language": "python",
   "name": "python3"
  },
  "language_info": {
   "codemirror_mode": {
    "name": "ipython",
    "version": 3
   },
   "file_extension": ".py",
   "mimetype": "text/x-python",
   "name": "python",
   "nbconvert_exporter": "python",
   "pygments_lexer": "ipython3",
   "version": "3.9.13"
  }
 },
 "nbformat": 4,
 "nbformat_minor": 5
}
