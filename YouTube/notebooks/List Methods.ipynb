{
 "cells": [
  {
   "cell_type": "markdown",
   "id": "2d889673",
   "metadata": {},
   "source": [
    "# List Methods"
   ]
  },
  {
   "cell_type": "code",
   "execution_count": 11,
   "id": "87e32800",
   "metadata": {},
   "outputs": [],
   "source": [
    "fruits = ['apple', 'mango', 'pear', 'cherry', 'strawberry', 'grape']"
   ]
  },
  {
   "cell_type": "code",
   "execution_count": 2,
   "id": "b85a9f04",
   "metadata": {},
   "outputs": [
    {
     "data": {
      "text/plain": [
       "6"
      ]
     },
     "execution_count": 2,
     "metadata": {},
     "output_type": "execute_result"
    }
   ],
   "source": [
    "# 1. Length of list\n",
    "\n",
    "len(fruits)"
   ]
  },
  {
   "cell_type": "code",
   "execution_count": 3,
   "id": "57360a16",
   "metadata": {},
   "outputs": [
    {
     "data": {
      "text/plain": [
       "True"
      ]
     },
     "execution_count": 3,
     "metadata": {},
     "output_type": "execute_result"
    }
   ],
   "source": [
    "# 2. Check if an item is in a list\n",
    "\n",
    "'cherry' in fruits"
   ]
  },
  {
   "cell_type": "code",
   "execution_count": 4,
   "id": "7367082a",
   "metadata": {},
   "outputs": [
    {
     "data": {
      "text/plain": [
       "False"
      ]
     },
     "execution_count": 4,
     "metadata": {},
     "output_type": "execute_result"
    }
   ],
   "source": [
    "'pineapple' in fruits"
   ]
  },
  {
   "cell_type": "code",
   "execution_count": 5,
   "id": "da08e093",
   "metadata": {},
   "outputs": [
    {
     "data": {
      "text/plain": [
       "'cherry'"
      ]
     },
     "execution_count": 5,
     "metadata": {},
     "output_type": "execute_result"
    }
   ],
   "source": [
    "# 3. Indexing a list\n",
    "\n",
    "fruits[3]"
   ]
  },
  {
   "cell_type": "code",
   "execution_count": 6,
   "id": "223fae86",
   "metadata": {},
   "outputs": [],
   "source": [
    "# 4. Changing item in a list using index\n",
    "fruits[3] = 'carrot'"
   ]
  },
  {
   "cell_type": "code",
   "execution_count": 7,
   "id": "7e023458",
   "metadata": {},
   "outputs": [
    {
     "data": {
      "text/plain": [
       "['apple', 'mango', 'pear', 'carrot', 'strawberry', 'grape']"
      ]
     },
     "execution_count": 7,
     "metadata": {},
     "output_type": "execute_result"
    }
   ],
   "source": [
    "fruits"
   ]
  },
  {
   "cell_type": "code",
   "execution_count": 8,
   "id": "8158ba81",
   "metadata": {},
   "outputs": [
    {
     "data": {
      "text/plain": [
       "'carrot'"
      ]
     },
     "execution_count": 8,
     "metadata": {},
     "output_type": "execute_result"
    }
   ],
   "source": [
    "fruits[3]"
   ]
  },
  {
   "cell_type": "code",
   "execution_count": 9,
   "id": "a9b36b76",
   "metadata": {},
   "outputs": [],
   "source": [
    "fruits[4:]= 'pineapple'"
   ]
  },
  {
   "cell_type": "code",
   "execution_count": 10,
   "id": "59e38660",
   "metadata": {},
   "outputs": [
    {
     "data": {
      "text/plain": [
       "['apple',\n",
       " 'mango',\n",
       " 'pear',\n",
       " 'carrot',\n",
       " 'p',\n",
       " 'i',\n",
       " 'n',\n",
       " 'e',\n",
       " 'a',\n",
       " 'p',\n",
       " 'p',\n",
       " 'l',\n",
       " 'e']"
      ]
     },
     "execution_count": 10,
     "metadata": {},
     "output_type": "execute_result"
    }
   ],
   "source": [
    "fruits"
   ]
  },
  {
   "cell_type": "code",
   "execution_count": 12,
   "id": "6890114d",
   "metadata": {},
   "outputs": [
    {
     "data": {
      "text/plain": [
       "['apple', 'mango', 'pear', 'cherry', 'pineaple', 'lemon']"
      ]
     },
     "execution_count": 12,
     "metadata": {},
     "output_type": "execute_result"
    }
   ],
   "source": [
    "fruits[4:] = ['pineaple', 'lemon']\n",
    "fruits"
   ]
  },
  {
   "cell_type": "code",
   "execution_count": 13,
   "id": "41f8e600",
   "metadata": {},
   "outputs": [],
   "source": [
    "# 5. Insert item to a particular index using '.insert()'\n",
    "fruits.insert(1, 'carrot')"
   ]
  },
  {
   "cell_type": "code",
   "execution_count": 14,
   "id": "ff451960",
   "metadata": {},
   "outputs": [
    {
     "data": {
      "text/plain": [
       "['apple', 'carrot', 'mango', 'pear', 'cherry', 'pineaple', 'lemon']"
      ]
     },
     "execution_count": 14,
     "metadata": {},
     "output_type": "execute_result"
    }
   ],
   "source": [
    "fruits"
   ]
  },
  {
   "cell_type": "code",
   "execution_count": 15,
   "id": "4247d3f7",
   "metadata": {},
   "outputs": [
    {
     "data": {
      "text/plain": [
       "['apple', 'carrot', 'mango', 'pear', 'cherry', 'pineaple', 'lemon', 'green']"
      ]
     },
     "execution_count": 15,
     "metadata": {},
     "output_type": "execute_result"
    }
   ],
   "source": [
    "# 6 adding items to a list using '.append()'\n",
    "fruits.append('green')\n",
    "fruits"
   ]
  },
  {
   "cell_type": "code",
   "execution_count": 16,
   "id": "ca9ec7ba",
   "metadata": {},
   "outputs": [
    {
     "data": {
      "text/plain": [
       "['apple',\n",
       " 'carrot',\n",
       " 'mango',\n",
       " 'pear',\n",
       " 'cherry',\n",
       " 'pineaple',\n",
       " 'lemon',\n",
       " 'green',\n",
       " 'coconut',\n",
       " 'dates',\n",
       " 'cherry']"
      ]
     },
     "execution_count": 16,
     "metadata": {},
     "output_type": "execute_result"
    }
   ],
   "source": [
    "# 7. adding a list to a list using '.extend()'\n",
    "fruits.extend(['coconut', 'dates', 'cherry'])\n",
    "fruits"
   ]
  },
  {
   "cell_type": "code",
   "execution_count": 17,
   "id": "3e82f46f",
   "metadata": {},
   "outputs": [
    {
     "data": {
      "text/plain": [
       "['apple',\n",
       " 'carrot',\n",
       " 'mango',\n",
       " 'pear',\n",
       " 'cherry',\n",
       " 'pineaple',\n",
       " 'lemon',\n",
       " 'coconut',\n",
       " 'dates',\n",
       " 'cherry']"
      ]
     },
     "execution_count": 17,
     "metadata": {},
     "output_type": "execute_result"
    }
   ],
   "source": [
    "# 8. Removing item from a list\n",
    "\n",
    "fruits.remove('green')\n",
    "fruits"
   ]
  },
  {
   "cell_type": "code",
   "execution_count": 18,
   "id": "7867eafa",
   "metadata": {},
   "outputs": [
    {
     "data": {
      "text/plain": [
       "'cherry'"
      ]
     },
     "execution_count": 18,
     "metadata": {},
     "output_type": "execute_result"
    }
   ],
   "source": [
    "# 9. removing item using index\n",
    "fruits[4]"
   ]
  },
  {
   "cell_type": "code",
   "execution_count": 19,
   "id": "af07ce9a",
   "metadata": {},
   "outputs": [
    {
     "data": {
      "text/plain": [
       "['apple',\n",
       " 'carrot',\n",
       " 'mango',\n",
       " 'pear',\n",
       " 'pineaple',\n",
       " 'lemon',\n",
       " 'coconut',\n",
       " 'dates',\n",
       " 'cherry']"
      ]
     },
     "execution_count": 19,
     "metadata": {},
     "output_type": "execute_result"
    }
   ],
   "source": [
    "fruits.pop(4)\n",
    "fruits"
   ]
  },
  {
   "cell_type": "code",
   "execution_count": 20,
   "id": "90ca1bfd",
   "metadata": {},
   "outputs": [
    {
     "data": {
      "text/plain": [
       "['apple',\n",
       " 'carrot',\n",
       " 'cherry',\n",
       " 'coconut',\n",
       " 'dates',\n",
       " 'lemon',\n",
       " 'mango',\n",
       " 'pear',\n",
       " 'pineaple']"
      ]
     },
     "execution_count": 20,
     "metadata": {},
     "output_type": "execute_result"
    }
   ],
   "source": [
    "# 10 Sorting List\n",
    "\n",
    "fruits.sort()\n",
    "fruits"
   ]
  },
  {
   "cell_type": "code",
   "execution_count": 22,
   "id": "fc60dbb4",
   "metadata": {},
   "outputs": [
    {
     "data": {
      "text/plain": [
       "['pineaple',\n",
       " 'pear',\n",
       " 'mango',\n",
       " 'lemon',\n",
       " 'dates',\n",
       " 'coconut',\n",
       " 'cherry',\n",
       " 'carrot',\n",
       " 'apple']"
      ]
     },
     "execution_count": 22,
     "metadata": {},
     "output_type": "execute_result"
    }
   ],
   "source": [
    "fruits.sort(reverse=True)\n",
    "fruits"
   ]
  },
  {
   "cell_type": "code",
   "execution_count": 23,
   "id": "1d41738b",
   "metadata": {},
   "outputs": [
    {
     "data": {
      "text/plain": [
       "[]"
      ]
     },
     "execution_count": 23,
     "metadata": {},
     "output_type": "execute_result"
    }
   ],
   "source": [
    "# 11. Clear List\n",
    "fruits.clear()\n",
    "fruits"
   ]
  },
  {
   "cell_type": "code",
   "execution_count": 24,
   "id": "fbe9de62",
   "metadata": {},
   "outputs": [
    {
     "ename": "NameError",
     "evalue": "name 'fruits' is not defined",
     "output_type": "error",
     "traceback": [
      "\u001b[1;31m---------------------------------------------------------------------------\u001b[0m",
      "\u001b[1;31mNameError\u001b[0m                                 Traceback (most recent call last)",
      "Cell \u001b[1;32mIn[24], line 4\u001b[0m\n\u001b[0;32m      1\u001b[0m \u001b[38;5;66;03m# delete variable\u001b[39;00m\n\u001b[0;32m      2\u001b[0m \u001b[38;5;28;01mdel\u001b[39;00m fruits\n\u001b[1;32m----> 4\u001b[0m \u001b[43mfruits\u001b[49m\n",
      "\u001b[1;31mNameError\u001b[0m: name 'fruits' is not defined"
     ]
    }
   ],
   "source": [
    "# delete variable\n",
    "del fruits\n",
    "\n",
    "fruits"
   ]
  },
  {
   "cell_type": "code",
   "execution_count": null,
   "id": "97125a53",
   "metadata": {},
   "outputs": [],
   "source": []
  },
  {
   "cell_type": "code",
   "execution_count": null,
   "id": "c80f9ef5",
   "metadata": {},
   "outputs": [],
   "source": []
  }
 ],
 "metadata": {
  "kernelspec": {
   "display_name": "Python 3 (ipykernel)",
   "language": "python",
   "name": "python3"
  },
  "language_info": {
   "codemirror_mode": {
    "name": "ipython",
    "version": 3
   },
   "file_extension": ".py",
   "mimetype": "text/x-python",
   "name": "python",
   "nbconvert_exporter": "python",
   "pygments_lexer": "ipython3",
   "version": "3.9.13"
  }
 },
 "nbformat": 4,
 "nbformat_minor": 5
}
