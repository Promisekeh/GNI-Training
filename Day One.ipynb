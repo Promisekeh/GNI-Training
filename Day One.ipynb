{
 "cells": [
  {
   "cell_type": "markdown",
   "id": "1ffce9c3",
   "metadata": {},
   "source": [
    "# Python Training for Data Visualization"
   ]
  },
  {
   "cell_type": "markdown",
   "id": "4bbf75bd",
   "metadata": {},
   "source": [
    "## Introduction"
   ]
  },
  {
   "cell_type": "code",
   "execution_count": 16,
   "id": "d2f52a90",
   "metadata": {},
   "outputs": [
    {
     "data": {
      "text/html": [
       "\n",
       "        <iframe\n",
       "            width=\"640\"\n",
       "            height=\"360\"\n",
       "            src=\"https://www.youtube.com/embed/w6BrW9CDknM?si=x0Y9OzUcSYIX2r4R\"\n",
       "            frameborder=\"0\"\n",
       "            allowfullscreen\n",
       "            \n",
       "        ></iframe>\n",
       "        "
      ],
      "text/plain": [
       "<IPython.lib.display.IFrame at 0x1f5c663d3a0>"
      ]
     },
     "metadata": {},
     "output_type": "display_data"
    }
   ],
   "source": [
    "from IPython.display import IFrame\n",
    "display(IFrame('https://www.youtube.com/embed/w6BrW9CDknM?si=x0Y9OzUcSYIX2r4R', width = 640, height = 360))"
   ]
  },
  {
   "cell_type": "markdown",
   "id": "c258c0ea",
   "metadata": {},
   "source": [
    "## Learning a language\n",
    "\n",
    "* Terms\n",
    "* data types \n",
    "* Actions\n",
    "* best practices"
   ]
  },
  {
   "cell_type": "markdown",
   "id": "8fc92569",
   "metadata": {},
   "source": [
    "# terms in a language\n",
    "## variables\n",
    "\n",
    "* Variables are containers used to store information\n",
    "* Assigning/creating a variable is also called 'Variable Declaration'\n",
    "* Variables are created using euqal to sign '='\n",
    "* You can use letters, digits & underscore in variable names\n",
    "* it is case sensistive\n",
    "* Variables can be overwritten\n",
    "\n",
    "\n",
    "* A variable name must start with a letter or the underscore character\n",
    "* A variable name cannot start with a number\n",
    "* A variable name can only contain alpha-numeric characters and underscores (A-z, 0-9, and _ )\n",
    "* Variable names are case-sensitive (age, Age and AGE are three different variables)\n",
    "* Variable names connot contain spaces or hypens"
   ]
  },
  {
   "cell_type": "code",
   "execution_count": 1,
   "id": "3bfe2888",
   "metadata": {},
   "outputs": [],
   "source": [
    "x = 5"
   ]
  },
  {
   "cell_type": "code",
   "execution_count": 2,
   "id": "b04c31f8",
   "metadata": {},
   "outputs": [
    {
     "name": "stdout",
     "output_type": "stream",
     "text": [
      "5\n"
     ]
    }
   ],
   "source": [
    "print(x)"
   ]
  },
  {
   "cell_type": "code",
   "execution_count": 3,
   "id": "172ea1ac",
   "metadata": {},
   "outputs": [],
   "source": [
    "name1 = 'promise'"
   ]
  },
  {
   "cell_type": "code",
   "execution_count": 4,
   "id": "96728e0f",
   "metadata": {},
   "outputs": [
    {
     "data": {
      "text/plain": [
       "'promise'"
      ]
     },
     "execution_count": 4,
     "metadata": {},
     "output_type": "execute_result"
    }
   ],
   "source": [
    "name1"
   ]
  },
  {
   "cell_type": "code",
   "execution_count": 7,
   "id": "e8b6a79c",
   "metadata": {},
   "outputs": [
    {
     "data": {
      "text/plain": [
       "'promise'"
      ]
     },
     "execution_count": 7,
     "metadata": {},
     "output_type": "execute_result"
    }
   ],
   "source": [
    "name1"
   ]
  },
  {
   "cell_type": "code",
   "execution_count": 8,
   "id": "0f7f97ac",
   "metadata": {},
   "outputs": [
    {
     "data": {
      "text/plain": [
       "5"
      ]
     },
     "execution_count": 8,
     "metadata": {},
     "output_type": "execute_result"
    }
   ],
   "source": [
    "x"
   ]
  },
  {
   "cell_type": "code",
   "execution_count": 9,
   "id": "4c3aeaa1",
   "metadata": {},
   "outputs": [],
   "source": [
    "x= 8"
   ]
  },
  {
   "cell_type": "code",
   "execution_count": 10,
   "id": "514b15a3",
   "metadata": {},
   "outputs": [
    {
     "data": {
      "text/plain": [
       "8"
      ]
     },
     "execution_count": 10,
     "metadata": {},
     "output_type": "execute_result"
    }
   ],
   "source": [
    "x"
   ]
  },
  {
   "cell_type": "markdown",
   "id": "a926a55d",
   "metadata": {},
   "source": [
    " Camel case"
   ]
  },
  {
   "cell_type": "code",
   "execution_count": 11,
   "id": "c336462a",
   "metadata": {},
   "outputs": [],
   "source": [
    "myVariableName = 7"
   ]
  },
  {
   "cell_type": "code",
   "execution_count": 1,
   "id": "c14509fe",
   "metadata": {},
   "outputs": [
    {
     "ename": "NameError",
     "evalue": "name 'myVariableName' is not defined",
     "output_type": "error",
     "traceback": [
      "\u001b[1;31m---------------------------------------------------------------------------\u001b[0m",
      "\u001b[1;31mNameError\u001b[0m                                 Traceback (most recent call last)",
      "\u001b[1;32m~\\AppData\\Local\\Temp\\ipykernel_39124\\3540129837.py\u001b[0m in \u001b[0;36m<module>\u001b[1;34m\u001b[0m\n\u001b[1;32m----> 1\u001b[1;33m \u001b[0mmyVariableName\u001b[0m\u001b[1;33m\u001b[0m\u001b[1;33m\u001b[0m\u001b[0m\n\u001b[0m",
      "\u001b[1;31mNameError\u001b[0m: name 'myVariableName' is not defined"
     ]
    }
   ],
   "source": [
    "myVariableName"
   ]
  },
  {
   "cell_type": "markdown",
   "id": "b04ecc46",
   "metadata": {},
   "source": [
    "Paschal Case"
   ]
  },
  {
   "cell_type": "code",
   "execution_count": 13,
   "id": "97feddf4",
   "metadata": {},
   "outputs": [],
   "source": [
    "MyVariableName = 6"
   ]
  },
  {
   "cell_type": "markdown",
   "id": "e59737a0",
   "metadata": {},
   "source": [
    "Snake"
   ]
  },
  {
   "cell_type": "code",
   "execution_count": null,
   "id": "d90025d2",
   "metadata": {},
   "outputs": [],
   "source": [
    "my_variable_name = "
   ]
  },
  {
   "cell_type": "code",
   "execution_count": null,
   "id": "7d7a23bb",
   "metadata": {},
   "outputs": [],
   "source": [
    "my_variable_name = "
   ]
  },
  {
   "cell_type": "code",
   "execution_count": null,
   "id": "2e1cbbeb",
   "metadata": {},
   "outputs": [],
   "source": [
    "# Right way of writing a variable\n",
    "myvar = \"Promise\"\n",
    "my_var = \"Promise\"\n",
    "_my_var = \"Promise\"\n",
    "myVar = \"Promise\"\n",
    "MYVAR = \"Promise\"\n",
    "myvar2 = \"Promise\""
   ]
  },
  {
   "cell_type": "code",
   "execution_count": null,
   "id": "0a70b69e",
   "metadata": {},
   "outputs": [],
   "source": [
    "# Wrong Ways\n",
    "2myvar = \"Promise\"\n",
    "my-var = \"Promise\"\n",
    "my var = \"Promise\""
   ]
  },
  {
   "cell_type": "markdown",
   "id": "8d7f84e8",
   "metadata": {},
   "source": [
    "## Commenting "
   ]
  },
  {
   "cell_type": "code",
   "execution_count": 3,
   "id": "a49a0bc5",
   "metadata": {},
   "outputs": [],
   "source": [
    "# commenting"
   ]
  },
  {
   "cell_type": "markdown",
   "id": "8798f5cb",
   "metadata": {},
   "source": [
    "## data types\n",
    "* Integers\n",
    "* Floats\n",
    "* Strings\n",
    "* Booleans"
   ]
  },
  {
   "cell_type": "code",
   "execution_count": 4,
   "id": "f137b291",
   "metadata": {},
   "outputs": [
    {
     "name": "stdout",
     "output_type": "stream",
     "text": [
      "<class 'int'>\n"
     ]
    }
   ],
   "source": [
    "# Intergers are whole numbers\n",
    "x = 5\n",
    "print(type(x))"
   ]
  },
  {
   "cell_type": "code",
   "execution_count": 5,
   "id": "96608ba5",
   "metadata": {},
   "outputs": [
    {
     "name": "stdout",
     "output_type": "stream",
     "text": [
      "<class 'float'>\n"
     ]
    }
   ],
   "source": [
    "# Floats are decimals\n",
    "y = 5.0\n",
    "print(type(y))"
   ]
  },
  {
   "cell_type": "code",
   "execution_count": 6,
   "id": "d977f897",
   "metadata": {},
   "outputs": [
    {
     "data": {
      "text/plain": [
       "5.0"
      ]
     },
     "execution_count": 6,
     "metadata": {},
     "output_type": "execute_result"
    }
   ],
   "source": [
    "float(x)"
   ]
  },
  {
   "cell_type": "code",
   "execution_count": 8,
   "id": "8eae97f6",
   "metadata": {},
   "outputs": [],
   "source": [
    "my_name = 'promise'"
   ]
  },
  {
   "cell_type": "code",
   "execution_count": 9,
   "id": "d5f04f78",
   "metadata": {},
   "outputs": [
    {
     "data": {
      "text/plain": [
       "str"
      ]
     },
     "execution_count": 9,
     "metadata": {},
     "output_type": "execute_result"
    }
   ],
   "source": [
    "type(my_name)"
   ]
  },
  {
   "cell_type": "code",
   "execution_count": 10,
   "id": "cef551c5",
   "metadata": {},
   "outputs": [
    {
     "data": {
      "text/plain": [
       "str"
      ]
     },
     "execution_count": 10,
     "metadata": {},
     "output_type": "execute_result"
    }
   ],
   "source": [
    "name = \"Promise\"\n",
    "type(name)"
   ]
  },
  {
   "cell_type": "code",
   "execution_count": 11,
   "id": "f46a9427",
   "metadata": {},
   "outputs": [
    {
     "data": {
      "text/plain": [
       "7"
      ]
     },
     "execution_count": 11,
     "metadata": {},
     "output_type": "execute_result"
    }
   ],
   "source": [
    "len(name)"
   ]
  },
  {
   "cell_type": "code",
   "execution_count": 12,
   "id": "dd95e9ec",
   "metadata": {},
   "outputs": [
    {
     "data": {
      "text/plain": [
       "bool"
      ]
     },
     "execution_count": 12,
     "metadata": {},
     "output_type": "execute_result"
    }
   ],
   "source": [
    "y = True\n",
    "type(y)"
   ]
  },
  {
   "cell_type": "code",
   "execution_count": 13,
   "id": "d356f8eb",
   "metadata": {},
   "outputs": [
    {
     "data": {
      "text/plain": [
       "bool"
      ]
     },
     "execution_count": 13,
     "metadata": {},
     "output_type": "execute_result"
    }
   ],
   "source": [
    "z = False\n",
    "type(z)"
   ]
  },
  {
   "cell_type": "code",
   "execution_count": 14,
   "id": "643011b9",
   "metadata": {},
   "outputs": [
    {
     "data": {
      "text/plain": [
       "'Promise'"
      ]
     },
     "execution_count": 14,
     "metadata": {},
     "output_type": "execute_result"
    }
   ],
   "source": [
    "name"
   ]
  },
  {
   "cell_type": "code",
   "execution_count": 16,
   "id": "6044124e",
   "metadata": {},
   "outputs": [
    {
     "data": {
      "text/plain": [
       "True"
      ]
     },
     "execution_count": 16,
     "metadata": {},
     "output_type": "execute_result"
    }
   ],
   "source": [
    "'r' in name"
   ]
  },
  {
   "cell_type": "code",
   "execution_count": 18,
   "id": "2c212443",
   "metadata": {},
   "outputs": [
    {
     "data": {
      "text/plain": [
       "True"
      ]
     },
     "execution_count": 18,
     "metadata": {},
     "output_type": "execute_result"
    }
   ],
   "source": [
    "'P' in name"
   ]
  },
  {
   "cell_type": "code",
   "execution_count": 19,
   "id": "1f9c907f",
   "metadata": {},
   "outputs": [
    {
     "data": {
      "text/plain": [
       "True"
      ]
     },
     "execution_count": 19,
     "metadata": {},
     "output_type": "execute_result"
    }
   ],
   "source": [
    "'p' not in name"
   ]
  },
  {
   "cell_type": "code",
   "execution_count": 20,
   "id": "0bb49e78",
   "metadata": {},
   "outputs": [],
   "source": [
    "surname = 'Ekeh'"
   ]
  },
  {
   "cell_type": "code",
   "execution_count": 23,
   "id": "27fb4927",
   "metadata": {},
   "outputs": [
    {
     "data": {
      "text/plain": [
       "'Promise Ekeh'"
      ]
     },
     "execution_count": 23,
     "metadata": {},
     "output_type": "execute_result"
    }
   ],
   "source": [
    "full_name = name + ' ' + 'Ekeh'\n",
    "full_name"
   ]
  },
  {
   "cell_type": "code",
   "execution_count": 26,
   "id": "033bc38e",
   "metadata": {},
   "outputs": [],
   "source": [
    "name = name.upper()"
   ]
  },
  {
   "cell_type": "code",
   "execution_count": 28,
   "id": "881e3338",
   "metadata": {},
   "outputs": [
    {
     "data": {
      "text/plain": [
       "'promise'"
      ]
     },
     "execution_count": 28,
     "metadata": {},
     "output_type": "execute_result"
    }
   ],
   "source": [
    "name.lower()"
   ]
  },
  {
   "cell_type": "code",
   "execution_count": 30,
   "id": "7ca466b7",
   "metadata": {},
   "outputs": [
    {
     "data": {
      "text/plain": [
       "'tROMISE'"
      ]
     },
     "execution_count": 30,
     "metadata": {},
     "output_type": "execute_result"
    }
   ],
   "source": [
    "name.replace('P', 't')"
   ]
  },
  {
   "cell_type": "markdown",
   "id": "f15e3d6c",
   "metadata": {},
   "source": [
    "# Indexing"
   ]
  },
  {
   "cell_type": "code",
   "execution_count": 18,
   "id": "78d438a4",
   "metadata": {},
   "outputs": [
    {
     "data": {
      "text/html": [
       "<iframe width=\"560\" height=\"315\" \n",
       "        src=\"https://www.youtube-nocookie.com/embed/JPJfj1YgLYQ?si=rXaQhqN54ONFTnx4\" \n",
       "        </iframe>\n"
      ],
      "text/plain": [
       "<IPython.core.display.HTML object>"
      ]
     },
     "metadata": {},
     "output_type": "display_data"
    }
   ],
   "source": [
    "%%HTML\n",
    "<iframe width=\"560\" height=\"315\" \n",
    "        src=\"https://www.youtube-nocookie.com/embed/JPJfj1YgLYQ?si=rXaQhqN54ONFTnx4\" \n",
    "        </iframe>"
   ]
  },
  {
   "cell_type": "code",
   "execution_count": 31,
   "id": "70df7639",
   "metadata": {},
   "outputs": [
    {
     "data": {
      "text/plain": [
       "'PROMISE'"
      ]
     },
     "execution_count": 31,
     "metadata": {},
     "output_type": "execute_result"
    }
   ],
   "source": [
    "name"
   ]
  },
  {
   "cell_type": "code",
   "execution_count": 35,
   "id": "56d5632f",
   "metadata": {},
   "outputs": [
    {
     "data": {
      "text/plain": [
       "'O'"
      ]
     },
     "execution_count": 35,
     "metadata": {},
     "output_type": "execute_result"
    }
   ],
   "source": [
    "name[2]"
   ]
  },
  {
   "cell_type": "code",
   "execution_count": 38,
   "id": "f794dda2",
   "metadata": {},
   "outputs": [
    {
     "data": {
      "text/plain": [
       "'P'"
      ]
     },
     "execution_count": 38,
     "metadata": {},
     "output_type": "execute_result"
    }
   ],
   "source": [
    "name[-7]"
   ]
  },
  {
   "cell_type": "code",
   "execution_count": 39,
   "id": "5536d586",
   "metadata": {},
   "outputs": [
    {
     "data": {
      "text/plain": [
       "'OMIS'"
      ]
     },
     "execution_count": 39,
     "metadata": {},
     "output_type": "execute_result"
    }
   ],
   "source": [
    "name[2:6]"
   ]
  },
  {
   "cell_type": "code",
   "execution_count": 40,
   "id": "a1517ebe",
   "metadata": {},
   "outputs": [
    {
     "data": {
      "text/plain": [
       "'PROMIS'"
      ]
     },
     "execution_count": 40,
     "metadata": {},
     "output_type": "execute_result"
    }
   ],
   "source": [
    "name[0:6]"
   ]
  },
  {
   "cell_type": "code",
   "execution_count": 41,
   "id": "99929e8c",
   "metadata": {},
   "outputs": [
    {
     "data": {
      "text/plain": [
       "'PROMIS'"
      ]
     },
     "execution_count": 41,
     "metadata": {},
     "output_type": "execute_result"
    }
   ],
   "source": [
    "name[:6]"
   ]
  },
  {
   "cell_type": "code",
   "execution_count": 42,
   "id": "b3278d5c",
   "metadata": {},
   "outputs": [
    {
     "data": {
      "text/plain": [
       "'OMISE'"
      ]
     },
     "execution_count": 42,
     "metadata": {},
     "output_type": "execute_result"
    }
   ],
   "source": [
    "name[2:]"
   ]
  },
  {
   "cell_type": "code",
   "execution_count": 43,
   "id": "fd5b2ca7",
   "metadata": {},
   "outputs": [
    {
     "data": {
      "text/plain": [
       "'OMISE'"
      ]
     },
     "execution_count": 43,
     "metadata": {},
     "output_type": "execute_result"
    }
   ],
   "source": [
    "name[-5:]"
   ]
  },
  {
   "cell_type": "markdown",
   "id": "b8eebaaf",
   "metadata": {},
   "source": [
    "# Data Structure"
   ]
  },
  {
   "cell_type": "markdown",
   "id": "baebe690",
   "metadata": {},
   "source": [
    "* List\n",
    "* Tupe\n",
    "* sets\n",
    "* Dictionary"
   ]
  },
  {
   "cell_type": "code",
   "execution_count": 44,
   "id": "a5fa1909",
   "metadata": {},
   "outputs": [
    {
     "data": {
      "text/plain": [
       "list"
      ]
     },
     "execution_count": 44,
     "metadata": {},
     "output_type": "execute_result"
    }
   ],
   "source": [
    "# List\n",
    "my_list = [1, 2, 3, 4, 5, 6, 7]\n",
    "type(my_list)"
   ]
  },
  {
   "cell_type": "code",
   "execution_count": 60,
   "id": "6240c519",
   "metadata": {},
   "outputs": [
    {
     "data": {
      "text/plain": [
       "list"
      ]
     },
     "execution_count": 60,
     "metadata": {},
     "output_type": "execute_result"
    }
   ],
   "source": [
    "my_list = [1, 2.4, 'dog', True, 'pen']\n",
    "type(my_list)"
   ]
  },
  {
   "cell_type": "code",
   "execution_count": 46,
   "id": "2aa749fb",
   "metadata": {},
   "outputs": [],
   "source": [
    "my_ext= [1, 2.3, name, my_list, [4, 5, 6]]"
   ]
  },
  {
   "cell_type": "code",
   "execution_count": 47,
   "id": "d12914c0",
   "metadata": {},
   "outputs": [
    {
     "data": {
      "text/plain": [
       "[1, 2.3, 'PROMISE', [1, 2.4, 'dog', True, 'pen'], [4, 5, 6]]"
      ]
     },
     "execution_count": 47,
     "metadata": {},
     "output_type": "execute_result"
    }
   ],
   "source": [
    "my_ext"
   ]
  },
  {
   "cell_type": "code",
   "execution_count": 48,
   "id": "d5a6d7c1",
   "metadata": {},
   "outputs": [
    {
     "data": {
      "text/plain": [
       "5"
      ]
     },
     "execution_count": 48,
     "metadata": {},
     "output_type": "execute_result"
    }
   ],
   "source": [
    "len(my_ext)"
   ]
  },
  {
   "cell_type": "code",
   "execution_count": 81,
   "id": "d2bef6c3",
   "metadata": {},
   "outputs": [],
   "source": [
    "new_list = [1, 2.3, name] + my_list + [4, 5, 6] + ['promise']"
   ]
  },
  {
   "cell_type": "code",
   "execution_count": 52,
   "id": "05feff4b",
   "metadata": {},
   "outputs": [
    {
     "data": {
      "text/plain": [
       "11"
      ]
     },
     "execution_count": 52,
     "metadata": {},
     "output_type": "execute_result"
    }
   ],
   "source": [
    "len(new_list)"
   ]
  },
  {
   "cell_type": "code",
   "execution_count": 73,
   "id": "8a5215ab",
   "metadata": {},
   "outputs": [
    {
     "data": {
      "text/plain": [
       "['goat']"
      ]
     },
     "execution_count": 73,
     "metadata": {},
     "output_type": "execute_result"
    }
   ],
   "source": [
    "new_list"
   ]
  },
  {
   "cell_type": "code",
   "execution_count": 74,
   "id": "8a73c436",
   "metadata": {},
   "outputs": [
    {
     "data": {
      "text/plain": [
       "[1, 2.4, 'dog', True, 'pen']"
      ]
     },
     "execution_count": 74,
     "metadata": {},
     "output_type": "execute_result"
    }
   ],
   "source": [
    "my_list"
   ]
  },
  {
   "cell_type": "code",
   "execution_count": 55,
   "id": "025924fa",
   "metadata": {},
   "outputs": [],
   "source": [
    "my_list.extend(my_ext)"
   ]
  },
  {
   "cell_type": "code",
   "execution_count": 62,
   "id": "6c6334c6",
   "metadata": {},
   "outputs": [],
   "source": [
    "new_list.extend(my_list)"
   ]
  },
  {
   "cell_type": "code",
   "execution_count": 64,
   "id": "49db1e1f",
   "metadata": {},
   "outputs": [],
   "source": [
    "new_list = []"
   ]
  },
  {
   "cell_type": "code",
   "execution_count": 65,
   "id": "2eff5e9c",
   "metadata": {},
   "outputs": [
    {
     "data": {
      "text/plain": [
       "[]"
      ]
     },
     "execution_count": 65,
     "metadata": {},
     "output_type": "execute_result"
    }
   ],
   "source": [
    "new_list"
   ]
  },
  {
   "cell_type": "code",
   "execution_count": 69,
   "id": "02fb3c8b",
   "metadata": {},
   "outputs": [],
   "source": [
    "new_list.append('goat')"
   ]
  },
  {
   "cell_type": "code",
   "execution_count": 71,
   "id": "2ac93ffe",
   "metadata": {},
   "outputs": [],
   "source": [
    "new_list.remove('cat')"
   ]
  },
  {
   "cell_type": "code",
   "execution_count": 75,
   "id": "ee85f42d",
   "metadata": {},
   "outputs": [
    {
     "data": {
      "text/plain": [
       "[1, 2.4, 'dog', True, 'pen']"
      ]
     },
     "execution_count": 75,
     "metadata": {},
     "output_type": "execute_result"
    }
   ],
   "source": [
    "my_list"
   ]
  },
  {
   "cell_type": "code",
   "execution_count": 77,
   "id": "c94cce3a",
   "metadata": {},
   "outputs": [
    {
     "data": {
      "text/plain": [
       "'dog'"
      ]
     },
     "execution_count": 77,
     "metadata": {},
     "output_type": "execute_result"
    }
   ],
   "source": [
    "my_list[2]"
   ]
  },
  {
   "cell_type": "code",
   "execution_count": 78,
   "id": "57b5fdb3",
   "metadata": {},
   "outputs": [
    {
     "data": {
      "text/plain": [
       "'dog'"
      ]
     },
     "execution_count": 78,
     "metadata": {},
     "output_type": "execute_result"
    }
   ],
   "source": [
    "my_list.pop(2)"
   ]
  },
  {
   "cell_type": "code",
   "execution_count": 82,
   "id": "df1b3ed6",
   "metadata": {},
   "outputs": [],
   "source": [
    "my_list = ['cat', 'dog', 'bat']"
   ]
  },
  {
   "cell_type": "code",
   "execution_count": 83,
   "id": "440e0949",
   "metadata": {},
   "outputs": [
    {
     "data": {
      "text/plain": [
       "['cat', 'dog', 'bat']"
      ]
     },
     "execution_count": 83,
     "metadata": {},
     "output_type": "execute_result"
    }
   ],
   "source": [
    "my_list"
   ]
  },
  {
   "cell_type": "code",
   "execution_count": 86,
   "id": "cfb060f3",
   "metadata": {},
   "outputs": [
    {
     "data": {
      "text/plain": [
       "['dog', 'cat', 'bat']"
      ]
     },
     "execution_count": 86,
     "metadata": {},
     "output_type": "execute_result"
    }
   ],
   "source": [
    "my_list.sort(reverse=True)\n",
    "my_list"
   ]
  },
  {
   "cell_type": "code",
   "execution_count": 87,
   "id": "d238e7c7",
   "metadata": {},
   "outputs": [],
   "source": [
    "# Tuple"
   ]
  },
  {
   "cell_type": "code",
   "execution_count": 90,
   "id": "8cfa8fc1",
   "metadata": {},
   "outputs": [],
   "source": [
    " my_tuple = (2, 3, 5, 6, 'cat')"
   ]
  },
  {
   "cell_type": "code",
   "execution_count": 91,
   "id": "81ab1258",
   "metadata": {},
   "outputs": [
    {
     "data": {
      "text/plain": [
       "tuple"
      ]
     },
     "execution_count": 91,
     "metadata": {},
     "output_type": "execute_result"
    }
   ],
   "source": [
    "type(my_tuple)"
   ]
  },
  {
   "cell_type": "code",
   "execution_count": 92,
   "id": "49b6c40c",
   "metadata": {},
   "outputs": [
    {
     "data": {
      "text/plain": [
       "(2, 3, 5, 6, 'cat')"
      ]
     },
     "execution_count": 92,
     "metadata": {},
     "output_type": "execute_result"
    }
   ],
   "source": [
    "my_tuple"
   ]
  },
  {
   "cell_type": "code",
   "execution_count": 94,
   "id": "bce4331c",
   "metadata": {},
   "outputs": [
    {
     "data": {
      "text/plain": [
       "'cat'"
      ]
     },
     "execution_count": 94,
     "metadata": {},
     "output_type": "execute_result"
    }
   ],
   "source": [
    "my_tuple[-1]"
   ]
  },
  {
   "cell_type": "code",
   "execution_count": 95,
   "id": "03f32d87",
   "metadata": {},
   "outputs": [
    {
     "data": {
      "text/plain": [
       "5"
      ]
     },
     "execution_count": 95,
     "metadata": {},
     "output_type": "execute_result"
    }
   ],
   "source": [
    "len(my_tuple)"
   ]
  },
  {
   "cell_type": "code",
   "execution_count": 96,
   "id": "9189f71d",
   "metadata": {},
   "outputs": [
    {
     "data": {
      "text/plain": [
       "['dog', 'cat', 'bat']"
      ]
     },
     "execution_count": 96,
     "metadata": {},
     "output_type": "execute_result"
    }
   ],
   "source": [
    "my_list"
   ]
  },
  {
   "cell_type": "code",
   "execution_count": 99,
   "id": "d165dd11",
   "metadata": {},
   "outputs": [],
   "source": [
    "x = list(my_list)"
   ]
  },
  {
   "cell_type": "code",
   "execution_count": 100,
   "id": "b336d143",
   "metadata": {},
   "outputs": [
    {
     "data": {
      "text/plain": [
       "list"
      ]
     },
     "execution_count": 100,
     "metadata": {},
     "output_type": "execute_result"
    }
   ],
   "source": [
    "type(x)"
   ]
  },
  {
   "cell_type": "code",
   "execution_count": 105,
   "id": "07c40e86",
   "metadata": {},
   "outputs": [],
   "source": [
    "my_set = {'cat', 'dog', 2.4, 5, 7, 'cat'}"
   ]
  },
  {
   "cell_type": "code",
   "execution_count": 102,
   "id": "2c52c459",
   "metadata": {},
   "outputs": [
    {
     "data": {
      "text/plain": [
       "set"
      ]
     },
     "execution_count": 102,
     "metadata": {},
     "output_type": "execute_result"
    }
   ],
   "source": [
    "type(my_set)"
   ]
  },
  {
   "cell_type": "code",
   "execution_count": 107,
   "id": "f97ceb71",
   "metadata": {},
   "outputs": [
    {
     "data": {
      "text/plain": [
       "5"
      ]
     },
     "execution_count": 107,
     "metadata": {},
     "output_type": "execute_result"
    }
   ],
   "source": [
    "len(my_set)"
   ]
  },
  {
   "cell_type": "code",
   "execution_count": 108,
   "id": "fe4c6377",
   "metadata": {},
   "outputs": [],
   "source": [
    "my_set.update({'toyota'})"
   ]
  },
  {
   "cell_type": "code",
   "execution_count": 110,
   "id": "6409a3c9",
   "metadata": {},
   "outputs": [],
   "source": [
    "my_set.add('benz')"
   ]
  },
  {
   "cell_type": "code",
   "execution_count": 111,
   "id": "15c08093",
   "metadata": {},
   "outputs": [
    {
     "data": {
      "text/plain": [
       "{2.4, 5, 7, 'benz', 'cat', 'dog', 'toyota'}"
      ]
     },
     "execution_count": 111,
     "metadata": {},
     "output_type": "execute_result"
    }
   ],
   "source": [
    "my_set"
   ]
  },
  {
   "cell_type": "code",
   "execution_count": 112,
   "id": "ff2bd316",
   "metadata": {},
   "outputs": [],
   "source": [
    "my_set.clear()"
   ]
  },
  {
   "cell_type": "code",
   "execution_count": 113,
   "id": "7dd2f36f",
   "metadata": {},
   "outputs": [
    {
     "data": {
      "text/plain": [
       "set()"
      ]
     },
     "execution_count": 113,
     "metadata": {},
     "output_type": "execute_result"
    }
   ],
   "source": [
    "my_set"
   ]
  },
  {
   "cell_type": "code",
   "execution_count": 117,
   "id": "53573226",
   "metadata": {},
   "outputs": [],
   "source": [
    "# Dictionary\n",
    "my_dict = {0: 'Promise',\n",
    "    1: 'Nigeria',\n",
    "           'hobbies': [' chess', 'travels', 'teach']}"
   ]
  },
  {
   "cell_type": "code",
   "execution_count": 118,
   "id": "f3103cbf",
   "metadata": {},
   "outputs": [
    {
     "data": {
      "text/plain": [
       "{0: 'Promise', 1: 'Nigeria', 'hobbies': [' chess', 'travels', 'teach']}"
      ]
     },
     "execution_count": 118,
     "metadata": {},
     "output_type": "execute_result"
    }
   ],
   "source": [
    "my_dict"
   ]
  },
  {
   "cell_type": "code",
   "execution_count": null,
   "id": "7575d56c",
   "metadata": {},
   "outputs": [],
   "source": []
  }
 ],
 "metadata": {
  "kernelspec": {
   "display_name": "Python 3 (ipykernel)",
   "language": "python",
   "name": "python3"
  },
  "language_info": {
   "codemirror_mode": {
    "name": "ipython",
    "version": 3
   },
   "file_extension": ".py",
   "mimetype": "text/x-python",
   "name": "python",
   "nbconvert_exporter": "python",
   "pygments_lexer": "ipython3",
   "version": "3.12.2"
  }
 },
 "nbformat": 4,
 "nbformat_minor": 5
}
